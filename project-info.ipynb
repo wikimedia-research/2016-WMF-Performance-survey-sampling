{
 "cells": [
  {
   "cell_type": "markdown",
   "metadata": {},
   "source": [
    "# Generate list of project domains"
   ]
  },
  {
   "cell_type": "code",
   "execution_count": 3,
   "metadata": {
    "collapsed": false
   },
   "outputs": [
    {
     "data": {
      "text/html": [
       "<div>\n",
       "<table border=\"1\" class=\"dataframe\">\n",
       "  <thead>\n",
       "    <tr style=\"text-align: right;\">\n",
       "      <th></th>\n",
       "      <th>project_key</th>\n",
       "      <th>project_domain</th>\n",
       "    </tr>\n",
       "  </thead>\n",
       "  <tbody>\n",
       "    <tr>\n",
       "      <th>0</th>\n",
       "      <td>aawiki</td>\n",
       "      <td>aa.wikipedia.org</td>\n",
       "    </tr>\n",
       "    <tr>\n",
       "      <th>1</th>\n",
       "      <td>aawiktionary</td>\n",
       "      <td>aa.wiktionary.org</td>\n",
       "    </tr>\n",
       "    <tr>\n",
       "      <th>2</th>\n",
       "      <td>aawikibooks</td>\n",
       "      <td>aa.wikibooks.org</td>\n",
       "    </tr>\n",
       "    <tr>\n",
       "      <th>3</th>\n",
       "      <td>abwiki</td>\n",
       "      <td>ab.wikipedia.org</td>\n",
       "    </tr>\n",
       "    <tr>\n",
       "      <th>4</th>\n",
       "      <td>abwiktionary</td>\n",
       "      <td>ab.wiktionary.org</td>\n",
       "    </tr>\n",
       "  </tbody>\n",
       "</table>\n",
       "</div>"
      ],
      "text/plain": [
       "    project_key     project_domain\n",
       "0        aawiki   aa.wikipedia.org\n",
       "1  aawiktionary  aa.wiktionary.org\n",
       "2   aawikibooks   aa.wikibooks.org\n",
       "3        abwiki   ab.wikipedia.org\n",
       "4  abwiktionary  ab.wiktionary.org"
      ]
     },
     "execution_count": 3,
     "metadata": {},
     "output_type": "execute_result"
    }
   ],
   "source": [
    "proj_domains = run_mariadb(\"\"\"\n",
    "    select \n",
    "        site_global_key as project_key,\n",
    "        trim(leading \".\" from reverse(site_domain)) as project_domain\n",
    "    from\n",
    "        enwiki.sites\n",
    "\"\"\")\n",
    "\n",
    "proj_domains.head()"
   ]
  },
  {
   "cell_type": "code",
   "execution_count": 4,
   "metadata": {
    "collapsed": true
   },
   "outputs": [],
   "source": [
    "proj_domains.to_csv(\"data/raw/project-domains.tsv\", sep = \"\\t\", index = False)"
   ]
  },
  {
   "cell_type": "markdown",
   "metadata": {},
   "source": [
    "# Add the groups of any new Wikipedias"
   ]
  },
  {
   "cell_type": "code",
   "execution_count": 7,
   "metadata": {
    "collapsed": false
   },
   "outputs": [
    {
     "data": {
      "text/html": [
       "<div>\n",
       "<table border=\"1\" class=\"dataframe\">\n",
       "  <thead>\n",
       "    <tr style=\"text-align: right;\">\n",
       "      <th></th>\n",
       "      <th>project_key</th>\n",
       "      <th>project_domain</th>\n",
       "    </tr>\n",
       "  </thead>\n",
       "  <tbody>\n",
       "    <tr>\n",
       "      <th>0</th>\n",
       "      <td>aawiki</td>\n",
       "      <td>aa.wikipedia.org</td>\n",
       "    </tr>\n",
       "    <tr>\n",
       "      <th>1</th>\n",
       "      <td>abwiki</td>\n",
       "      <td>ab.wikipedia.org</td>\n",
       "    </tr>\n",
       "    <tr>\n",
       "      <th>2</th>\n",
       "      <td>acewiki</td>\n",
       "      <td>ace.wikipedia.org</td>\n",
       "    </tr>\n",
       "    <tr>\n",
       "      <th>3</th>\n",
       "      <td>afwiki</td>\n",
       "      <td>af.wikipedia.org</td>\n",
       "    </tr>\n",
       "    <tr>\n",
       "      <th>4</th>\n",
       "      <td>akwiki</td>\n",
       "      <td>ak.wikipedia.org</td>\n",
       "    </tr>\n",
       "  </tbody>\n",
       "</table>\n",
       "</div>"
      ],
      "text/plain": [
       "  project_key     project_domain\n",
       "0      aawiki   aa.wikipedia.org\n",
       "1      abwiki   ab.wikipedia.org\n",
       "2     acewiki  ace.wikipedia.org\n",
       "3      afwiki   af.wikipedia.org\n",
       "4      akwiki   ak.wikipedia.org"
      ]
     },
     "execution_count": 7,
     "metadata": {},
     "output_type": "execute_result"
    }
   ],
   "source": [
    "cur_wps = run_mariadb(\"\"\"\n",
    "    select \n",
    "        site_global_key as project_key,\n",
    "        trim(leading \".\" from reverse(site_domain)) as project_domain\n",
    "    from\n",
    "        enwiki.sites\n",
    "    where\n",
    "        site_group = \"wikipedia\"\n",
    "\"\"\")\n",
    "\n",
    "cur_wps.head()"
   ]
  },
  {
   "cell_type": "code",
   "execution_count": 15,
   "metadata": {
    "collapsed": false
   },
   "outputs": [
    {
     "data": {
      "text/html": [
       "<div>\n",
       "<table border=\"1\" class=\"dataframe\">\n",
       "  <thead>\n",
       "    <tr style=\"text-align: right;\">\n",
       "      <th></th>\n",
       "      <th>project_name</th>\n",
       "      <th>project_key</th>\n",
       "      <th>group</th>\n",
       "    </tr>\n",
       "  </thead>\n",
       "  <tbody>\n",
       "    <tr>\n",
       "      <th>0</th>\n",
       "      <td>Afar Wikipedia</td>\n",
       "      <td>aawiki</td>\n",
       "      <td>ssa_wps</td>\n",
       "    </tr>\n",
       "    <tr>\n",
       "      <th>1</th>\n",
       "      <td>Abkhazian Wikipedia</td>\n",
       "      <td>abwiki</td>\n",
       "      <td>mena_wps</td>\n",
       "    </tr>\n",
       "    <tr>\n",
       "      <th>2</th>\n",
       "      <td>Acehnese Wikipedia</td>\n",
       "      <td>acewiki</td>\n",
       "      <td>asia_wps</td>\n",
       "    </tr>\n",
       "    <tr>\n",
       "      <th>3</th>\n",
       "      <td>Adyghe Wikipedia</td>\n",
       "      <td>adywiki</td>\n",
       "      <td>cee_wps</td>\n",
       "    </tr>\n",
       "    <tr>\n",
       "      <th>4</th>\n",
       "      <td>Afrikaans Wikipedia</td>\n",
       "      <td>afwiki</td>\n",
       "      <td>ssa_wps</td>\n",
       "    </tr>\n",
       "  </tbody>\n",
       "</table>\n",
       "</div>"
      ],
      "text/plain": [
       "          project_name project_key     group\n",
       "0       Afar Wikipedia      aawiki   ssa_wps\n",
       "1  Abkhazian Wikipedia      abwiki  mena_wps\n",
       "2   Acehnese Wikipedia     acewiki  asia_wps\n",
       "3     Adyghe Wikipedia     adywiki   cee_wps\n",
       "4  Afrikaans Wikipedia      afwiki   ssa_wps"
      ]
     },
     "execution_count": 15,
     "metadata": {},
     "output_type": "execute_result"
    }
   ],
   "source": [
    "prev_wps = pd.read_csv(\"data/raw/project_groups.tsv\", sep = \"\\t\")\n",
    "prev_wps.head()"
   ]
  },
  {
   "cell_type": "code",
   "execution_count": 16,
   "metadata": {
    "collapsed": false
   },
   "outputs": [
    {
     "data": {
      "text/plain": [
       "{'atjwiki', 'dinwiki', 'dtywiki', 'kbpwiki'}"
      ]
     },
     "execution_count": 16,
     "metadata": {},
     "output_type": "execute_result"
    }
   ],
   "source": [
    "# Find any projects in cur_wps but not in prev_wps\n",
    "set(cur_wps[\"project_key\"]) - set(prev_wps[\"project_key\"])"
   ]
  },
  {
   "cell_type": "code",
   "execution_count": 17,
   "metadata": {
    "collapsed": false
   },
   "outputs": [],
   "source": [
    "# Add them manually—congratulations to the pioneer editors in these languages!\n",
    "new_wps = pd.DataFrame.from_records(\n",
    "    [[\"Atikamekw Wikipedia\", \"atjwiki\", \"other\"], \n",
    "     [\"Dinka Wikipedia\", \"dinwiki\", \"ssa_wps\"],\n",
    "     [\"Doteli Wikipedia\", \"dtywiki\", \"asia_wps\"],\n",
    "     [\"Kabiye Wikipedia\", \"kbpwiki\", \"ssa_wps\"]],\n",
    "    columns = [\"project_name\", \"project_key\", \"group\"])"
   ]
  },
  {
   "cell_type": "code",
   "execution_count": 20,
   "metadata": {
    "collapsed": false
   },
   "outputs": [
    {
     "data": {
      "text/html": [
       "<div>\n",
       "<table border=\"1\" class=\"dataframe\">\n",
       "  <thead>\n",
       "    <tr style=\"text-align: right;\">\n",
       "      <th></th>\n",
       "      <th>project_name</th>\n",
       "      <th>project_key</th>\n",
       "      <th>group</th>\n",
       "    </tr>\n",
       "  </thead>\n",
       "  <tbody>\n",
       "    <tr>\n",
       "      <th>0</th>\n",
       "      <td>Afar Wikipedia</td>\n",
       "      <td>aawiki</td>\n",
       "      <td>ssa_wps</td>\n",
       "    </tr>\n",
       "    <tr>\n",
       "      <th>1</th>\n",
       "      <td>Abkhazian Wikipedia</td>\n",
       "      <td>abwiki</td>\n",
       "      <td>mena_wps</td>\n",
       "    </tr>\n",
       "    <tr>\n",
       "      <th>2</th>\n",
       "      <td>Acehnese Wikipedia</td>\n",
       "      <td>acewiki</td>\n",
       "      <td>asia_wps</td>\n",
       "    </tr>\n",
       "    <tr>\n",
       "      <th>3</th>\n",
       "      <td>Adyghe Wikipedia</td>\n",
       "      <td>adywiki</td>\n",
       "      <td>cee_wps</td>\n",
       "    </tr>\n",
       "    <tr>\n",
       "      <th>4</th>\n",
       "      <td>Afrikaans Wikipedia</td>\n",
       "      <td>afwiki</td>\n",
       "      <td>ssa_wps</td>\n",
       "    </tr>\n",
       "  </tbody>\n",
       "</table>\n",
       "</div>"
      ],
      "text/plain": [
       "          project_name project_key     group\n",
       "0       Afar Wikipedia      aawiki   ssa_wps\n",
       "1  Abkhazian Wikipedia      abwiki  mena_wps\n",
       "2   Acehnese Wikipedia     acewiki  asia_wps\n",
       "3     Adyghe Wikipedia     adywiki   cee_wps\n",
       "4  Afrikaans Wikipedia      afwiki   ssa_wps"
      ]
     },
     "execution_count": 20,
     "metadata": {},
     "output_type": "execute_result"
    }
   ],
   "source": [
    "proj_info = prev_wps.append(new_wps)\n",
    "proj_info = proj_info.sort_values(by = \"project_key\")"
   ]
  },
  {
   "cell_type": "code",
   "execution_count": 21,
   "metadata": {
    "collapsed": false
   },
   "outputs": [
    {
     "data": {
      "text/plain": [
       "set()"
      ]
     },
     "execution_count": 21,
     "metadata": {},
     "output_type": "execute_result"
    }
   ],
   "source": [
    "# Make sure it's fixed\n",
    "set(cur_wps[\"project_key\"]) - set(proj_info[\"project_key\"])"
   ]
  },
  {
   "cell_type": "code",
   "execution_count": 23,
   "metadata": {
    "collapsed": false
   },
   "outputs": [],
   "source": [
    "# It's fixed—update the file!\n",
    "proj_info.to_csv(\"data/raw/project-groups.tsv\", sep = \"\\t\", index = False)"
   ]
  }
 ],
 "metadata": {
  "kernelspec": {
   "display_name": "Python 3",
   "language": "python",
   "name": "python3"
  },
  "language_info": {
   "codemirror_mode": {
    "name": "ipython",
    "version": 3
   },
   "file_extension": ".py",
   "mimetype": "text/x-python",
   "name": "python",
   "nbconvert_exporter": "python",
   "pygments_lexer": "ipython3",
   "version": "3.4.2"
  }
 },
 "nbformat": 4,
 "nbformat_minor": 2
}
