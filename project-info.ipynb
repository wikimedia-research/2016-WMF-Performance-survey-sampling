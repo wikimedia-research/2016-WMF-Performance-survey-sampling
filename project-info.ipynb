{
 "cells": [
  {
   "cell_type": "markdown",
   "metadata": {},
   "source": [
    "# Generate list of project domains"
   ]
  },
  {
   "cell_type": "code",
   "execution_count": 11,
   "metadata": {},
   "outputs": [],
   "source": [
    "from wmfdata import mariadb\n",
    "import pandas as pd"
   ]
  },
  {
   "cell_type": "code",
   "execution_count": 12,
   "metadata": {},
   "outputs": [
    {
     "data": {
      "text/html": [
       "<div>\n",
       "<style scoped>\n",
       "    .dataframe tbody tr th:only-of-type {\n",
       "        vertical-align: middle;\n",
       "    }\n",
       "\n",
       "    .dataframe tbody tr th {\n",
       "        vertical-align: top;\n",
       "    }\n",
       "\n",
       "    .dataframe thead th {\n",
       "        text-align: right;\n",
       "    }\n",
       "</style>\n",
       "<table border=\"1\" class=\"dataframe\">\n",
       "  <thead>\n",
       "    <tr style=\"text-align: right;\">\n",
       "      <th></th>\n",
       "      <th>project_key</th>\n",
       "      <th>project_domain</th>\n",
       "    </tr>\n",
       "  </thead>\n",
       "  <tbody>\n",
       "    <tr>\n",
       "      <td>0</td>\n",
       "      <td>aawiki</td>\n",
       "      <td>aa.wikipedia.org</td>\n",
       "    </tr>\n",
       "    <tr>\n",
       "      <td>1</td>\n",
       "      <td>aawiktionary</td>\n",
       "      <td>aa.wiktionary.org</td>\n",
       "    </tr>\n",
       "    <tr>\n",
       "      <td>2</td>\n",
       "      <td>aawikibooks</td>\n",
       "      <td>aa.wikibooks.org</td>\n",
       "    </tr>\n",
       "    <tr>\n",
       "      <td>3</td>\n",
       "      <td>abwiki</td>\n",
       "      <td>ab.wikipedia.org</td>\n",
       "    </tr>\n",
       "    <tr>\n",
       "      <td>4</td>\n",
       "      <td>abwiktionary</td>\n",
       "      <td>ab.wiktionary.org</td>\n",
       "    </tr>\n",
       "  </tbody>\n",
       "</table>\n",
       "</div>"
      ],
      "text/plain": [
       "    project_key     project_domain\n",
       "0        aawiki   aa.wikipedia.org\n",
       "1  aawiktionary  aa.wiktionary.org\n",
       "2   aawikibooks   aa.wikibooks.org\n",
       "3        abwiki   ab.wikipedia.org\n",
       "4  abwiktionary  ab.wiktionary.org"
      ]
     },
     "execution_count": 12,
     "metadata": {},
     "output_type": "execute_result"
    }
   ],
   "source": [
    "proj_domains = mariadb.run(\"\"\"\n",
    "    SELECT\n",
    "        site_global_key as project_key,\n",
    "        trim(leading \".\" from reverse(site_domain)) as project_domain\n",
    "    FROM \n",
    "     sites\n",
    "\"\"\", dbs = \"enwiki\")\n",
    "\n",
    "proj_domains.head()"
   ]
  },
  {
   "cell_type": "code",
   "execution_count": 13,
   "metadata": {},
   "outputs": [],
   "source": [
    "proj_domains.to_csv(\"data/raw/project-domains.tsv\", sep = \"\\t\", index = False)"
   ]
  },
  {
   "cell_type": "markdown",
   "metadata": {},
   "source": [
    "# Add the groups of any new Wikipedias"
   ]
  },
  {
   "cell_type": "code",
   "execution_count": 14,
   "metadata": {},
   "outputs": [
    {
     "data": {
      "text/html": [
       "<div>\n",
       "<style scoped>\n",
       "    .dataframe tbody tr th:only-of-type {\n",
       "        vertical-align: middle;\n",
       "    }\n",
       "\n",
       "    .dataframe tbody tr th {\n",
       "        vertical-align: top;\n",
       "    }\n",
       "\n",
       "    .dataframe thead th {\n",
       "        text-align: right;\n",
       "    }\n",
       "</style>\n",
       "<table border=\"1\" class=\"dataframe\">\n",
       "  <thead>\n",
       "    <tr style=\"text-align: right;\">\n",
       "      <th></th>\n",
       "      <th>project_key</th>\n",
       "      <th>project_domain</th>\n",
       "    </tr>\n",
       "  </thead>\n",
       "  <tbody>\n",
       "    <tr>\n",
       "      <td>0</td>\n",
       "      <td>aawiki</td>\n",
       "      <td>aa.wikipedia.org</td>\n",
       "    </tr>\n",
       "    <tr>\n",
       "      <td>1</td>\n",
       "      <td>abwiki</td>\n",
       "      <td>ab.wikipedia.org</td>\n",
       "    </tr>\n",
       "    <tr>\n",
       "      <td>2</td>\n",
       "      <td>acewiki</td>\n",
       "      <td>ace.wikipedia.org</td>\n",
       "    </tr>\n",
       "    <tr>\n",
       "      <td>3</td>\n",
       "      <td>afwiki</td>\n",
       "      <td>af.wikipedia.org</td>\n",
       "    </tr>\n",
       "    <tr>\n",
       "      <td>4</td>\n",
       "      <td>akwiki</td>\n",
       "      <td>ak.wikipedia.org</td>\n",
       "    </tr>\n",
       "  </tbody>\n",
       "</table>\n",
       "</div>"
      ],
      "text/plain": [
       "  project_key     project_domain\n",
       "0      aawiki   aa.wikipedia.org\n",
       "1      abwiki   ab.wikipedia.org\n",
       "2     acewiki  ace.wikipedia.org\n",
       "3      afwiki   af.wikipedia.org\n",
       "4      akwiki   ak.wikipedia.org"
      ]
     },
     "execution_count": 14,
     "metadata": {},
     "output_type": "execute_result"
    }
   ],
   "source": [
    "cur_wps = mariadb.run(\"\"\"\n",
    "    select \n",
    "        site_global_key as project_key,\n",
    "        trim(leading \".\" from reverse(site_domain)) as project_domain\n",
    "    from\n",
    "        sites\n",
    "    where\n",
    "        site_group = \"wikipedia\"\n",
    "\"\"\", dbs = \"enwiki\")\n",
    "\n",
    "cur_wps.head()"
   ]
  },
  {
   "cell_type": "code",
   "execution_count": 15,
   "metadata": {},
   "outputs": [
    {
     "data": {
      "text/html": [
       "<div>\n",
       "<style scoped>\n",
       "    .dataframe tbody tr th:only-of-type {\n",
       "        vertical-align: middle;\n",
       "    }\n",
       "\n",
       "    .dataframe tbody tr th {\n",
       "        vertical-align: top;\n",
       "    }\n",
       "\n",
       "    .dataframe thead th {\n",
       "        text-align: right;\n",
       "    }\n",
       "</style>\n",
       "<table border=\"1\" class=\"dataframe\">\n",
       "  <thead>\n",
       "    <tr style=\"text-align: right;\">\n",
       "      <th></th>\n",
       "      <th>project_name</th>\n",
       "      <th>project_key</th>\n",
       "      <th>project_group</th>\n",
       "    </tr>\n",
       "  </thead>\n",
       "  <tbody>\n",
       "    <tr>\n",
       "      <td>0</td>\n",
       "      <td>Afar Wikipedia</td>\n",
       "      <td>aawiki</td>\n",
       "      <td>meaf_wps</td>\n",
       "    </tr>\n",
       "    <tr>\n",
       "      <td>1</td>\n",
       "      <td>Abkhazian Wikipedia</td>\n",
       "      <td>abwiki</td>\n",
       "      <td>meaf_wps</td>\n",
       "    </tr>\n",
       "    <tr>\n",
       "      <td>2</td>\n",
       "      <td>Acehnese Wikipedia</td>\n",
       "      <td>acewiki</td>\n",
       "      <td>asia_wps</td>\n",
       "    </tr>\n",
       "    <tr>\n",
       "      <td>3</td>\n",
       "      <td>Adyghe Wikipedia</td>\n",
       "      <td>adywiki</td>\n",
       "      <td>cee_wps</td>\n",
       "    </tr>\n",
       "    <tr>\n",
       "      <td>4</td>\n",
       "      <td>Afrikaans Wikipedia</td>\n",
       "      <td>afwiki</td>\n",
       "      <td>meaf_wps</td>\n",
       "    </tr>\n",
       "  </tbody>\n",
       "</table>\n",
       "</div>"
      ],
      "text/plain": [
       "          project_name project_key project_group\n",
       "0       Afar Wikipedia      aawiki      meaf_wps\n",
       "1  Abkhazian Wikipedia      abwiki      meaf_wps\n",
       "2   Acehnese Wikipedia     acewiki      asia_wps\n",
       "3     Adyghe Wikipedia     adywiki       cee_wps\n",
       "4  Afrikaans Wikipedia      afwiki      meaf_wps"
      ]
     },
     "execution_count": 15,
     "metadata": {},
     "output_type": "execute_result"
    }
   ],
   "source": [
    "prev_wps = pd.read_csv(\"data/raw/project-groups.tsv\", sep = \"\\t\")\n",
    "prev_wps.head()"
   ]
  },
  {
   "cell_type": "code",
   "execution_count": 16,
   "metadata": {},
   "outputs": [
    {
     "data": {
      "text/plain": [
       "set()"
      ]
     },
     "execution_count": 16,
     "metadata": {},
     "output_type": "execute_result"
    }
   ],
   "source": [
    "# Find any projects in cur_wps but not in prev_wps\n",
    "set(cur_wps[\"project_key\"]) - set(prev_wps[\"project_key\"])"
   ]
  },
  {
   "cell_type": "code",
   "execution_count": 17,
   "metadata": {},
   "outputs": [],
   "source": [
    "# Add the new projects manually—congratulations to the pioneer editors in these languages!\n",
    "\n",
    "new_wps = pd.DataFrame.from_records(\n",
    "    [ [\"Nko Wikipedia\", \"nqowiki\", \"meaf_wps\"]],\n",
    "    columns = [\"project_name\", \"project_key\", \"project_group\"])"
   ]
  },
  {
   "cell_type": "code",
   "execution_count": 18,
   "metadata": {},
   "outputs": [
    {
     "data": {
      "text/html": [
       "<div>\n",
       "<style scoped>\n",
       "    .dataframe tbody tr th:only-of-type {\n",
       "        vertical-align: middle;\n",
       "    }\n",
       "\n",
       "    .dataframe tbody tr th {\n",
       "        vertical-align: top;\n",
       "    }\n",
       "\n",
       "    .dataframe thead th {\n",
       "        text-align: right;\n",
       "    }\n",
       "</style>\n",
       "<table border=\"1\" class=\"dataframe\">\n",
       "  <thead>\n",
       "    <tr style=\"text-align: right;\">\n",
       "      <th></th>\n",
       "      <th>project_name</th>\n",
       "      <th>project_key</th>\n",
       "      <th>project_group</th>\n",
       "    </tr>\n",
       "  </thead>\n",
       "  <tbody>\n",
       "    <tr>\n",
       "      <td>0</td>\n",
       "      <td>Afar Wikipedia</td>\n",
       "      <td>aawiki</td>\n",
       "      <td>meaf_wps</td>\n",
       "    </tr>\n",
       "    <tr>\n",
       "      <td>1</td>\n",
       "      <td>Abkhazian Wikipedia</td>\n",
       "      <td>abwiki</td>\n",
       "      <td>meaf_wps</td>\n",
       "    </tr>\n",
       "    <tr>\n",
       "      <td>2</td>\n",
       "      <td>Acehnese Wikipedia</td>\n",
       "      <td>acewiki</td>\n",
       "      <td>asia_wps</td>\n",
       "    </tr>\n",
       "    <tr>\n",
       "      <td>3</td>\n",
       "      <td>Adyghe Wikipedia</td>\n",
       "      <td>adywiki</td>\n",
       "      <td>cee_wps</td>\n",
       "    </tr>\n",
       "    <tr>\n",
       "      <td>4</td>\n",
       "      <td>Afrikaans Wikipedia</td>\n",
       "      <td>afwiki</td>\n",
       "      <td>meaf_wps</td>\n",
       "    </tr>\n",
       "  </tbody>\n",
       "</table>\n",
       "</div>"
      ],
      "text/plain": [
       "          project_name project_key project_group\n",
       "0       Afar Wikipedia      aawiki      meaf_wps\n",
       "1  Abkhazian Wikipedia      abwiki      meaf_wps\n",
       "2   Acehnese Wikipedia     acewiki      asia_wps\n",
       "3     Adyghe Wikipedia     adywiki       cee_wps\n",
       "4  Afrikaans Wikipedia      afwiki      meaf_wps"
      ]
     },
     "execution_count": 18,
     "metadata": {},
     "output_type": "execute_result"
    }
   ],
   "source": [
    "proj_info = prev_wps.append(new_wps)\n",
    "proj_info = proj_info.sort_values(by = \"project_key\")\n",
    "proj_info.head()"
   ]
  },
  {
   "cell_type": "code",
   "execution_count": 19,
   "metadata": {},
   "outputs": [
    {
     "data": {
      "text/plain": [
       "set()"
      ]
     },
     "execution_count": 19,
     "metadata": {},
     "output_type": "execute_result"
    }
   ],
   "source": [
    "# Make sure it's fixed\n",
    "set(cur_wps[\"project_key\"]) - set(proj_info[\"project_key\"])"
   ]
  },
  {
   "cell_type": "code",
   "execution_count": 20,
   "metadata": {},
   "outputs": [],
   "source": [
    "# It's fixed—update the file!\n",
    "proj_info.to_csv(\"data/raw/project-groups.tsv\", sep = \"\\t\", index = False)"
   ]
  },
  {
   "cell_type": "code",
   "execution_count": null,
   "metadata": {},
   "outputs": [],
   "source": []
  }
 ],
 "metadata": {
  "kernelspec": {
   "display_name": "Python 3",
   "language": "python",
   "name": "python3"
  },
  "language_info": {
   "codemirror_mode": {
    "name": "ipython",
    "version": 3
   },
   "file_extension": ".py",
   "mimetype": "text/x-python",
   "name": "python",
   "nbconvert_exporter": "python",
   "pygments_lexer": "ipython3",
   "version": "3.5.3"
  }
 },
 "nbformat": 4,
 "nbformat_minor": 2
}
