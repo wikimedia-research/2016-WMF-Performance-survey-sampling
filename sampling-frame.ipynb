{
 "cells": [
  {
   "cell_type": "markdown",
   "metadata": {},
   "source": [
    "# Creating raw frame"
   ]
  },
  {
   "cell_type": "code",
   "execution_count": 67,
   "metadata": {},
   "outputs": [],
   "source": [
    "from wmfdata import hive, mariadb\n",
    "import pandas as pd\n"
   ]
  },
  {
   "cell_type": "code",
   "execution_count": 68,
   "metadata": {},
   "outputs": [],
   "source": [
    "HIVE_SNAPSHOT = \"2019-09\"\n",
    "END_OF_DATA = \"2019-10-01 00:00:00\"\n",
    "DAYS_IN_LAST_3_MO = 90"
   ]
  },
  {
   "cell_type": "code",
   "execution_count": 69,
   "metadata": {},
   "outputs": [],
   "source": [
    "#all active editors from the past three months\n",
    "frame_query = \"\"\"\n",
    "-- TABLE OF\n",
    "with mo_edits as (\n",
    "    select\n",
    "        event_user_text as user,\n",
    "        year(event_timestamp) as year,\n",
    "        month(event_timestamp) as month,\n",
    "        sum(if(wiki_db = \"wikidatawiki\", 0.1, 1)) as edits\n",
    "    from wmf.mediawiki_history\n",
    "    where\n",
    "        -- REGISTERED\n",
    "        event_user_is_anonymous = false and\n",
    "        \n",
    "        -- NON-BOT\n",
    "        size(event_user_is_bot_by) = 0 and\n",
    "        not array_contains(event_user_groups, \"bot\") and\n",
    "        \n",
    "        -- CONTENT\n",
    "        page_namespace_is_content_historical = true and\n",
    "        \n",
    "        -- EDITS\n",
    "        event_entity = \"revision\" and\n",
    "        event_type = \"create\" and\n",
    "        \n",
    "        -- FROM THE LAST 3 MONTHS\n",
    "        unix_timestamp(event_timestamp, \"yyyy-MM-dd HH:mm:ss.0\") \n",
    "            > (unix_timestamp(\"{end_of_data}\") - (60 * 60 * 24 * {days_in_last_3_mo})) and\n",
    "\n",
    "        -- FROM THE LATEST SNAPSHOT\n",
    "        snapshot = \"{hive_snapshot}\"    \n",
    "    -- PER USER, PER MONTH\n",
    "    group by event_user_text, year(event_timestamp), month(event_timestamp)\n",
    "), \n",
    "\n",
    "-- TABLE OF\n",
    "yr_proj_edits as (\n",
    "    select\n",
    "        event_user_text as user,\n",
    "        wiki_db as proj,\n",
    "        sum(if(wiki_db = \"wikidatawiki\", 0.1, 1)) as edits,\n",
    "        max(event_timestamp) as latest_edit\n",
    "    from wmf.mediawiki_history\n",
    "    where\n",
    "        -- REGISTERED\n",
    "        event_user_is_anonymous = false and\n",
    "        \n",
    "        -- NON-BOT\n",
    "        size(event_user_is_bot_by) = 0 and\n",
    "        not array_contains(event_user_groups, \"bot\") and\n",
    "        \n",
    "        -- EDITS\n",
    "        event_entity = \"revision\" and\n",
    "        event_type = \"create\" and\n",
    "        \n",
    "        -- FROM THE LAST YEAR\n",
    "        unix_timestamp(event_timestamp, \"yyyy-MM-dd HH:mm:ss.0\") \n",
    "            > (unix_timestamp(\"{end_of_data}\") - (60 * 60 * 24 * 365)) and\n",
    "        \n",
    "        -- FROM THE LATEST SNAPSHOT\n",
    "        snapshot = \"{hive_snapshot}\"\n",
    "    \n",
    "    -- PER USER, PER WIKI\n",
    "    group by event_user_text, wiki_db\n",
    ")\n",
    "\n",
    "-- FINAL SELECT OF\n",
    "select \n",
    "    recent_actives.user as user,\n",
    "    yr_edits.proj as home_proj,\n",
    "    global_edits\n",
    "\n",
    "-- USERS ACTIVE IN 2 OF 3 MONTHS\n",
    "from (\n",
    "    select\n",
    "        user,\n",
    "        sum(if(edits >= 5, 1, 0)) as active_months\n",
    "    from mo_edits\n",
    "    where\n",
    "        -- WHO ARE NOT WMF STAFF\n",
    "        user not like \"%WMF%\"\n",
    "    group by user\n",
    "    having active_months >= 2\n",
    ") recent_actives\n",
    "\n",
    "-- JOINED TO THEIR HOME WIKI AND GLOBAL EDITS\n",
    "left join (\n",
    "    select\n",
    "        user,\n",
    "        proj,\n",
    "        -- in the unlikely event that wikis are tied by edit count and latest edit, \n",
    "        -- row_number() will break it somehow\n",
    "        row_number() over (partition by user order by edits desc, latest_edit desc) as rank,\n",
    "        sum(edits) over (partition by user) as global_edits\n",
    "    from yr_proj_edits\n",
    ") yr_edits\n",
    "on \n",
    "    recent_actives.user = yr_edits.user and\n",
    "    rank = 1\n",
    "\"\"\""
   ]
  },
  {
   "cell_type": "code",
   "execution_count": 70,
   "metadata": {},
   "outputs": [],
   "source": [
    "raw_frame = hive.run(\n",
    "    frame_query.format(\n",
    "        hive_snapshot = HIVE_SNAPSHOT,\n",
    "        end_of_data = END_OF_DATA,\n",
    "        days_in_last_3_mo = DAYS_IN_LAST_3_MO\n",
    "    )\n",
    ")"
   ]
  },
  {
   "cell_type": "code",
   "execution_count": 71,
   "metadata": {},
   "outputs": [
    {
     "data": {
      "text/html": [
       "<div>\n",
       "<style scoped>\n",
       "    .dataframe tbody tr th:only-of-type {\n",
       "        vertical-align: middle;\n",
       "    }\n",
       "\n",
       "    .dataframe tbody tr th {\n",
       "        vertical-align: top;\n",
       "    }\n",
       "\n",
       "    .dataframe thead th {\n",
       "        text-align: right;\n",
       "    }\n",
       "</style>\n",
       "<table border=\"1\" class=\"dataframe\">\n",
       "  <thead>\n",
       "    <tr style=\"text-align: right;\">\n",
       "      <th></th>\n",
       "      <th>user</th>\n",
       "      <th>home_proj</th>\n",
       "      <th>global_edits</th>\n",
       "    </tr>\n",
       "  </thead>\n",
       "  <tbody>\n",
       "    <tr>\n",
       "      <td>0</td>\n",
       "      <td>!Silent</td>\n",
       "      <td>ptwiki</td>\n",
       "      <td>2755.7</td>\n",
       "    </tr>\n",
       "    <tr>\n",
       "      <td>1</td>\n",
       "      <td>!dea4u</td>\n",
       "      <td>enwiki</td>\n",
       "      <td>606.6</td>\n",
       "    </tr>\n",
       "    <tr>\n",
       "      <td>2</td>\n",
       "      <td>!nnovativ</td>\n",
       "      <td>dewiki</td>\n",
       "      <td>249.0</td>\n",
       "    </tr>\n",
       "    <tr>\n",
       "      <td>3</td>\n",
       "      <td>\"BF CLUB\"</td>\n",
       "      <td>eswiki</td>\n",
       "      <td>741.0</td>\n",
       "    </tr>\n",
       "    <tr>\n",
       "      <td>4</td>\n",
       "      <td>\"Colorado Campeão\"!</td>\n",
       "      <td>ptwiki</td>\n",
       "      <td>868.0</td>\n",
       "    </tr>\n",
       "  </tbody>\n",
       "</table>\n",
       "</div>"
      ],
      "text/plain": [
       "                  user home_proj  global_edits\n",
       "0              !Silent    ptwiki        2755.7\n",
       "1               !dea4u    enwiki         606.6\n",
       "2            !nnovativ    dewiki         249.0\n",
       "3            \"BF CLUB\"    eswiki         741.0\n",
       "4  \"Colorado Campeão\"!    ptwiki         868.0"
      ]
     },
     "execution_count": 71,
     "metadata": {},
     "output_type": "execute_result"
    }
   ],
   "source": [
    "raw_frame.head()"
   ]
  },
  {
   "cell_type": "code",
   "execution_count": 72,
   "metadata": {},
   "outputs": [],
   "source": [
    "raw_frame.to_csv(\"data/raw/sampling-frame.tsv\", sep = \"\\t\", index = False)"
   ]
  },
  {
   "cell_type": "markdown",
   "metadata": {},
   "source": [
    "## Obtain user email addresses if available"
   ]
  },
  {
   "cell_type": "code",
   "execution_count": 73,
   "metadata": {},
   "outputs": [],
   "source": [
    "#Create list of active uses from raw_frame \n",
    "TARGET_USERS = raw_frame['user'].tolist()\n"
   ]
  },
  {
   "cell_type": "code",
   "execution_count": 74,
   "metadata": {},
   "outputs": [],
   "source": [
    "#query centralauth.globaluser table in replicas to obtain email addresses\n",
    "#Note: not clear if this is more reliable or up to date than info in individual wikis but I did not spot\n",
    "#check and it appeared both held the same info. \n",
    "\n",
    "email_query = \"\"\"\n",
    "SELECT \n",
    " gu_name as user, gu_email as user_email, \n",
    " CAST(gu_email_authenticated as datetime) as email_verification_date\n",
    "FROM centralauth.globaluser\n",
    "WHERE gu_name IN ({target_users})\n",
    "\"\"\"\n"
   ]
  },
  {
   "cell_type": "code",
   "execution_count": 75,
   "metadata": {},
   "outputs": [],
   "source": [
    "#run target users list through query. Made adjustment to account for speical characters in user names. \n",
    "\n",
    "\n",
    "user_email = mariadb.run(\n",
    "    email_query.format(target_users = ','.join([\"'\"+ str(tu).replace(\"'\", \"\\\\'\") + \"'\" for tu in TARGET_USERS]))\n",
    "        , dbs = 'centralauth'\n",
    ")"
   ]
  },
  {
   "cell_type": "code",
   "execution_count": 76,
   "metadata": {},
   "outputs": [],
   "source": [
    "#Note: This data is private and should not be uploaded publically. Any output with email from this notebook also removed.\n",
    "user_email.to_csv(\"data/interim/user-email.tsv\", sep = \"\\t\", index = False)"
   ]
  },
  {
   "cell_type": "markdown",
   "metadata": {},
   "source": [
    "# Enriching frame"
   ]
  },
  {
   "cell_type": "code",
   "execution_count": 77,
   "metadata": {},
   "outputs": [
    {
     "data": {
      "text/html": [
       "<div>\n",
       "<style scoped>\n",
       "    .dataframe tbody tr th:only-of-type {\n",
       "        vertical-align: middle;\n",
       "    }\n",
       "\n",
       "    .dataframe tbody tr th {\n",
       "        vertical-align: top;\n",
       "    }\n",
       "\n",
       "    .dataframe thead th {\n",
       "        text-align: right;\n",
       "    }\n",
       "</style>\n",
       "<table border=\"1\" class=\"dataframe\">\n",
       "  <thead>\n",
       "    <tr style=\"text-align: right;\">\n",
       "      <th></th>\n",
       "      <th>project_key</th>\n",
       "      <th>project_group</th>\n",
       "    </tr>\n",
       "  </thead>\n",
       "  <tbody>\n",
       "    <tr>\n",
       "      <td>0</td>\n",
       "      <td>aawiki</td>\n",
       "      <td>meaf_wps</td>\n",
       "    </tr>\n",
       "    <tr>\n",
       "      <td>1</td>\n",
       "      <td>abwiki</td>\n",
       "      <td>meaf_wps</td>\n",
       "    </tr>\n",
       "    <tr>\n",
       "      <td>2</td>\n",
       "      <td>acewiki</td>\n",
       "      <td>asia_wps</td>\n",
       "    </tr>\n",
       "    <tr>\n",
       "      <td>3</td>\n",
       "      <td>adywiki</td>\n",
       "      <td>cee_wps</td>\n",
       "    </tr>\n",
       "    <tr>\n",
       "      <td>4</td>\n",
       "      <td>afwiki</td>\n",
       "      <td>meaf_wps</td>\n",
       "    </tr>\n",
       "  </tbody>\n",
       "</table>\n",
       "</div>"
      ],
      "text/plain": [
       "  project_key project_group\n",
       "0      aawiki      meaf_wps\n",
       "1      abwiki      meaf_wps\n",
       "2     acewiki      asia_wps\n",
       "3     adywiki       cee_wps\n",
       "4      afwiki      meaf_wps"
      ]
     },
     "execution_count": 77,
     "metadata": {},
     "output_type": "execute_result"
    }
   ],
   "source": [
    "# Import without human-readable name column\n",
    "proj_groups = pd.read_table(\"data/raw/project-groups.tsv\").drop(\"project_name\", axis = 1)\n",
    "proj_groups.head()"
   ]
  },
  {
   "cell_type": "code",
   "execution_count": 78,
   "metadata": {},
   "outputs": [
    {
     "data": {
      "text/html": [
       "<div>\n",
       "<style scoped>\n",
       "    .dataframe tbody tr th:only-of-type {\n",
       "        vertical-align: middle;\n",
       "    }\n",
       "\n",
       "    .dataframe tbody tr th {\n",
       "        vertical-align: top;\n",
       "    }\n",
       "\n",
       "    .dataframe thead th {\n",
       "        text-align: right;\n",
       "    }\n",
       "</style>\n",
       "<table border=\"1\" class=\"dataframe\">\n",
       "  <thead>\n",
       "    <tr style=\"text-align: right;\">\n",
       "      <th></th>\n",
       "      <th>user</th>\n",
       "      <th>home_proj</th>\n",
       "      <th>global_edits</th>\n",
       "      <th>project_group</th>\n",
       "    </tr>\n",
       "  </thead>\n",
       "  <tbody>\n",
       "    <tr>\n",
       "      <td>0</td>\n",
       "      <td>!Silent</td>\n",
       "      <td>ptwiki</td>\n",
       "      <td>2755.7</td>\n",
       "      <td>ptwiki</td>\n",
       "    </tr>\n",
       "    <tr>\n",
       "      <td>1</td>\n",
       "      <td>!dea4u</td>\n",
       "      <td>enwiki</td>\n",
       "      <td>606.6</td>\n",
       "      <td>enwiki</td>\n",
       "    </tr>\n",
       "    <tr>\n",
       "      <td>2</td>\n",
       "      <td>!nnovativ</td>\n",
       "      <td>dewiki</td>\n",
       "      <td>249.0</td>\n",
       "      <td>dewiki</td>\n",
       "    </tr>\n",
       "    <tr>\n",
       "      <td>3</td>\n",
       "      <td>\"BF CLUB\"</td>\n",
       "      <td>eswiki</td>\n",
       "      <td>741.0</td>\n",
       "      <td>eswiki</td>\n",
       "    </tr>\n",
       "    <tr>\n",
       "      <td>4</td>\n",
       "      <td>\"Colorado Campeão\"!</td>\n",
       "      <td>ptwiki</td>\n",
       "      <td>868.0</td>\n",
       "      <td>ptwiki</td>\n",
       "    </tr>\n",
       "  </tbody>\n",
       "</table>\n",
       "</div>"
      ],
      "text/plain": [
       "                  user home_proj  global_edits project_group\n",
       "0              !Silent    ptwiki        2755.7        ptwiki\n",
       "1               !dea4u    enwiki         606.6        enwiki\n",
       "2            !nnovativ    dewiki         249.0        dewiki\n",
       "3            \"BF CLUB\"    eswiki         741.0        eswiki\n",
       "4  \"Colorado Campeão\"!    ptwiki         868.0        ptwiki"
      ]
     },
     "execution_count": 78,
     "metadata": {},
     "output_type": "execute_result"
    }
   ],
   "source": [
    "frame = raw_frame.merge(proj_groups, how = \"left\", left_on = \"home_proj\", right_on = \"project_key\" )\n",
    "frame = frame.drop(\"project_key\", axis = 1)\n",
    "frame.head()"
   ]
  },
  {
   "cell_type": "code",
   "execution_count": 79,
   "metadata": {},
   "outputs": [
    {
     "data": {
      "text/html": [
       "<div>\n",
       "<style scoped>\n",
       "    .dataframe tbody tr th:only-of-type {\n",
       "        vertical-align: middle;\n",
       "    }\n",
       "\n",
       "    .dataframe tbody tr th {\n",
       "        vertical-align: top;\n",
       "    }\n",
       "\n",
       "    .dataframe thead th {\n",
       "        text-align: right;\n",
       "    }\n",
       "</style>\n",
       "<table border=\"1\" class=\"dataframe\">\n",
       "  <thead>\n",
       "    <tr style=\"text-align: right;\">\n",
       "      <th></th>\n",
       "      <th>project_key</th>\n",
       "      <th>project_domain</th>\n",
       "    </tr>\n",
       "  </thead>\n",
       "  <tbody>\n",
       "    <tr>\n",
       "      <td>0</td>\n",
       "      <td>aawiki</td>\n",
       "      <td>aa.wikipedia.org</td>\n",
       "    </tr>\n",
       "    <tr>\n",
       "      <td>1</td>\n",
       "      <td>aawiktionary</td>\n",
       "      <td>aa.wiktionary.org</td>\n",
       "    </tr>\n",
       "    <tr>\n",
       "      <td>2</td>\n",
       "      <td>aawikibooks</td>\n",
       "      <td>aa.wikibooks.org</td>\n",
       "    </tr>\n",
       "    <tr>\n",
       "      <td>3</td>\n",
       "      <td>abwiki</td>\n",
       "      <td>ab.wikipedia.org</td>\n",
       "    </tr>\n",
       "    <tr>\n",
       "      <td>4</td>\n",
       "      <td>abwiktionary</td>\n",
       "      <td>ab.wiktionary.org</td>\n",
       "    </tr>\n",
       "  </tbody>\n",
       "</table>\n",
       "</div>"
      ],
      "text/plain": [
       "    project_key     project_domain\n",
       "0        aawiki   aa.wikipedia.org\n",
       "1  aawiktionary  aa.wiktionary.org\n",
       "2   aawikibooks   aa.wikibooks.org\n",
       "3        abwiki   ab.wikipedia.org\n",
       "4  abwiktionary  ab.wiktionary.org"
      ]
     },
     "execution_count": 79,
     "metadata": {},
     "output_type": "execute_result"
    }
   ],
   "source": [
    "domains = pd.read_table(\"data/raw/project-domains.tsv\", index_col = 0).reset_index()\n",
    "domains.head()"
   ]
  },
  {
   "cell_type": "code",
   "execution_count": 80,
   "metadata": {},
   "outputs": [
    {
     "data": {
      "text/html": [
       "<div>\n",
       "<style scoped>\n",
       "    .dataframe tbody tr th:only-of-type {\n",
       "        vertical-align: middle;\n",
       "    }\n",
       "\n",
       "    .dataframe tbody tr th {\n",
       "        vertical-align: top;\n",
       "    }\n",
       "\n",
       "    .dataframe thead th {\n",
       "        text-align: right;\n",
       "    }\n",
       "</style>\n",
       "<table border=\"1\" class=\"dataframe\">\n",
       "  <thead>\n",
       "    <tr style=\"text-align: right;\">\n",
       "      <th></th>\n",
       "      <th>user</th>\n",
       "      <th>home_proj</th>\n",
       "      <th>global_edits</th>\n",
       "      <th>project_group</th>\n",
       "      <th>project_domain</th>\n",
       "    </tr>\n",
       "  </thead>\n",
       "  <tbody>\n",
       "    <tr>\n",
       "      <td>0</td>\n",
       "      <td>!Silent</td>\n",
       "      <td>ptwiki</td>\n",
       "      <td>2755.7</td>\n",
       "      <td>ptwiki</td>\n",
       "      <td>pt.wikipedia.org</td>\n",
       "    </tr>\n",
       "    <tr>\n",
       "      <td>1</td>\n",
       "      <td>!dea4u</td>\n",
       "      <td>enwiki</td>\n",
       "      <td>606.6</td>\n",
       "      <td>enwiki</td>\n",
       "      <td>en.wikipedia.org</td>\n",
       "    </tr>\n",
       "    <tr>\n",
       "      <td>2</td>\n",
       "      <td>!nnovativ</td>\n",
       "      <td>dewiki</td>\n",
       "      <td>249.0</td>\n",
       "      <td>dewiki</td>\n",
       "      <td>de.wikipedia.org</td>\n",
       "    </tr>\n",
       "    <tr>\n",
       "      <td>3</td>\n",
       "      <td>\"BF CLUB\"</td>\n",
       "      <td>eswiki</td>\n",
       "      <td>741.0</td>\n",
       "      <td>eswiki</td>\n",
       "      <td>es.wikipedia.org</td>\n",
       "    </tr>\n",
       "    <tr>\n",
       "      <td>4</td>\n",
       "      <td>\"Colorado Campeão\"!</td>\n",
       "      <td>ptwiki</td>\n",
       "      <td>868.0</td>\n",
       "      <td>ptwiki</td>\n",
       "      <td>pt.wikipedia.org</td>\n",
       "    </tr>\n",
       "  </tbody>\n",
       "</table>\n",
       "</div>"
      ],
      "text/plain": [
       "                  user home_proj  global_edits project_group    project_domain\n",
       "0              !Silent    ptwiki        2755.7        ptwiki  pt.wikipedia.org\n",
       "1               !dea4u    enwiki         606.6        enwiki  en.wikipedia.org\n",
       "2            !nnovativ    dewiki         249.0        dewiki  de.wikipedia.org\n",
       "3            \"BF CLUB\"    eswiki         741.0        eswiki  es.wikipedia.org\n",
       "4  \"Colorado Campeão\"!    ptwiki         868.0        ptwiki  pt.wikipedia.org"
      ]
     },
     "execution_count": 80,
     "metadata": {},
     "output_type": "execute_result"
    }
   ],
   "source": [
    "frame = frame.merge(domains, how = \"left\", left_on = \"home_proj\", right_on = \"project_key\" )\n",
    "frame = frame.drop(\"project_key\", axis = 1)\n",
    "frame.head()"
   ]
  },
  {
   "cell_type": "code",
   "execution_count": 81,
   "metadata": {},
   "outputs": [],
   "source": [
    "# Any project not in project-groups.tsv is in the \"other\" group\n",
    "frame[\"project_group\"] = frame[\"project_group\"].fillna(\"other\")\n"
   ]
  },
  {
   "cell_type": "markdown",
   "metadata": {},
   "source": [
    "## Add user emails to sampling frame"
   ]
  },
  {
   "cell_type": "code",
   "execution_count": 82,
   "metadata": {},
   "outputs": [],
   "source": [
    "emails = pd.read_table(\"data/interim/user-email.tsv\", index_col = 0).reset_index()"
   ]
  },
  {
   "cell_type": "code",
   "execution_count": 83,
   "metadata": {},
   "outputs": [],
   "source": [
    "frame = frame.merge(emails, how = \"left\", left_on = \"user\", right_on = \"user\")"
   ]
  },
  {
   "cell_type": "markdown",
   "metadata": {},
   "source": [
    "# Removing users"
   ]
  },
  {
   "cell_type": "markdown",
   "metadata": {},
   "source": [
    "Removed any identified users. This consists of a combination of the \"2019 contributor opt-outs\" and the \"Dashboard Leaders by home wiki 2018-2019\" as our opt-out list.\n",
    "\n",
    "For the 2019 Sampling pull, we decided to pull additional users from each target project. We excluded users in the first sample pulled to get only new users. "
   ]
  },
  {
   "cell_type": "code",
   "execution_count": 84,
   "metadata": {},
   "outputs": [],
   "source": [
    "# These are users who are program leaders or who opted out in the past\n",
    "optouts = pd.read_table(\"data/secrets/excluded_users.tsv\", squeeze = True)"
   ]
  },
  {
   "cell_type": "code",
   "execution_count": 85,
   "metadata": {},
   "outputs": [
    {
     "data": {
      "text/plain": [
       "10670"
      ]
     },
     "execution_count": 85,
     "metadata": {},
     "output_type": "execute_result"
    }
   ],
   "source": [
    "to_remove = frame[frame[\"user\"].isin(optouts)].index\n",
    "\n",
    "# How many users are we removing?\n",
    "len(to_remove)"
   ]
  },
  {
   "cell_type": "code",
   "execution_count": 86,
   "metadata": {},
   "outputs": [],
   "source": [
    "frame = frame.drop(to_remove)"
   ]
  },
  {
   "cell_type": "markdown",
   "metadata": {},
   "source": [
    "# Check validity"
   ]
  },
  {
   "cell_type": "code",
   "execution_count": 87,
   "metadata": {},
   "outputs": [],
   "source": [
    "frame_len = len(frame[\"user\"])"
   ]
  },
  {
   "cell_type": "code",
   "execution_count": 88,
   "metadata": {},
   "outputs": [
    {
     "data": {
      "text/plain": [
       "True"
      ]
     },
     "execution_count": 88,
     "metadata": {},
     "output_type": "execute_result"
    }
   ],
   "source": [
    "# Are all our users unique?\n",
    "frame.user.nunique() == frame_len"
   ]
  },
  {
   "cell_type": "code",
   "execution_count": 89,
   "metadata": {},
   "outputs": [
    {
     "data": {
      "text/plain": [
       "True"
      ]
     },
     "execution_count": 89,
     "metadata": {},
     "output_type": "execute_result"
    }
   ],
   "source": [
    "# Are all our users in a group?\n",
    "frame.groupby(\"project_group\")[\"user\"].count().sum() == frame_len"
   ]
  },
  {
   "cell_type": "code",
   "execution_count": 90,
   "metadata": {},
   "outputs": [
    {
     "data": {
      "text/plain": [
       "True"
      ]
     },
     "execution_count": 90,
     "metadata": {},
     "output_type": "execute_result"
    }
   ],
   "source": [
    "# Do we have the 22 groups we want?\n",
    "frame[\"project_group\"].nunique() == 22"
   ]
  },
  {
   "cell_type": "code",
   "execution_count": null,
   "metadata": {},
   "outputs": [],
   "source": [
    "# Pick 10 random users to check against [an edit counter](https://xtools.wmflabs.org/ec)\n",
    "# to make sure their edit counts and home projects are correct\n",
    "#Note: Output hidden due to privacy reasons\n",
    "frame.sample(n = 10, random_state = 123)"
   ]
  },
  {
   "cell_type": "code",
   "execution_count": 92,
   "metadata": {},
   "outputs": [],
   "source": [
    "# Those 10 users check out, let's write the enhanced frame to a TSV!\n",
    "# Note: This file now contains senstive information.\n",
    "frame.to_csv(\"data/interim/sampling-frame.tsv\", sep = \"\\t\", index = False)"
   ]
  }
 ],
 "metadata": {
  "kernelspec": {
   "display_name": "Python 3",
   "language": "python",
   "name": "python3"
  },
  "language_info": {
   "codemirror_mode": {
    "name": "ipython",
    "version": 3
   },
   "file_extension": ".py",
   "mimetype": "text/x-python",
   "name": "python",
   "nbconvert_exporter": "python",
   "pygments_lexer": "ipython3",
   "version": "3.5.3"
  }
 },
 "nbformat": 4,
 "nbformat_minor": 2
}
