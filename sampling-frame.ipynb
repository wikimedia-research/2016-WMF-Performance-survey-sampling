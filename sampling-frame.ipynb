{
 "cells": [
  {
   "cell_type": "markdown",
   "metadata": {},
   "source": [
    "# Creating raw frame"
   ]
  },
  {
   "cell_type": "code",
   "execution_count": 4,
   "metadata": {
    "collapsed": true
   },
   "outputs": [],
   "source": [
    "HIVE_SNAPSHOT = \"2018-02\"\n",
    "END_OF_DATA = \"2018-03-01 00:00:00\"\n",
    "DAYS_IN_LAST_3_MO = 90"
   ]
  },
  {
   "cell_type": "code",
   "execution_count": 5,
   "metadata": {
    "collapsed": true
   },
   "outputs": [],
   "source": [
    "frame_query = \"\"\"\n",
    "-- TABLE OF\n",
    "with mo_edits as (\n",
    "    select\n",
    "        event_user_text as user,\n",
    "        year(event_timestamp) as year,\n",
    "        month(event_timestamp) as month,\n",
    "        sum(if(wiki_db = \"wikidatawiki\", 0.1, 1)) as edits\n",
    "    from wmf.mediawiki_history\n",
    "    where\n",
    "        -- REGISTERED\n",
    "        event_user_is_anonymous = false and\n",
    "        \n",
    "        -- NON-BOT\n",
    "        event_user_is_bot_by_name = false and\n",
    "        not array_contains(event_user_groups, \"bot\") and\n",
    "        \n",
    "        -- CONTENT\n",
    "        page_namespace_is_content_historical = true and\n",
    "        \n",
    "        -- EDITS\n",
    "        event_entity = \"revision\" and\n",
    "        event_type = \"create\" and\n",
    "        \n",
    "        -- FROM THE LAST 3 MONTHS\n",
    "        unix_timestamp(event_timestamp, \"yyyy-MM-dd HH:mm:ss.0\") \n",
    "            > (unix_timestamp(\"{end_of_data}\") - (60 * 60 * 24 * {days_in_last_3_mo})) and\n",
    "\n",
    "        -- FROM THE LATEST SNAPSHOT\n",
    "        snapshot = \"{hive_snapshot}\"    \n",
    "    -- PER USER, PER MONTH\n",
    "    group by event_user_text, year(event_timestamp), month(event_timestamp)\n",
    "), \n",
    "\n",
    "-- TABLE OF\n",
    "yr_proj_edits as (\n",
    "    select\n",
    "        event_user_text as user,\n",
    "        wiki_db as proj,\n",
    "        sum(if(wiki_db = \"wikidatawiki\", 0.1, 1)) as edits,\n",
    "        max(event_timestamp) as latest_edit\n",
    "    from wmf.mediawiki_history\n",
    "    where\n",
    "        -- REGISTERED\n",
    "        event_user_is_anonymous = false and\n",
    "        \n",
    "        -- NON-BOT\n",
    "        event_user_is_bot_by_name = false and\n",
    "        not array_contains(event_user_groups, \"bot\") and\n",
    "        \n",
    "        -- EDITS\n",
    "        event_entity = \"revision\" and\n",
    "        event_type = \"create\" and\n",
    "        \n",
    "        -- FROM THE LAST YEAR\n",
    "        unix_timestamp(event_timestamp, \"yyyy-MM-dd HH:mm:ss.0\") \n",
    "            > (unix_timestamp(\"{end_of_data}\") - (60 * 60 * 24 * 365)) and\n",
    "        \n",
    "        -- FROM THE LATEST SNAPSHOT\n",
    "        snapshot = \"{hive_snapshot}\"\n",
    "    \n",
    "    -- PER USER, PER WIKI\n",
    "    group by event_user_text, wiki_db\n",
    ")\n",
    "\n",
    "-- FINAL SELECT OF\n",
    "select \n",
    "    recent_actives.user as user,\n",
    "    yr_edits.proj as home_proj,\n",
    "    global_edits\n",
    "\n",
    "-- USERS ACTIVE IN 2 OF 3 MONTHS\n",
    "from (\n",
    "    select\n",
    "        user,\n",
    "        sum(if(edits >= 5, 1, 0)) as active_months\n",
    "    from mo_edits\n",
    "    where\n",
    "        -- WHO ARE NOT WMF STAFF\n",
    "        user not like \"%WMF%\"\n",
    "    group by user\n",
    "    having active_months >= 2\n",
    ") recent_actives\n",
    "\n",
    "-- JOINED TO THEIR HOME WIKI AND GLOBAL EDITS\n",
    "left join (\n",
    "    select\n",
    "        user,\n",
    "        proj,\n",
    "        -- in the unlikely event that wikis are tied by edit count and latest edit, \n",
    "        -- row_number() will break it somehow\n",
    "        row_number() over (partition by user order by edits desc, latest_edit desc) as rank,\n",
    "        sum(edits) over (partition by user) as global_edits\n",
    "    from yr_proj_edits\n",
    ") yr_edits\n",
    "on \n",
    "    recent_actives.user = yr_edits.user and\n",
    "    rank = 1\n",
    "\"\"\""
   ]
  },
  {
   "cell_type": "code",
   "execution_count": 6,
   "metadata": {
    "collapsed": false
   },
   "outputs": [],
   "source": [
    "raw_frame = run_hive(\n",
    "    frame_query.format(\n",
    "        hive_snapshot = HIVE_SNAPSHOT,\n",
    "        end_of_data = END_OF_DATA,\n",
    "        days_in_last_3_mo = DAYS_IN_LAST_3_MO\n",
    "    )\n",
    ")"
   ]
  },
  {
   "cell_type": "code",
   "execution_count": 60,
   "metadata": {
    "collapsed": false
   },
   "outputs": [
    {
     "data": {
      "text/html": [
       "<div>\n",
       "<table border=\"1\" class=\"dataframe\">\n",
       "  <thead>\n",
       "    <tr style=\"text-align: right;\">\n",
       "      <th></th>\n",
       "      <th>user</th>\n",
       "      <th>home_proj</th>\n",
       "      <th>global_edits</th>\n",
       "    </tr>\n",
       "  </thead>\n",
       "  <tbody>\n",
       "    <tr>\n",
       "      <th>0</th>\n",
       "      <td>! Bikkit !</td>\n",
       "      <td>dewiki</td>\n",
       "      <td>219.0</td>\n",
       "    </tr>\n",
       "    <tr>\n",
       "      <th>1</th>\n",
       "      <td>!NewLondon31</td>\n",
       "      <td>jawiki</td>\n",
       "      <td>46.0</td>\n",
       "    </tr>\n",
       "    <tr>\n",
       "      <th>2</th>\n",
       "      <td>!Silent</td>\n",
       "      <td>ptwiki</td>\n",
       "      <td>20688.8</td>\n",
       "    </tr>\n",
       "    <tr>\n",
       "      <th>3</th>\n",
       "      <td>\"Colorado Campeão\"!</td>\n",
       "      <td>ptwiki</td>\n",
       "      <td>417.0</td>\n",
       "    </tr>\n",
       "    <tr>\n",
       "      <th>4</th>\n",
       "      <td>\"quasi\" tuttologo</td>\n",
       "      <td>itwiki</td>\n",
       "      <td>117.0</td>\n",
       "    </tr>\n",
       "  </tbody>\n",
       "</table>\n",
       "</div>"
      ],
      "text/plain": [
       "                  user home_proj  global_edits\n",
       "0           ! Bikkit !    dewiki         219.0\n",
       "1         !NewLondon31    jawiki          46.0\n",
       "2              !Silent    ptwiki       20688.8\n",
       "3  \"Colorado Campeão\"!    ptwiki         417.0\n",
       "4    \"quasi\" tuttologo    itwiki         117.0"
      ]
     },
     "execution_count": 60,
     "metadata": {},
     "output_type": "execute_result"
    }
   ],
   "source": [
    "raw_frame.head()"
   ]
  },
  {
   "cell_type": "code",
   "execution_count": 79,
   "metadata": {
    "collapsed": false
   },
   "outputs": [],
   "source": [
    "raw_frame.to_csv(\"data/raw/sampling-frame.tsv\", sep = \"\\t\", index = False)"
   ]
  },
  {
   "cell_type": "markdown",
   "metadata": {},
   "source": [
    "# Enriching frame"
   ]
  },
  {
   "cell_type": "code",
   "execution_count": 80,
   "metadata": {
    "collapsed": false
   },
   "outputs": [
    {
     "data": {
      "text/html": [
       "<div>\n",
       "<table border=\"1\" class=\"dataframe\">\n",
       "  <thead>\n",
       "    <tr style=\"text-align: right;\">\n",
       "      <th></th>\n",
       "      <th>proj_key</th>\n",
       "      <th>proj_group</th>\n",
       "    </tr>\n",
       "  </thead>\n",
       "  <tbody>\n",
       "    <tr>\n",
       "      <th>0</th>\n",
       "      <td>aawiki</td>\n",
       "      <td>meaf_wps</td>\n",
       "    </tr>\n",
       "    <tr>\n",
       "      <th>1</th>\n",
       "      <td>abwiki</td>\n",
       "      <td>meaf_wps</td>\n",
       "    </tr>\n",
       "    <tr>\n",
       "      <th>2</th>\n",
       "      <td>acewiki</td>\n",
       "      <td>asia_wps</td>\n",
       "    </tr>\n",
       "    <tr>\n",
       "      <th>3</th>\n",
       "      <td>adywiki</td>\n",
       "      <td>cee_wps</td>\n",
       "    </tr>\n",
       "    <tr>\n",
       "      <th>4</th>\n",
       "      <td>afwiki</td>\n",
       "      <td>meaf_wps</td>\n",
       "    </tr>\n",
       "  </tbody>\n",
       "</table>\n",
       "</div>"
      ],
      "text/plain": [
       "  proj_key proj_group\n",
       "0   aawiki   meaf_wps\n",
       "1   abwiki   meaf_wps\n",
       "2  acewiki   asia_wps\n",
       "3  adywiki    cee_wps\n",
       "4   afwiki   meaf_wps"
      ]
     },
     "execution_count": 80,
     "metadata": {},
     "output_type": "execute_result"
    }
   ],
   "source": [
    "# Import without human-readable name column\n",
    "proj_groups = pd.read_table(\"data/raw/project-groups.tsv\").drop(\"proj_name\", axis = 1)\n",
    "proj_groups.head()"
   ]
  },
  {
   "cell_type": "code",
   "execution_count": 81,
   "metadata": {
    "collapsed": false
   },
   "outputs": [
    {
     "data": {
      "text/html": [
       "<div>\n",
       "<table border=\"1\" class=\"dataframe\">\n",
       "  <thead>\n",
       "    <tr style=\"text-align: right;\">\n",
       "      <th></th>\n",
       "      <th>user</th>\n",
       "      <th>home_proj</th>\n",
       "      <th>global_edits</th>\n",
       "      <th>proj_group</th>\n",
       "    </tr>\n",
       "  </thead>\n",
       "  <tbody>\n",
       "    <tr>\n",
       "      <th>0</th>\n",
       "      <td>! Bikkit !</td>\n",
       "      <td>dewiki</td>\n",
       "      <td>219.0</td>\n",
       "      <td>dewiki</td>\n",
       "    </tr>\n",
       "    <tr>\n",
       "      <th>1</th>\n",
       "      <td>!NewLondon31</td>\n",
       "      <td>jawiki</td>\n",
       "      <td>46.0</td>\n",
       "      <td>jawiki</td>\n",
       "    </tr>\n",
       "    <tr>\n",
       "      <th>2</th>\n",
       "      <td>!Silent</td>\n",
       "      <td>ptwiki</td>\n",
       "      <td>20688.8</td>\n",
       "      <td>ptwiki</td>\n",
       "    </tr>\n",
       "    <tr>\n",
       "      <th>3</th>\n",
       "      <td>\"Colorado Campeão\"!</td>\n",
       "      <td>ptwiki</td>\n",
       "      <td>417.0</td>\n",
       "      <td>ptwiki</td>\n",
       "    </tr>\n",
       "    <tr>\n",
       "      <th>4</th>\n",
       "      <td>\"quasi\" tuttologo</td>\n",
       "      <td>itwiki</td>\n",
       "      <td>117.0</td>\n",
       "      <td>itwiki</td>\n",
       "    </tr>\n",
       "  </tbody>\n",
       "</table>\n",
       "</div>"
      ],
      "text/plain": [
       "                  user home_proj  global_edits proj_group\n",
       "0           ! Bikkit !    dewiki         219.0     dewiki\n",
       "1         !NewLondon31    jawiki          46.0     jawiki\n",
       "2              !Silent    ptwiki       20688.8     ptwiki\n",
       "3  \"Colorado Campeão\"!    ptwiki         417.0     ptwiki\n",
       "4    \"quasi\" tuttologo    itwiki         117.0     itwiki"
      ]
     },
     "execution_count": 81,
     "metadata": {},
     "output_type": "execute_result"
    }
   ],
   "source": [
    "frame = raw_frame.merge(proj_groups, how = \"left\", left_on = \"home_proj\", right_on = \"proj_key\" )\n",
    "frame = frame.drop(\"proj_key\", axis = 1)\n",
    "frame.head()"
   ]
  },
  {
   "cell_type": "code",
   "execution_count": 82,
   "metadata": {
    "collapsed": false
   },
   "outputs": [
    {
     "data": {
      "text/html": [
       "<div>\n",
       "<table border=\"1\" class=\"dataframe\">\n",
       "  <thead>\n",
       "    <tr style=\"text-align: right;\">\n",
       "      <th></th>\n",
       "      <th>proj_key</th>\n",
       "      <th>proj_domain</th>\n",
       "    </tr>\n",
       "  </thead>\n",
       "  <tbody>\n",
       "    <tr>\n",
       "      <th>0</th>\n",
       "      <td>aawiki</td>\n",
       "      <td>aa.wikipedia.org</td>\n",
       "    </tr>\n",
       "    <tr>\n",
       "      <th>1</th>\n",
       "      <td>aawiktionary</td>\n",
       "      <td>aa.wiktionary.org</td>\n",
       "    </tr>\n",
       "    <tr>\n",
       "      <th>2</th>\n",
       "      <td>aawikibooks</td>\n",
       "      <td>aa.wikibooks.org</td>\n",
       "    </tr>\n",
       "    <tr>\n",
       "      <th>3</th>\n",
       "      <td>abwiki</td>\n",
       "      <td>ab.wikipedia.org</td>\n",
       "    </tr>\n",
       "    <tr>\n",
       "      <th>4</th>\n",
       "      <td>abwiktionary</td>\n",
       "      <td>ab.wiktionary.org</td>\n",
       "    </tr>\n",
       "  </tbody>\n",
       "</table>\n",
       "</div>"
      ],
      "text/plain": [
       "       proj_key        proj_domain\n",
       "0        aawiki   aa.wikipedia.org\n",
       "1  aawiktionary  aa.wiktionary.org\n",
       "2   aawikibooks   aa.wikibooks.org\n",
       "3        abwiki   ab.wikipedia.org\n",
       "4  abwiktionary  ab.wiktionary.org"
      ]
     },
     "execution_count": 82,
     "metadata": {},
     "output_type": "execute_result"
    }
   ],
   "source": [
    "domains = pd.read_table(\"data/raw/project-domains.tsv\", index_col = 0).reset_index()\n",
    "domains.head()"
   ]
  },
  {
   "cell_type": "code",
   "execution_count": 83,
   "metadata": {
    "collapsed": false
   },
   "outputs": [
    {
     "data": {
      "text/html": [
       "<div>\n",
       "<table border=\"1\" class=\"dataframe\">\n",
       "  <thead>\n",
       "    <tr style=\"text-align: right;\">\n",
       "      <th></th>\n",
       "      <th>user</th>\n",
       "      <th>home_proj</th>\n",
       "      <th>global_edits</th>\n",
       "      <th>proj_group</th>\n",
       "      <th>proj_domain</th>\n",
       "    </tr>\n",
       "  </thead>\n",
       "  <tbody>\n",
       "    <tr>\n",
       "      <th>0</th>\n",
       "      <td>! Bikkit !</td>\n",
       "      <td>dewiki</td>\n",
       "      <td>219.0</td>\n",
       "      <td>dewiki</td>\n",
       "      <td>de.wikipedia.org</td>\n",
       "    </tr>\n",
       "    <tr>\n",
       "      <th>1</th>\n",
       "      <td>!NewLondon31</td>\n",
       "      <td>jawiki</td>\n",
       "      <td>46.0</td>\n",
       "      <td>jawiki</td>\n",
       "      <td>ja.wikipedia.org</td>\n",
       "    </tr>\n",
       "    <tr>\n",
       "      <th>2</th>\n",
       "      <td>!Silent</td>\n",
       "      <td>ptwiki</td>\n",
       "      <td>20688.8</td>\n",
       "      <td>ptwiki</td>\n",
       "      <td>pt.wikipedia.org</td>\n",
       "    </tr>\n",
       "    <tr>\n",
       "      <th>3</th>\n",
       "      <td>\"Colorado Campeão\"!</td>\n",
       "      <td>ptwiki</td>\n",
       "      <td>417.0</td>\n",
       "      <td>ptwiki</td>\n",
       "      <td>pt.wikipedia.org</td>\n",
       "    </tr>\n",
       "    <tr>\n",
       "      <th>4</th>\n",
       "      <td>\"quasi\" tuttologo</td>\n",
       "      <td>itwiki</td>\n",
       "      <td>117.0</td>\n",
       "      <td>itwiki</td>\n",
       "      <td>it.wikipedia.org</td>\n",
       "    </tr>\n",
       "  </tbody>\n",
       "</table>\n",
       "</div>"
      ],
      "text/plain": [
       "                  user home_proj  global_edits proj_group       proj_domain\n",
       "0           ! Bikkit !    dewiki         219.0     dewiki  de.wikipedia.org\n",
       "1         !NewLondon31    jawiki          46.0     jawiki  ja.wikipedia.org\n",
       "2              !Silent    ptwiki       20688.8     ptwiki  pt.wikipedia.org\n",
       "3  \"Colorado Campeão\"!    ptwiki         417.0     ptwiki  pt.wikipedia.org\n",
       "4    \"quasi\" tuttologo    itwiki         117.0     itwiki  it.wikipedia.org"
      ]
     },
     "execution_count": 83,
     "metadata": {},
     "output_type": "execute_result"
    }
   ],
   "source": [
    "frame = frame.merge(domains, how = \"left\", left_on = \"home_proj\", right_on = \"proj_key\" )\n",
    "frame = frame.drop(\"proj_key\", axis = 1)\n",
    "frame.head()"
   ]
  },
  {
   "cell_type": "code",
   "execution_count": 84,
   "metadata": {
    "collapsed": true
   },
   "outputs": [],
   "source": [
    "# Any project not in project-groups.tsv is in the \"other\" group\n",
    "frame[\"proj_group\"] = frame[\"proj_group\"].fillna(\"other\")"
   ]
  },
  {
   "cell_type": "code",
   "execution_count": 85,
   "metadata": {
    "collapsed": true
   },
   "outputs": [],
   "source": [
    "frame_len = len(frame[\"user\"])"
   ]
  },
  {
   "cell_type": "code",
   "execution_count": 86,
   "metadata": {
    "collapsed": false
   },
   "outputs": [
    {
     "data": {
      "text/plain": [
       "True"
      ]
     },
     "execution_count": 86,
     "metadata": {},
     "output_type": "execute_result"
    }
   ],
   "source": [
    "# Are all our users unique?\n",
    "frame.user.nunique() == frame_len"
   ]
  },
  {
   "cell_type": "code",
   "execution_count": 87,
   "metadata": {
    "collapsed": false
   },
   "outputs": [
    {
     "data": {
      "text/plain": [
       "True"
      ]
     },
     "execution_count": 87,
     "metadata": {},
     "output_type": "execute_result"
    }
   ],
   "source": [
    "# Are all our users in a group?\n",
    "frame.groupby(\"proj_group\")[\"user\"].count().sum() == frame_len"
   ]
  },
  {
   "cell_type": "code",
   "execution_count": 88,
   "metadata": {
    "collapsed": false
   },
   "outputs": [
    {
     "data": {
      "text/plain": [
       "True"
      ]
     },
     "execution_count": 88,
     "metadata": {},
     "output_type": "execute_result"
    }
   ],
   "source": [
    "# Do we have the 18 groups we want?\n",
    "frame[\"proj_group\"].nunique() == 18"
   ]
  },
  {
   "cell_type": "code",
   "execution_count": 76,
   "metadata": {
    "collapsed": false
   },
   "outputs": [
    {
     "data": {
      "text/html": [
       "<div>\n",
       "<table border=\"1\" class=\"dataframe\">\n",
       "  <thead>\n",
       "    <tr style=\"text-align: right;\">\n",
       "      <th></th>\n",
       "      <th>user</th>\n",
       "      <th>home_proj</th>\n",
       "      <th>global_edits</th>\n",
       "      <th>proj_group</th>\n",
       "      <th>proj_domain</th>\n",
       "    </tr>\n",
       "  </thead>\n",
       "  <tbody>\n",
       "    <tr>\n",
       "      <th>20708</th>\n",
       "      <td>Jampilot</td>\n",
       "      <td>enwiki</td>\n",
       "      <td>142.0</td>\n",
       "      <td>enwiki</td>\n",
       "      <td>en.wikipedia.org</td>\n",
       "    </tr>\n",
       "    <tr>\n",
       "      <th>52139</th>\n",
       "      <td>사과우유</td>\n",
       "      <td>kowiki</td>\n",
       "      <td>48.0</td>\n",
       "      <td>asia_wps</td>\n",
       "      <td>ko.wikipedia.org</td>\n",
       "    </tr>\n",
       "    <tr>\n",
       "      <th>6208</th>\n",
       "      <td>Boldbdd</td>\n",
       "      <td>mnwiki</td>\n",
       "      <td>39.4</td>\n",
       "      <td>asia_wps</td>\n",
       "      <td>mn.wikipedia.org</td>\n",
       "    </tr>\n",
       "    <tr>\n",
       "      <th>10959</th>\n",
       "      <td>Dheillyx</td>\n",
       "      <td>frwiki</td>\n",
       "      <td>148.0</td>\n",
       "      <td>frwiki</td>\n",
       "      <td>fr.wikipedia.org</td>\n",
       "    </tr>\n",
       "    <tr>\n",
       "      <th>7041</th>\n",
       "      <td>CHARQUIN</td>\n",
       "      <td>frwiki</td>\n",
       "      <td>2525.4</td>\n",
       "      <td>frwiki</td>\n",
       "      <td>fr.wikipedia.org</td>\n",
       "    </tr>\n",
       "    <tr>\n",
       "      <th>9800</th>\n",
       "      <td>Daerl</td>\n",
       "      <td>enwiki</td>\n",
       "      <td>1368.1</td>\n",
       "      <td>enwiki</td>\n",
       "      <td>en.wikipedia.org</td>\n",
       "    </tr>\n",
       "    <tr>\n",
       "      <th>11052</th>\n",
       "      <td>Dieschwarzgelben</td>\n",
       "      <td>thwiki</td>\n",
       "      <td>100.0</td>\n",
       "      <td>asia_wps</td>\n",
       "      <td>th.wikipedia.org</td>\n",
       "    </tr>\n",
       "    <tr>\n",
       "      <th>23860</th>\n",
       "      <td>Kleiner Stampfi</td>\n",
       "      <td>dewiki</td>\n",
       "      <td>55.0</td>\n",
       "      <td>dewiki</td>\n",
       "      <td>de.wikipedia.org</td>\n",
       "    </tr>\n",
       "    <tr>\n",
       "      <th>42260</th>\n",
       "      <td>TEP 60</td>\n",
       "      <td>ruwiki</td>\n",
       "      <td>171.0</td>\n",
       "      <td>ruwiki</td>\n",
       "      <td>ru.wikipedia.org</td>\n",
       "    </tr>\n",
       "    <tr>\n",
       "      <th>43688</th>\n",
       "      <td>Tia Canita</td>\n",
       "      <td>eswiki</td>\n",
       "      <td>1568.4</td>\n",
       "      <td>eswiki</td>\n",
       "      <td>es.wikipedia.org</td>\n",
       "    </tr>\n",
       "  </tbody>\n",
       "</table>\n",
       "</div>"
      ],
      "text/plain": [
       "                   user home_proj  global_edits proj_group       proj_domain\n",
       "20708          Jampilot    enwiki         142.0     enwiki  en.wikipedia.org\n",
       "52139              사과우유    kowiki          48.0   asia_wps  ko.wikipedia.org\n",
       "6208            Boldbdd    mnwiki          39.4   asia_wps  mn.wikipedia.org\n",
       "10959          Dheillyx    frwiki         148.0     frwiki  fr.wikipedia.org\n",
       "7041           CHARQUIN    frwiki        2525.4     frwiki  fr.wikipedia.org\n",
       "9800              Daerl    enwiki        1368.1     enwiki  en.wikipedia.org\n",
       "11052  Dieschwarzgelben    thwiki         100.0   asia_wps  th.wikipedia.org\n",
       "23860   Kleiner Stampfi    dewiki          55.0     dewiki  de.wikipedia.org\n",
       "42260            TEP 60    ruwiki         171.0     ruwiki  ru.wikipedia.org\n",
       "43688        Tia Canita    eswiki        1568.4     eswiki  es.wikipedia.org"
      ]
     },
     "execution_count": 76,
     "metadata": {},
     "output_type": "execute_result"
    }
   ],
   "source": [
    "# Pick 10 random users to check against [an edit counter](https://xtools.wmflabs.org/ec)\n",
    "# to make sure their edit counts and home projects are correct\n",
    "frame.sample(n = 10)"
   ]
  },
  {
   "cell_type": "code",
   "execution_count": 89,
   "metadata": {
    "collapsed": false
   },
   "outputs": [],
   "source": [
    "# Those 10 users check out, let's write the enhanced frame to a TSV!\n",
    "frame.to_csv(\"data/interim/sampling-frame.tsv\", sep = \"\\t\", index = False)"
   ]
  }
 ],
 "metadata": {
  "kernelspec": {
   "display_name": "Python 3",
   "language": "python",
   "name": "python3"
  },
  "language_info": {
   "codemirror_mode": {
    "name": "ipython",
    "version": 3
   },
   "file_extension": ".py",
   "mimetype": "text/x-python",
   "name": "python",
   "nbconvert_exporter": "python",
   "pygments_lexer": "ipython3",
   "version": "3.4.2"
  }
 },
 "nbformat": 4,
 "nbformat_minor": 2
}
