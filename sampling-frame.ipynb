{
 "cells": [
  {
   "cell_type": "code",
   "execution_count": 4,
   "metadata": {
    "collapsed": true
   },
   "outputs": [],
   "source": [
    "HIVE_SNAPSHOT = \"2018-02\"\n",
    "END_OF_DATA = \"2018-03-01 00:00:00\"\n",
    "DAYS_IN_LAST_3_MO = 90"
   ]
  },
  {
   "cell_type": "code",
   "execution_count": 5,
   "metadata": {
    "collapsed": true
   },
   "outputs": [],
   "source": [
    "frame_query = \"\"\"\n",
    "-- TABLE OF\n",
    "with mo_edits as (\n",
    "    select\n",
    "        event_user_text as user,\n",
    "        year(event_timestamp) as year,\n",
    "        month(event_timestamp) as month,\n",
    "        sum(if(wiki_db = \"wikidatawiki\", 0.1, 1)) as edits\n",
    "    from wmf.mediawiki_history\n",
    "    where\n",
    "        -- REGISTERED\n",
    "        event_user_is_anonymous = false and\n",
    "        \n",
    "        -- NON-BOT\n",
    "        event_user_is_bot_by_name = false and\n",
    "        not array_contains(event_user_groups, \"bot\") and\n",
    "        \n",
    "        -- CONTENT\n",
    "        page_namespace_is_content_historical = true and\n",
    "        \n",
    "        -- EDITS\n",
    "        event_entity = \"revision\" and\n",
    "        event_type = \"create\" and\n",
    "        \n",
    "        -- FROM THE LAST 3 MONTHS\n",
    "        unix_timestamp(event_timestamp, \"yyyy-MM-dd HH:mm:ss.0\") \n",
    "            > (unix_timestamp(\"{end_of_data}\") - (60 * 60 * 24 * {days_in_last_3_mo})) and\n",
    "\n",
    "        -- FROM THE LATEST SNAPSHOT\n",
    "        snapshot = \"{hive_snapshot}\"    \n",
    "    -- PER USER, PER MONTH\n",
    "    group by event_user_text, year(event_timestamp), month(event_timestamp)\n",
    "), \n",
    "\n",
    "-- TABLE OF\n",
    "yr_proj_edits as (\n",
    "    select\n",
    "        event_user_text as user,\n",
    "        wiki_db as proj,\n",
    "        sum(if(wiki_db = \"wikidatawiki\", 0.1, 1)) as edits,\n",
    "        max(event_timestamp) as latest_edit\n",
    "    from wmf.mediawiki_history\n",
    "    where\n",
    "        -- REGISTERED\n",
    "        event_user_is_anonymous = false and\n",
    "        \n",
    "        -- NON-BOT\n",
    "        event_user_is_bot_by_name = false and\n",
    "        not array_contains(event_user_groups, \"bot\") and\n",
    "        \n",
    "        -- EDITS\n",
    "        event_entity = \"revision\" and\n",
    "        event_type = \"create\" and\n",
    "        \n",
    "        -- FROM THE LAST YEAR\n",
    "        unix_timestamp(event_timestamp, \"yyyy-MM-dd HH:mm:ss.0\") \n",
    "            > (unix_timestamp(\"{end_of_data}\") - (60 * 60 * 24 * 365)) and\n",
    "        \n",
    "        -- FROM THE LATEST SNAPSHOT\n",
    "        snapshot = \"{hive_snapshot}\"\n",
    "    \n",
    "    -- PER USER, PER WIKI\n",
    "    group by event_user_text, wiki_db\n",
    ")\n",
    "\n",
    "-- FINAL SELECT OF\n",
    "select \n",
    "    recent_actives.user as user,\n",
    "    yr_edits.proj as home_proj,\n",
    "    global_edits\n",
    "\n",
    "-- USERS ACTIVE IN 2 OF 3 MONTHS\n",
    "from (\n",
    "    select\n",
    "        user,\n",
    "        sum(if(edits >= 5, 1, 0)) as active_months\n",
    "    from mo_edits\n",
    "    where\n",
    "        -- WHO ARE NOT WMF STAFF\n",
    "        user not like \"%WMF%\"\n",
    "    group by user\n",
    "    having active_months >= 2\n",
    ") recent_actives\n",
    "\n",
    "-- JOINED TO THEIR HOME WIKI AND GLOBAL EDITS\n",
    "left join (\n",
    "    select\n",
    "        user,\n",
    "        proj,\n",
    "        -- in the unlikely event that wikis are tied by edit count and latest edit, \n",
    "        -- row_number() will break it somehow\n",
    "        row_number() over (partition by user order by edits desc, latest_edit desc) as rank,\n",
    "        sum(edits) over (partition by user) as global_edits\n",
    "    from yr_proj_edits\n",
    ") yr_edits\n",
    "on \n",
    "    recent_actives.user = yr_edits.user and\n",
    "    rank = 1\n",
    "\"\"\""
   ]
  },
  {
   "cell_type": "code",
   "execution_count": 6,
   "metadata": {
    "collapsed": false
   },
   "outputs": [],
   "source": [
    "frame = run_hive(\n",
    "    frame_query.format(\n",
    "        hive_snapshot = HIVE_SNAPSHOT,\n",
    "        end_of_data = END_OF_DATA,\n",
    "        days_in_last_3_mo = DAYS_IN_LAST_3_MO\n",
    "    )\n",
    ")"
   ]
  },
  {
   "cell_type": "code",
   "execution_count": 42,
   "metadata": {
    "collapsed": false
   },
   "outputs": [
    {
     "data": {
      "text/html": [
       "<div>\n",
       "<table border=\"1\" class=\"dataframe\">\n",
       "  <thead>\n",
       "    <tr style=\"text-align: right;\">\n",
       "      <th></th>\n",
       "      <th>user</th>\n",
       "      <th>home_proj</th>\n",
       "      <th>global_edits</th>\n",
       "    </tr>\n",
       "  </thead>\n",
       "  <tbody>\n",
       "    <tr>\n",
       "      <th>0</th>\n",
       "      <td>! Bikkit !</td>\n",
       "      <td>dewiki</td>\n",
       "      <td>219.0</td>\n",
       "    </tr>\n",
       "    <tr>\n",
       "      <th>1</th>\n",
       "      <td>!NewLondon31</td>\n",
       "      <td>jawiki</td>\n",
       "      <td>46.0</td>\n",
       "    </tr>\n",
       "    <tr>\n",
       "      <th>2</th>\n",
       "      <td>!Silent</td>\n",
       "      <td>ptwiki</td>\n",
       "      <td>20688.8</td>\n",
       "    </tr>\n",
       "    <tr>\n",
       "      <th>3</th>\n",
       "      <td>\"Colorado Campeão\"!</td>\n",
       "      <td>ptwiki</td>\n",
       "      <td>417.0</td>\n",
       "    </tr>\n",
       "    <tr>\n",
       "      <th>4</th>\n",
       "      <td>\"quasi\" tuttologo</td>\n",
       "      <td>itwiki</td>\n",
       "      <td>117.0</td>\n",
       "    </tr>\n",
       "  </tbody>\n",
       "</table>\n",
       "</div>"
      ],
      "text/plain": [
       "                  user home_proj  global_edits\n",
       "0           ! Bikkit !    dewiki         219.0\n",
       "1         !NewLondon31    jawiki          46.0\n",
       "2              !Silent    ptwiki       20688.8\n",
       "3  \"Colorado Campeão\"!    ptwiki         417.0\n",
       "4    \"quasi\" tuttologo    itwiki         117.0"
      ]
     },
     "execution_count": 42,
     "metadata": {},
     "output_type": "execute_result"
    }
   ],
   "source": [
    "frame.head()"
   ]
  },
  {
   "cell_type": "code",
   "execution_count": 43,
   "metadata": {
    "collapsed": false
   },
   "outputs": [
    {
     "data": {
      "text/html": [
       "<div>\n",
       "<table border=\"1\" class=\"dataframe\">\n",
       "  <thead>\n",
       "    <tr style=\"text-align: right;\">\n",
       "      <th></th>\n",
       "      <th>project_key</th>\n",
       "      <th>project_group</th>\n",
       "    </tr>\n",
       "  </thead>\n",
       "  <tbody>\n",
       "    <tr>\n",
       "      <th>0</th>\n",
       "      <td>aawiki</td>\n",
       "      <td>ssa_wps</td>\n",
       "    </tr>\n",
       "    <tr>\n",
       "      <th>1</th>\n",
       "      <td>abwiki</td>\n",
       "      <td>mena_wps</td>\n",
       "    </tr>\n",
       "    <tr>\n",
       "      <th>2</th>\n",
       "      <td>acewiki</td>\n",
       "      <td>asia_wps</td>\n",
       "    </tr>\n",
       "    <tr>\n",
       "      <th>3</th>\n",
       "      <td>adywiki</td>\n",
       "      <td>cee_wps</td>\n",
       "    </tr>\n",
       "    <tr>\n",
       "      <th>4</th>\n",
       "      <td>afwiki</td>\n",
       "      <td>ssa_wps</td>\n",
       "    </tr>\n",
       "  </tbody>\n",
       "</table>\n",
       "</div>"
      ],
      "text/plain": [
       "  project_key project_group\n",
       "0      aawiki       ssa_wps\n",
       "1      abwiki      mena_wps\n",
       "2     acewiki      asia_wps\n",
       "3     adywiki       cee_wps\n",
       "4      afwiki       ssa_wps"
      ]
     },
     "execution_count": 43,
     "metadata": {},
     "output_type": "execute_result"
    }
   ],
   "source": [
    "# Import without human-readable name column\n",
    "proj_groups = pd.read_table(\"project-groups.tsv\").drop(\"project_name\", axis = 1)\n",
    "\n",
    "proj_groups.head()"
   ]
  },
  {
   "cell_type": "code",
   "execution_count": 49,
   "metadata": {
    "collapsed": false
   },
   "outputs": [
    {
     "data": {
      "text/html": [
       "<div>\n",
       "<table border=\"1\" class=\"dataframe\">\n",
       "  <thead>\n",
       "    <tr style=\"text-align: right;\">\n",
       "      <th></th>\n",
       "      <th>user</th>\n",
       "      <th>home_proj</th>\n",
       "      <th>global_edits</th>\n",
       "      <th>project_group</th>\n",
       "    </tr>\n",
       "  </thead>\n",
       "  <tbody>\n",
       "    <tr>\n",
       "      <th>0</th>\n",
       "      <td>! Bikkit !</td>\n",
       "      <td>dewiki</td>\n",
       "      <td>219.0</td>\n",
       "      <td>dewiki</td>\n",
       "    </tr>\n",
       "    <tr>\n",
       "      <th>1</th>\n",
       "      <td>!NewLondon31</td>\n",
       "      <td>jawiki</td>\n",
       "      <td>46.0</td>\n",
       "      <td>jawiki</td>\n",
       "    </tr>\n",
       "    <tr>\n",
       "      <th>2</th>\n",
       "      <td>!Silent</td>\n",
       "      <td>ptwiki</td>\n",
       "      <td>20688.8</td>\n",
       "      <td>ptwiki</td>\n",
       "    </tr>\n",
       "    <tr>\n",
       "      <th>3</th>\n",
       "      <td>\"Colorado Campeão\"!</td>\n",
       "      <td>ptwiki</td>\n",
       "      <td>417.0</td>\n",
       "      <td>ptwiki</td>\n",
       "    </tr>\n",
       "    <tr>\n",
       "      <th>4</th>\n",
       "      <td>\"quasi\" tuttologo</td>\n",
       "      <td>itwiki</td>\n",
       "      <td>117.0</td>\n",
       "      <td>itwiki</td>\n",
       "    </tr>\n",
       "  </tbody>\n",
       "</table>\n",
       "</div>"
      ],
      "text/plain": [
       "                  user home_proj  global_edits project_group\n",
       "0           ! Bikkit !    dewiki         219.0        dewiki\n",
       "1         !NewLondon31    jawiki          46.0        jawiki\n",
       "2              !Silent    ptwiki       20688.8        ptwiki\n",
       "3  \"Colorado Campeão\"!    ptwiki         417.0        ptwiki\n",
       "4    \"quasi\" tuttologo    itwiki         117.0        itwiki"
      ]
     },
     "execution_count": 49,
     "metadata": {},
     "output_type": "execute_result"
    }
   ],
   "source": [
    "rich_frame = frame.merge(proj_groups, how = \"left\", left_on = \"home_proj\", right_on = \"project_key\" )\n",
    "rich_frame = rich_frame.drop(\"project_key\", axis = 1)\n",
    "rich_frame.head()"
   ]
  },
  {
   "cell_type": "code",
   "execution_count": 50,
   "metadata": {
    "collapsed": false
   },
   "outputs": [
    {
     "data": {
      "text/html": [
       "<div>\n",
       "<table border=\"1\" class=\"dataframe\">\n",
       "  <thead>\n",
       "    <tr style=\"text-align: right;\">\n",
       "      <th></th>\n",
       "      <th>project_key</th>\n",
       "      <th>project_domain</th>\n",
       "    </tr>\n",
       "  </thead>\n",
       "  <tbody>\n",
       "    <tr>\n",
       "      <th>0</th>\n",
       "      <td>aawiki</td>\n",
       "      <td>aa.wikipedia.org</td>\n",
       "    </tr>\n",
       "    <tr>\n",
       "      <th>1</th>\n",
       "      <td>aawiktionary</td>\n",
       "      <td>aa.wiktionary.org</td>\n",
       "    </tr>\n",
       "    <tr>\n",
       "      <th>2</th>\n",
       "      <td>aawikibooks</td>\n",
       "      <td>aa.wikibooks.org</td>\n",
       "    </tr>\n",
       "    <tr>\n",
       "      <th>3</th>\n",
       "      <td>abwiki</td>\n",
       "      <td>ab.wikipedia.org</td>\n",
       "    </tr>\n",
       "    <tr>\n",
       "      <th>4</th>\n",
       "      <td>abwiktionary</td>\n",
       "      <td>ab.wiktionary.org</td>\n",
       "    </tr>\n",
       "  </tbody>\n",
       "</table>\n",
       "</div>"
      ],
      "text/plain": [
       "    project_key     project_domain\n",
       "0        aawiki   aa.wikipedia.org\n",
       "1  aawiktionary  aa.wiktionary.org\n",
       "2   aawikibooks   aa.wikibooks.org\n",
       "3        abwiki   ab.wikipedia.org\n",
       "4  abwiktionary  ab.wiktionary.org"
      ]
     },
     "execution_count": 50,
     "metadata": {},
     "output_type": "execute_result"
    }
   ],
   "source": [
    "domains = pd.read_table(\"project-domains.tsv\", index_col = 0).reset_index()\n",
    "domains.head()"
   ]
  },
  {
   "cell_type": "code",
   "execution_count": 51,
   "metadata": {
    "collapsed": false
   },
   "outputs": [
    {
     "data": {
      "text/html": [
       "<div>\n",
       "<table border=\"1\" class=\"dataframe\">\n",
       "  <thead>\n",
       "    <tr style=\"text-align: right;\">\n",
       "      <th></th>\n",
       "      <th>user</th>\n",
       "      <th>home_proj</th>\n",
       "      <th>global_edits</th>\n",
       "      <th>project_group</th>\n",
       "      <th>project_domain</th>\n",
       "    </tr>\n",
       "  </thead>\n",
       "  <tbody>\n",
       "    <tr>\n",
       "      <th>0</th>\n",
       "      <td>! Bikkit !</td>\n",
       "      <td>dewiki</td>\n",
       "      <td>219.0</td>\n",
       "      <td>dewiki</td>\n",
       "      <td>de.wikipedia.org</td>\n",
       "    </tr>\n",
       "    <tr>\n",
       "      <th>1</th>\n",
       "      <td>!NewLondon31</td>\n",
       "      <td>jawiki</td>\n",
       "      <td>46.0</td>\n",
       "      <td>jawiki</td>\n",
       "      <td>ja.wikipedia.org</td>\n",
       "    </tr>\n",
       "    <tr>\n",
       "      <th>2</th>\n",
       "      <td>!Silent</td>\n",
       "      <td>ptwiki</td>\n",
       "      <td>20688.8</td>\n",
       "      <td>ptwiki</td>\n",
       "      <td>pt.wikipedia.org</td>\n",
       "    </tr>\n",
       "    <tr>\n",
       "      <th>3</th>\n",
       "      <td>\"Colorado Campeão\"!</td>\n",
       "      <td>ptwiki</td>\n",
       "      <td>417.0</td>\n",
       "      <td>ptwiki</td>\n",
       "      <td>pt.wikipedia.org</td>\n",
       "    </tr>\n",
       "    <tr>\n",
       "      <th>4</th>\n",
       "      <td>\"quasi\" tuttologo</td>\n",
       "      <td>itwiki</td>\n",
       "      <td>117.0</td>\n",
       "      <td>itwiki</td>\n",
       "      <td>it.wikipedia.org</td>\n",
       "    </tr>\n",
       "  </tbody>\n",
       "</table>\n",
       "</div>"
      ],
      "text/plain": [
       "                  user home_proj  global_edits project_group    project_domain\n",
       "0           ! Bikkit !    dewiki         219.0        dewiki  de.wikipedia.org\n",
       "1         !NewLondon31    jawiki          46.0        jawiki  ja.wikipedia.org\n",
       "2              !Silent    ptwiki       20688.8        ptwiki  pt.wikipedia.org\n",
       "3  \"Colorado Campeão\"!    ptwiki         417.0        ptwiki  pt.wikipedia.org\n",
       "4    \"quasi\" tuttologo    itwiki         117.0        itwiki  it.wikipedia.org"
      ]
     },
     "execution_count": 51,
     "metadata": {},
     "output_type": "execute_result"
    }
   ],
   "source": [
    "rich_frame = rich_frame.merge(domains, how = \"left\", left_on = \"home_proj\", right_on = \"project_key\" )\n",
    "rich_frame = rich_frame.drop(\"project_key\", axis = 1)\n",
    "rich_frame.head()"
   ]
  },
  {
   "cell_type": "code",
   "execution_count": 52,
   "metadata": {
    "collapsed": true
   },
   "outputs": [],
   "source": [
    "# Any project not in project-groups.tsv is in the \"other\" group\n",
    "rich_frame[\"project_group\"] = rich_frame[\"project_group\"].fillna(\"other\")"
   ]
  },
  {
   "cell_type": "code",
   "execution_count": 12,
   "metadata": {
    "collapsed": true
   },
   "outputs": [],
   "source": [
    "frame_len = len(rich_frame[\"user\"])"
   ]
  },
  {
   "cell_type": "code",
   "execution_count": 53,
   "metadata": {
    "collapsed": false
   },
   "outputs": [
    {
     "data": {
      "text/plain": [
       "True"
      ]
     },
     "execution_count": 53,
     "metadata": {},
     "output_type": "execute_result"
    }
   ],
   "source": [
    "# Are all our users unique?\n",
    "rich_frame.user.nunique() == frame_len"
   ]
  },
  {
   "cell_type": "code",
   "execution_count": 15,
   "metadata": {
    "collapsed": false
   },
   "outputs": [
    {
     "data": {
      "text/plain": [
       "True"
      ]
     },
     "execution_count": 15,
     "metadata": {},
     "output_type": "execute_result"
    }
   ],
   "source": [
    "# Are all our users in a group?\n",
    "rich_frame.groupby(\"project_group\")[\"user\"].count().sum() == frame_len"
   ]
  },
  {
   "cell_type": "code",
   "execution_count": 54,
   "metadata": {
    "collapsed": false
   },
   "outputs": [
    {
     "data": {
      "text/plain": [
       "True"
      ]
     },
     "execution_count": 54,
     "metadata": {},
     "output_type": "execute_result"
    }
   ],
   "source": [
    "# Do we have the 19 groups we want?\n",
    "rich_frame[\"project_group\"].nunique() == 19"
   ]
  },
  {
   "cell_type": "code",
   "execution_count": 55,
   "metadata": {
    "collapsed": false
   },
   "outputs": [
    {
     "data": {
      "text/html": [
       "<div>\n",
       "<table border=\"1\" class=\"dataframe\">\n",
       "  <thead>\n",
       "    <tr style=\"text-align: right;\">\n",
       "      <th></th>\n",
       "      <th>user</th>\n",
       "      <th>home_proj</th>\n",
       "      <th>global_edits</th>\n",
       "      <th>project_group</th>\n",
       "      <th>project_domain</th>\n",
       "    </tr>\n",
       "  </thead>\n",
       "  <tbody>\n",
       "    <tr>\n",
       "      <th>8168</th>\n",
       "      <td>Chipb82</td>\n",
       "      <td>enwiki</td>\n",
       "      <td>13.0</td>\n",
       "      <td>enwiki</td>\n",
       "      <td>en.wikipedia.org</td>\n",
       "    </tr>\n",
       "    <tr>\n",
       "      <th>22025</th>\n",
       "      <td>Jordiventura96</td>\n",
       "      <td>cawiki</td>\n",
       "      <td>1454.2</td>\n",
       "      <td>weur_wps</td>\n",
       "      <td>ca.wikipedia.org</td>\n",
       "    </tr>\n",
       "    <tr>\n",
       "      <th>36405</th>\n",
       "      <td>Rax</td>\n",
       "      <td>dewiki</td>\n",
       "      <td>4419.5</td>\n",
       "      <td>dewiki</td>\n",
       "      <td>de.wikipedia.org</td>\n",
       "    </tr>\n",
       "    <tr>\n",
       "      <th>51712</th>\n",
       "      <td>火燐</td>\n",
       "      <td>jawiki</td>\n",
       "      <td>43.0</td>\n",
       "      <td>jawiki</td>\n",
       "      <td>ja.wikipedia.org</td>\n",
       "    </tr>\n",
       "    <tr>\n",
       "      <th>20174</th>\n",
       "      <td>J R Gainey</td>\n",
       "      <td>enwiki</td>\n",
       "      <td>103.0</td>\n",
       "      <td>enwiki</td>\n",
       "      <td>en.wikipedia.org</td>\n",
       "    </tr>\n",
       "    <tr>\n",
       "      <th>25372</th>\n",
       "      <td>Lesponne</td>\n",
       "      <td>frwikiquote</td>\n",
       "      <td>533.1</td>\n",
       "      <td>other</td>\n",
       "      <td>fr.wikiquote.org</td>\n",
       "    </tr>\n",
       "    <tr>\n",
       "      <th>6422</th>\n",
       "      <td>Bqn1996</td>\n",
       "      <td>enwiki</td>\n",
       "      <td>1157.0</td>\n",
       "      <td>enwiki</td>\n",
       "      <td>en.wikipedia.org</td>\n",
       "    </tr>\n",
       "    <tr>\n",
       "      <th>47703</th>\n",
       "      <td>XXnickiXx</td>\n",
       "      <td>dewiki</td>\n",
       "      <td>124.0</td>\n",
       "      <td>dewiki</td>\n",
       "      <td>de.wikipedia.org</td>\n",
       "    </tr>\n",
       "    <tr>\n",
       "      <th>21478</th>\n",
       "      <td>Jlandin</td>\n",
       "      <td>svwiki</td>\n",
       "      <td>732.0</td>\n",
       "      <td>weur_wps</td>\n",
       "      <td>sv.wikipedia.org</td>\n",
       "    </tr>\n",
       "    <tr>\n",
       "      <th>48652</th>\n",
       "      <td>Zcbmxvn</td>\n",
       "      <td>jawiki</td>\n",
       "      <td>55.0</td>\n",
       "      <td>jawiki</td>\n",
       "      <td>ja.wikipedia.org</td>\n",
       "    </tr>\n",
       "  </tbody>\n",
       "</table>\n",
       "</div>"
      ],
      "text/plain": [
       "                 user    home_proj  global_edits project_group  \\\n",
       "8168          Chipb82       enwiki          13.0        enwiki   \n",
       "22025  Jordiventura96       cawiki        1454.2      weur_wps   \n",
       "36405             Rax       dewiki        4419.5        dewiki   \n",
       "51712              火燐       jawiki          43.0        jawiki   \n",
       "20174      J R Gainey       enwiki         103.0        enwiki   \n",
       "25372        Lesponne  frwikiquote         533.1         other   \n",
       "6422          Bqn1996       enwiki        1157.0        enwiki   \n",
       "47703       XXnickiXx       dewiki         124.0        dewiki   \n",
       "21478         Jlandin       svwiki         732.0      weur_wps   \n",
       "48652         Zcbmxvn       jawiki          55.0        jawiki   \n",
       "\n",
       "         project_domain  \n",
       "8168   en.wikipedia.org  \n",
       "22025  ca.wikipedia.org  \n",
       "36405  de.wikipedia.org  \n",
       "51712  ja.wikipedia.org  \n",
       "20174  en.wikipedia.org  \n",
       "25372  fr.wikiquote.org  \n",
       "6422   en.wikipedia.org  \n",
       "47703  de.wikipedia.org  \n",
       "21478  sv.wikipedia.org  \n",
       "48652  ja.wikipedia.org  "
      ]
     },
     "execution_count": 55,
     "metadata": {},
     "output_type": "execute_result"
    }
   ],
   "source": [
    "# Pick 10 random users to check against [an edit counter](https://xtools.wmflabs.org/ec)\n",
    "rich_frame.sample(n = 10)"
   ]
  },
  {
   "cell_type": "code",
   "execution_count": 57,
   "metadata": {
    "collapsed": false
   },
   "outputs": [],
   "source": [
    "# Those 10 users check out, let's write the frame to a TSV!\n",
    "rich_frame.to_csv(\"./sampling-frame.tsv\", sep = \"\\t\", index = False)"
   ]
  },
  {
   "cell_type": "code",
   "execution_count": null,
   "metadata": {
    "collapsed": true
   },
   "outputs": [],
   "source": []
  }
 ],
 "metadata": {
  "kernelspec": {
   "display_name": "Python 3",
   "language": "python",
   "name": "python3"
  },
  "language_info": {
   "codemirror_mode": {
    "name": "ipython",
    "version": 3
   },
   "file_extension": ".py",
   "mimetype": "text/x-python",
   "name": "python",
   "nbconvert_exporter": "python",
   "pygments_lexer": "ipython3",
   "version": "3.4.2"
  }
 },
 "nbformat": 4,
 "nbformat_minor": 2
}
