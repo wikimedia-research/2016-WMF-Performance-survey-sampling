{
 "cells": [
  {
   "cell_type": "code",
   "execution_count": 1,
   "metadata": {
    "collapsed": true
   },
   "outputs": [],
   "source": [
    "%matplotlib notebook"
   ]
  },
  {
   "cell_type": "code",
   "execution_count": 3,
   "metadata": {
    "collapsed": true
   },
   "outputs": [],
   "source": [
    "HIVE_SNAPSHOT = \"2018-01\"\n",
    "END_OF_DATA = \"2018-02-01 00:00:00\""
   ]
  },
  {
   "cell_type": "code",
   "execution_count": null,
   "metadata": {
    "collapsed": false
   },
   "outputs": [],
   "source": [
    "frame = run_hive(\n",
    "\"\"\"\n",
    "-- TABLE OF\n",
    "with mo_edits as (\n",
    "    select\n",
    "        event_user_text as user,\n",
    "        year(event_timestamp) as year,\n",
    "        month(event_timestamp) as month,\n",
    "        sum(if(wiki_db = \"wikidatawiki\", 0.1, 1)) as edits\n",
    "    from wmf.mediawiki_history\n",
    "    where\n",
    "        -- REGISTERED\n",
    "        event_user_is_anonymous = false and\n",
    "        \n",
    "        -- NON-BOT\n",
    "        event_user_is_bot_by_name = false and\n",
    "        not array_contains(event_user_groups, \"bot\") and\n",
    "        \n",
    "        -- NON-WMF\n",
    "       event_user_text not like \"%WMF%\" and\n",
    "        \n",
    "        -- CONTENT\n",
    "        page_namespace_is_content_historical = true and\n",
    "        \n",
    "        -- EDITS\n",
    "        event_entity = \"revision\" and\n",
    "        event_type = \"create\" and\n",
    "        \n",
    "        -- FROM THE LAST 3 MONTHS (92 DAYS)\n",
    "        unix_timestamp(event_timestamp, \"yyyy-MM-dd HH:mm:ss.0\") \n",
    "            > (unix_timestamp(\"{end_of_data}\") - (60 * 60 * 24 * 92)) and\n",
    "\n",
    "        -- FROM THE LATEST SNAPSHOT\n",
    "        snapshot = \"{hive_snapshot}\"    \n",
    "    -- PER USER, PER MONTH\n",
    "    group by event_user_text, year(event_timestamp), month(event_timestamp)\n",
    "), \n",
    "\n",
    "-- TABLE OF\n",
    "yr_wiki_edits as (\n",
    "    select\n",
    "        event_user_text as user,\n",
    "        wiki_db as wiki,\n",
    "        sum(if(wiki_db = \"wikidatawiki\", 0.1, 1)) as edits\n",
    "    from wmf.mediawiki_history\n",
    "    where\n",
    "        -- REGISTERED\n",
    "        event_user_is_anonymous = false and\n",
    "        \n",
    "        -- NON-BOT\n",
    "        event_user_is_bot_by_name = false and\n",
    "        not array_contains(event_user_groups, \"bot\") and\n",
    "        \n",
    "        -- NON-WMF\n",
    "        event_user_text not like \"%WMF%\" and\n",
    "        \n",
    "        -- EDITS\n",
    "        event_entity = \"revision\" and\n",
    "        event_type = \"create\" and\n",
    "        \n",
    "        -- FROM THE LAST YEAR (365 DAYS)\n",
    "        unix_timestamp(event_timestamp, \"yyyy-MM-dd HH:mm:ss.0\") \n",
    "            > (unix_timestamp(\"{end_of_data}\") - (60 * 60 * 24 * 365)) and\n",
    "        \n",
    "        -- FROM THE LATEST SNAPSHOT\n",
    "        snapshot = \"{hive_snapshot}\"\n",
    "    \n",
    "    -- PER USER, PER WIKI\n",
    "    group by event_user_text, wiki_db\n",
    ")\n",
    "\n",
    "-- FINAL SELECT\n",
    "select \n",
    "    recent_active.user as user,\n",
    "    active_months,\n",
    "    year_edits,\n",
    "    home_wiki.wiki as home_wiki,\n",
    "    enwiki.edits as enwiki_edits\n",
    "\n",
    "-- USERS ACTIVE IN 2 OF 3 MONTHS\n",
    "from (\n",
    "    select\n",
    "        user,\n",
    "        sum(if(edits >= 5, 1, 0)) as active_months\n",
    "    from mo_edits\n",
    "    group by user\n",
    "    having active_months >= 2\n",
    ") recent_active\n",
    "\n",
    "-- JOINED TO THEIR YEARLY EDITS\n",
    "left join (\n",
    "    select\n",
    "    user,\n",
    "    sum(edits) as year_edits\n",
    "    from yr_wiki_edits\n",
    "    group by user\n",
    ") year_edits\n",
    "on recent_active.user = year_edits.user\n",
    "\n",
    "-- JOINED TO THEIR MAX PER-WIKI EDIT COUNT\n",
    "left join (\n",
    "    select\n",
    "    user,\n",
    "    max(edits) as max_edits\n",
    "    from yr_wiki_edits\n",
    "    group by user\n",
    ") max_edits\n",
    "on year_edits.user = max_edits.user\n",
    "\n",
    "-- JOINED TO THE WIKI WHERE THEY ACHIEVED THAT MAX\n",
    "left join\n",
    "yr_wiki_edits home_wiki\n",
    "on max_edits.max_edits = home_wiki.edits\n",
    "\n",
    "-- JOINED TO THEIR ENWIKI EDIT COUNT\n",
    "left join\n",
    "yr_wiki_edits enwiki\n",
    "on recent_active.user = enwiki.user and enwiki.wiki = \"enwiki\"\n",
    "\"\"\".format(\n",
    "        hive_snapshot = HIVE_SNAPSHOT,\n",
    "        end_of_data = END_OF_DATA\n",
    "    )\n",
    ")"
   ]
  },
  {
   "cell_type": "code",
   "execution_count": 15,
   "metadata": {
    "collapsed": false
   },
   "outputs": [
    {
     "data": {
      "text/html": [
       "<div>\n",
       "<table border=\"1\" class=\"dataframe\">\n",
       "  <thead>\n",
       "    <tr style=\"text-align: right;\">\n",
       "      <th></th>\n",
       "      <th>user</th>\n",
       "      <th>active_months</th>\n",
       "      <th>year_edits</th>\n",
       "      <th>home_wiki</th>\n",
       "    </tr>\n",
       "  </thead>\n",
       "  <tbody>\n",
       "    <tr>\n",
       "      <th>0</th>\n",
       "      <td>WhatamIdoing</td>\n",
       "      <td>3</td>\n",
       "      <td>2998.0</td>\n",
       "      <td>enwiki</td>\n",
       "    </tr>\n",
       "    <tr>\n",
       "      <th>1</th>\n",
       "      <td>-revi</td>\n",
       "      <td>3</td>\n",
       "      <td>13103.3</td>\n",
       "      <td>commonswiki</td>\n",
       "    </tr>\n",
       "    <tr>\n",
       "      <th>2</th>\n",
       "      <td>Martin Urbanec</td>\n",
       "      <td>3</td>\n",
       "      <td>18228.0</td>\n",
       "      <td>cswiki</td>\n",
       "    </tr>\n",
       "  </tbody>\n",
       "</table>\n",
       "</div>"
      ],
      "text/plain": [
       "             user  active_months  year_edits    home_wiki\n",
       "0    WhatamIdoing              3      2998.0       enwiki\n",
       "1           -revi              3     13103.3  commonswiki\n",
       "2  Martin Urbanec              3     18228.0       cswiki"
      ]
     },
     "execution_count": 15,
     "metadata": {},
     "output_type": "execute_result"
    }
   ],
   "source": [
    "frame"
   ]
  },
  {
   "cell_type": "code",
   "execution_count": null,
   "metadata": {
    "collapsed": false
   },
   "outputs": [],
   "source": [
    "len(kowiki_edits[kowiki_edits[\"last_year_edits\"] >= 30])"
   ]
  },
  {
   "cell_type": "code",
   "execution_count": null,
   "metadata": {
    "collapsed": false
   },
   "outputs": [],
   "source": [
    "plt.pyplot.hist(\n",
    "    np.log10(kowiki_edits[\"last_year_edits\"]),\n",
    "    bins = (\n",
    "        0, np.log10(5), np.log10(10), np.log10(25),\n",
    "        np.log10(100), np.log10(500), np.log10(1000), \n",
    "        np.log10(10000), np.log10(70000))\n",
    ")\n",
    "plt.pyplot.title(\"Yearly edit distribution on the Korean Wikipedia\")\n",
    "plt.pyplot.xlabel(\"edits per year\")\n",
    "plt.pyplot.ylabel(\"number of users\")\n",
    "plt.pyplot.show()"
   ]
  },
  {
   "cell_type": "code",
   "execution_count": null,
   "metadata": {
    "collapsed": true
   },
   "outputs": [],
   "source": [
    "global_edits = run_hive(\n",
    "\"\"\"\n",
    "select\n",
    "    event_user_text as user,\n",
    "    count(*) as last_year_edits\n",
    "from wmf.mediawiki_history\n",
    "where \n",
    "    unix_timestamp(event_timestamp, \"yyyy-MM-dd HH:mm:ss.0\") \n",
    "        > unix_timestamp(current_timestamp) - (60 * 60 * 24 * 365) and\n",
    "    event_user_is_bot_by_name = false and\n",
    "    -- not array_contains(event_user_groups, \"bot\") and\n",
    "    user_is_anonymous = false and\n",
    "    wiki_db = \"{wiki}\" and\n",
    "    event_entity = \"revision\" and\n",
    "    event_type = \"create\" and\n",
    "    snapshot = \"{hive_snapshot}\" \n",
    "group by event_user_text\n",
    "\"\"\".format(\n",
    "        wiki = WIKI,\n",
    "        hive_snapshot = HIVE_SNAPSHOT\n",
    "    )\n",
    ")"
   ]
  },
  {
   "cell_type": "code",
   "execution_count": null,
   "metadata": {
    "collapsed": false
   },
   "outputs": [],
   "source": [
    "run_hive(\n",
    "\"\"\"\n",
    "select\n",
    "    event_timestamp,\n",
    "    year(event_timestamp) as year,\n",
    "    month(event_timestamp) as month\n",
    "from wmf.mediawiki_history\n",
    "where snapshot = \"2017-12\"\n",
    "limit 10\n",
    "\"\"\")"
   ]
  },
  {
   "cell_type": "code",
   "execution_count": null,
   "metadata": {
    "collapsed": true
   },
   "outputs": [],
   "source": []
  }
 ],
 "metadata": {
  "kernelspec": {
   "display_name": "Python 3",
   "language": "python",
   "name": "python3"
  },
  "language_info": {
   "codemirror_mode": {
    "name": "ipython",
    "version": 3
   },
   "file_extension": ".py",
   "mimetype": "text/x-python",
   "name": "python",
   "nbconvert_exporter": "python",
   "pygments_lexer": "ipython3",
   "version": "3.4.2"
  }
 },
 "nbformat": 4,
 "nbformat_minor": 2
}
