{
 "cells": [
  {
   "cell_type": "code",
   "execution_count": 11,
   "metadata": {
    "collapsed": true
   },
   "outputs": [],
   "source": [
    "%matplotlib notebook"
   ]
  },
  {
   "cell_type": "code",
   "execution_count": null,
   "metadata": {
    "collapsed": false
   },
   "outputs": [],
   "source": [
    "len(kowiki_edits[kowiki_edits[\"last_year_edits\"] >= 30])"
   ]
  },
  {
   "cell_type": "code",
   "execution_count": null,
   "metadata": {
    "collapsed": false
   },
   "outputs": [],
   "source": [
    "plt.pyplot.hist(\n",
    "    np.log10(kowiki_edits[\"last_year_edits\"]),\n",
    "    bins = (\n",
    "        0, np.log10(5), np.log10(10), np.log10(25),\n",
    "        np.log10(100), np.log10(500), np.log10(1000), \n",
    "        np.log10(10000), np.log10(70000))\n",
    ")\n",
    "plt.pyplot.title(\"Yearly edit distribution on the Korean Wikipedia\")\n",
    "plt.pyplot.xlabel(\"edits per year\")\n",
    "plt.pyplot.ylabel(\"number of users\")\n",
    "plt.pyplot.show()"
   ]
  }
 ],
 "metadata": {
  "kernelspec": {
   "display_name": "Python 3",
   "language": "python",
   "name": "python3"
  },
  "language_info": {
   "codemirror_mode": {
    "name": "ipython",
    "version": 3
   },
   "file_extension": ".py",
   "mimetype": "text/x-python",
   "name": "python",
   "nbconvert_exporter": "python",
   "pygments_lexer": "ipython3",
   "version": "3.4.2"
  }
 },
 "nbformat": 4,
 "nbformat_minor": 2
}
