{
 "cells": [
  {
   "cell_type": "code",
   "execution_count": 1,
   "metadata": {
    "collapsed": false
   },
   "outputs": [],
   "source": [
    "import mwapi\n",
    "import datetime as dt\n",
    "from requests_oauthlib import OAuth1\n",
    "import secrets.oauth as oauth_cfg\n",
    "import re\n",
    "import time\n",
    "import html\n",
    "import IPython.display as ipyd"
   ]
  },
  {
   "cell_type": "markdown",
   "metadata": {},
   "source": [
    "# Configuration"
   ]
  },
  {
   "cell_type": "code",
   "execution_count": 2,
   "metadata": {
    "collapsed": true
   },
   "outputs": [],
   "source": [
    "# A descriptive user agent for our API requests\n",
    "USER_AGENT = (\n",
    "    \"CE Insights survey bot -- \" +\n",
    "    \"https://github.com/wikimedia-research/Community-Engagement-Insights-sampling\"\n",
    ")\n",
    "\n",
    "# A MassMessage list for basic testing. \n",
    "TEST_LIST = \"User:Neil P. Quinn-WMF/MassMessage test list\"\n",
    "\n",
    "# Number of seconds to wait before sending each individual MassMessage\n",
    "WAITING_PERIOD = 15"
   ]
  },
  {
   "cell_type": "code",
   "execution_count": 3,
   "metadata": {
    "collapsed": true
   },
   "outputs": [],
   "source": [
    "MESSAGE_PAGE = \"Community Engagement Insights/MassMessages/First message\"\n",
    "\n",
    "# Languages other than English with a translation available\n",
    "MESSAGE_LANGS = [\"ar\", \"de\", \"es\", \"fr\", \"it\", \"ja\", \"nl\", \"pl\", \"pt\", \"ru\", \"uk\", \"zh\"]\n",
    "\n",
    "# The name of the tag used to mark the content to send on the message page\n",
    "MESSAGE_MARKER = \"ce-insights-content\""
   ]
  },
  {
   "cell_type": "markdown",
   "metadata": {},
   "source": [
    "# Load strata"
   ]
  },
  {
   "cell_type": "code",
   "execution_count": 8,
   "metadata": {
    "collapsed": false
   },
   "outputs": [
    {
     "data": {
      "text/html": [
       "<div>\n",
       "<table border=\"1\" class=\"dataframe\">\n",
       "  <thead>\n",
       "    <tr style=\"text-align: right;\">\n",
       "      <th></th>\n",
       "      <th>proj_group</th>\n",
       "      <th>edit_bin</th>\n",
       "      <th>sample_size</th>\n",
       "      <th>sampled_users</th>\n",
       "      <th>page_title</th>\n",
       "      <th>survey_url</th>\n",
       "      <th>preview_url</th>\n",
       "    </tr>\n",
       "  </thead>\n",
       "  <tbody>\n",
       "    <tr>\n",
       "      <th>0</th>\n",
       "      <td>wikidata</td>\n",
       "      <td>[10, 30)</td>\n",
       "      <td>0</td>\n",
       "      <td>[]</td>\n",
       "      <td>Community Engagement Insights/MassMessages/Lis...</td>\n",
       "      <td>https://wikimedia.qualtrics.com/jfe/form/SV_5A...</td>\n",
       "      <td>https://wikimedia.qualtrics.com/jfe/preview/SV...</td>\n",
       "    </tr>\n",
       "    <tr>\n",
       "      <th>1</th>\n",
       "      <td>wikidata</td>\n",
       "      <td>[30, 150)</td>\n",
       "      <td>48</td>\n",
       "      <td>[user(user='Meliade', proj_domain='www.wikidat...</td>\n",
       "      <td>Community Engagement Insights/MassMessages/Lis...</td>\n",
       "      <td>https://wikimedia.qualtrics.com/jfe/form/SV_5A...</td>\n",
       "      <td>https://wikimedia.qualtrics.com/jfe/preview/SV...</td>\n",
       "    </tr>\n",
       "    <tr>\n",
       "      <th>2</th>\n",
       "      <td>wikidata</td>\n",
       "      <td>[150, 600)</td>\n",
       "      <td>64</td>\n",
       "      <td>[user(user='Joel7687', proj_domain='www.wikida...</td>\n",
       "      <td>Community Engagement Insights/MassMessages/Lis...</td>\n",
       "      <td>https://wikimedia.qualtrics.com/jfe/form/SV_5A...</td>\n",
       "      <td>https://wikimedia.qualtrics.com/jfe/preview/SV...</td>\n",
       "    </tr>\n",
       "    <tr>\n",
       "      <th>3</th>\n",
       "      <td>wikidata</td>\n",
       "      <td>[600, 1200)</td>\n",
       "      <td>35</td>\n",
       "      <td>[user(user='RemoRivelli', proj_domain='www.wik...</td>\n",
       "      <td>Community Engagement Insights/MassMessages/Lis...</td>\n",
       "      <td>https://wikimedia.qualtrics.com/jfe/form/SV_5A...</td>\n",
       "      <td>https://wikimedia.qualtrics.com/jfe/preview/SV...</td>\n",
       "    </tr>\n",
       "    <tr>\n",
       "      <th>4</th>\n",
       "      <td>wikidata</td>\n",
       "      <td>[1200, 3500)</td>\n",
       "      <td>50</td>\n",
       "      <td>[user(user='Abián', proj_domain='www.wikidata....</td>\n",
       "      <td>Community Engagement Insights/MassMessages/Lis...</td>\n",
       "      <td>https://wikimedia.qualtrics.com/jfe/form/SV_5A...</td>\n",
       "      <td>https://wikimedia.qualtrics.com/jfe/preview/SV...</td>\n",
       "    </tr>\n",
       "  </tbody>\n",
       "</table>\n",
       "</div>"
      ],
      "text/plain": [
       "  proj_group      edit_bin  sample_size  \\\n",
       "0   wikidata      [10, 30)            0   \n",
       "1   wikidata     [30, 150)           48   \n",
       "2   wikidata    [150, 600)           64   \n",
       "3   wikidata   [600, 1200)           35   \n",
       "4   wikidata  [1200, 3500)           50   \n",
       "\n",
       "                                       sampled_users  \\\n",
       "0                                                 []   \n",
       "1  [user(user='Meliade', proj_domain='www.wikidat...   \n",
       "2  [user(user='Joel7687', proj_domain='www.wikida...   \n",
       "3  [user(user='RemoRivelli', proj_domain='www.wik...   \n",
       "4  [user(user='Abián', proj_domain='www.wikidata....   \n",
       "\n",
       "                                          page_title  \\\n",
       "0  Community Engagement Insights/MassMessages/Lis...   \n",
       "1  Community Engagement Insights/MassMessages/Lis...   \n",
       "2  Community Engagement Insights/MassMessages/Lis...   \n",
       "3  Community Engagement Insights/MassMessages/Lis...   \n",
       "4  Community Engagement Insights/MassMessages/Lis...   \n",
       "\n",
       "                                          survey_url  \\\n",
       "0  https://wikimedia.qualtrics.com/jfe/form/SV_5A...   \n",
       "1  https://wikimedia.qualtrics.com/jfe/form/SV_5A...   \n",
       "2  https://wikimedia.qualtrics.com/jfe/form/SV_5A...   \n",
       "3  https://wikimedia.qualtrics.com/jfe/form/SV_5A...   \n",
       "4  https://wikimedia.qualtrics.com/jfe/form/SV_5A...   \n",
       "\n",
       "                                         preview_url  \n",
       "0  https://wikimedia.qualtrics.com/jfe/preview/SV...  \n",
       "1  https://wikimedia.qualtrics.com/jfe/preview/SV...  \n",
       "2  https://wikimedia.qualtrics.com/jfe/preview/SV...  \n",
       "3  https://wikimedia.qualtrics.com/jfe/preview/SV...  \n",
       "4  https://wikimedia.qualtrics.com/jfe/preview/SV...  "
      ]
     },
     "execution_count": 8,
     "metadata": {},
     "output_type": "execute_result"
    }
   ],
   "source": [
    "real_strata = pd.read_csv(\"data/interim/sampled-strata.tsv\", sep = \"\\t\")\n",
    "real_strata.head()"
   ]
  },
  {
   "cell_type": "code",
   "execution_count": 7,
   "metadata": {
    "collapsed": false
   },
   "outputs": [
    {
     "data": {
      "text/html": [
       "<div>\n",
       "<table border=\"1\" class=\"dataframe\">\n",
       "  <thead>\n",
       "    <tr style=\"text-align: right;\">\n",
       "      <th></th>\n",
       "      <th>proj_group</th>\n",
       "      <th>edit_bin</th>\n",
       "      <th>sampled_users</th>\n",
       "      <th>survey_url</th>\n",
       "      <th>preview_url</th>\n",
       "      <th>page_title</th>\n",
       "    </tr>\n",
       "  </thead>\n",
       "  <tbody>\n",
       "    <tr>\n",
       "      <th>0</th>\n",
       "      <td>arwiki</td>\n",
       "      <td>[10, 30)</td>\n",
       "      <td>[[\"Neil P. Quinn-WMF\", \"ar.wikipedia.org\"], [\"...</td>\n",
       "      <td>https://wikimedia.qualtrics.com/jfe/form/SV_5A...</td>\n",
       "      <td>https://wikimedia.qualtrics.com/jfe/preview/SV...</td>\n",
       "      <td>User:Neil P. Quinn/2018 CE Insights/ar1</td>\n",
       "    </tr>\n",
       "    <tr>\n",
       "      <th>1</th>\n",
       "      <td>asia_wps</td>\n",
       "      <td>[30, 150)</td>\n",
       "      <td>[[\"Neil P. Quinn-WMF\", \"ko.wikipedia.org\"], [\"...</td>\n",
       "      <td>https://wikimedia.qualtrics.com/jfe/form/SV_5A...</td>\n",
       "      <td>https://wikimedia.qualtrics.com/jfe/preview/SV...</td>\n",
       "      <td>User:Neil P. Quinn/2018 CE Insights/as2</td>\n",
       "    </tr>\n",
       "    <tr>\n",
       "      <th>2</th>\n",
       "      <td>cee_wps</td>\n",
       "      <td>[150, 600)</td>\n",
       "      <td>[[\"Neil P. Quinn-WMF\", \"uk.wikipedia.org\"], [\"...</td>\n",
       "      <td>https://wikimedia.qualtrics.com/jfe/form/SV_5A...</td>\n",
       "      <td>https://wikimedia.qualtrics.com/jfe/preview/SV...</td>\n",
       "      <td>User:Neil P. Quinn/2018 CE Insights/ce3</td>\n",
       "    </tr>\n",
       "    <tr>\n",
       "      <th>3</th>\n",
       "      <td>commons</td>\n",
       "      <td>[600, 1200)</td>\n",
       "      <td>[[\"Neil P. Quinn-WMF\", \"commons.wikimedia.org\"...</td>\n",
       "      <td>https://wikimedia.qualtrics.com/jfe/form/SV_5A...</td>\n",
       "      <td>https://wikimedia.qualtrics.com/jfe/preview/SV...</td>\n",
       "      <td>User:Neil P. Quinn/2018 CE Insights/co4</td>\n",
       "    </tr>\n",
       "    <tr>\n",
       "      <th>4</th>\n",
       "      <td>dewiki</td>\n",
       "      <td>[1200, 3500)</td>\n",
       "      <td>[[\"Neil P. Quinn-WMF\", \"de.wikipedia.org\"], [\"...</td>\n",
       "      <td>https://wikimedia.qualtrics.com/jfe/form/SV_5A...</td>\n",
       "      <td>https://wikimedia.qualtrics.com/jfe/preview/SV...</td>\n",
       "      <td>User:Neil P. Quinn/2018 CE Insights/de5</td>\n",
       "    </tr>\n",
       "  </tbody>\n",
       "</table>\n",
       "</div>"
      ],
      "text/plain": [
       "  proj_group      edit_bin                                      sampled_users  \\\n",
       "0     arwiki      [10, 30)  [[\"Neil P. Quinn-WMF\", \"ar.wikipedia.org\"], [\"...   \n",
       "1   asia_wps     [30, 150)  [[\"Neil P. Quinn-WMF\", \"ko.wikipedia.org\"], [\"...   \n",
       "2    cee_wps    [150, 600)  [[\"Neil P. Quinn-WMF\", \"uk.wikipedia.org\"], [\"...   \n",
       "3    commons   [600, 1200)  [[\"Neil P. Quinn-WMF\", \"commons.wikimedia.org\"...   \n",
       "4     dewiki  [1200, 3500)  [[\"Neil P. Quinn-WMF\", \"de.wikipedia.org\"], [\"...   \n",
       "\n",
       "                                          survey_url  \\\n",
       "0  https://wikimedia.qualtrics.com/jfe/form/SV_5A...   \n",
       "1  https://wikimedia.qualtrics.com/jfe/form/SV_5A...   \n",
       "2  https://wikimedia.qualtrics.com/jfe/form/SV_5A...   \n",
       "3  https://wikimedia.qualtrics.com/jfe/form/SV_5A...   \n",
       "4  https://wikimedia.qualtrics.com/jfe/form/SV_5A...   \n",
       "\n",
       "                                         preview_url  \\\n",
       "0  https://wikimedia.qualtrics.com/jfe/preview/SV...   \n",
       "1  https://wikimedia.qualtrics.com/jfe/preview/SV...   \n",
       "2  https://wikimedia.qualtrics.com/jfe/preview/SV...   \n",
       "3  https://wikimedia.qualtrics.com/jfe/preview/SV...   \n",
       "4  https://wikimedia.qualtrics.com/jfe/preview/SV...   \n",
       "\n",
       "                                page_title  \n",
       "0  User:Neil P. Quinn/2018 CE Insights/ar1  \n",
       "1  User:Neil P. Quinn/2018 CE Insights/as2  \n",
       "2  User:Neil P. Quinn/2018 CE Insights/ce3  \n",
       "3  User:Neil P. Quinn/2018 CE Insights/co4  \n",
       "4  User:Neil P. Quinn/2018 CE Insights/de5  "
      ]
     },
     "execution_count": 7,
     "metadata": {},
     "output_type": "execute_result"
    }
   ],
   "source": [
    "test_strata = pd.read_csv(\"data/interim/test-strata.tsv\", sep = \"\\t\")\n",
    "test_strata.head()"
   ]
  },
  {
   "cell_type": "markdown",
   "metadata": {},
   "source": [
    "## Add languages to strata"
   ]
  },
  {
   "cell_type": "code",
   "execution_count": 9,
   "metadata": {
    "collapsed": false
   },
   "outputs": [
    {
     "data": {
      "text/html": [
       "<div>\n",
       "<table border=\"1\" class=\"dataframe\">\n",
       "  <thead>\n",
       "    <tr style=\"text-align: right;\">\n",
       "      <th></th>\n",
       "      <th>proj_group</th>\n",
       "      <th>lang</th>\n",
       "    </tr>\n",
       "  </thead>\n",
       "  <tbody>\n",
       "    <tr>\n",
       "      <th>0</th>\n",
       "      <td>arwiki</td>\n",
       "      <td>ar</td>\n",
       "    </tr>\n",
       "    <tr>\n",
       "      <th>1</th>\n",
       "      <td>asia_wps</td>\n",
       "      <td>en</td>\n",
       "    </tr>\n",
       "    <tr>\n",
       "      <th>2</th>\n",
       "      <td>cee_wps</td>\n",
       "      <td>en</td>\n",
       "    </tr>\n",
       "    <tr>\n",
       "      <th>3</th>\n",
       "      <td>commons</td>\n",
       "      <td>en</td>\n",
       "    </tr>\n",
       "    <tr>\n",
       "      <th>4</th>\n",
       "      <td>dewiki</td>\n",
       "      <td>de</td>\n",
       "    </tr>\n",
       "  </tbody>\n",
       "</table>\n",
       "</div>"
      ],
      "text/plain": [
       "  proj_group lang\n",
       "0     arwiki   ar\n",
       "1   asia_wps   en\n",
       "2    cee_wps   en\n",
       "3    commons   en\n",
       "4     dewiki   de"
      ]
     },
     "execution_count": 9,
     "metadata": {},
     "output_type": "execute_result"
    }
   ],
   "source": [
    "proj_langs = pd.read_csv(\"data/raw/project-group-languages.tsv\", sep = \"\\t\")\n",
    "proj_langs.head()"
   ]
  },
  {
   "cell_type": "code",
   "execution_count": 10,
   "metadata": {
    "collapsed": false
   },
   "outputs": [
    {
     "data": {
      "text/html": [
       "<div>\n",
       "<table border=\"1\" class=\"dataframe\">\n",
       "  <thead>\n",
       "    <tr style=\"text-align: right;\">\n",
       "      <th></th>\n",
       "      <th>proj_group</th>\n",
       "      <th>edit_bin</th>\n",
       "      <th>sampled_users</th>\n",
       "      <th>survey_url</th>\n",
       "      <th>preview_url</th>\n",
       "      <th>page_title</th>\n",
       "      <th>lang</th>\n",
       "    </tr>\n",
       "  </thead>\n",
       "  <tbody>\n",
       "    <tr>\n",
       "      <th>3</th>\n",
       "      <td>commons</td>\n",
       "      <td>[600, 1200)</td>\n",
       "      <td>[[\"Neil P. Quinn-WMF\", \"commons.wikimedia.org\"...</td>\n",
       "      <td>https://wikimedia.qualtrics.com/jfe/form/SV_5A...</td>\n",
       "      <td>https://wikimedia.qualtrics.com/jfe/preview/SV...</td>\n",
       "      <td>User:Neil P. Quinn/2018 CE Insights/co4</td>\n",
       "      <td>en</td>\n",
       "    </tr>\n",
       "    <tr>\n",
       "      <th>16</th>\n",
       "      <td>wikidata</td>\n",
       "      <td>[1200, 3500)</td>\n",
       "      <td>[[\"Neil P. Quinn-WMF\", \"www.wikidata.org\"], [\"...</td>\n",
       "      <td>https://wikimedia.qualtrics.com/jfe/form/SV_5A...</td>\n",
       "      <td>https://wikimedia.qualtrics.com/jfe/preview/SV...</td>\n",
       "      <td>User:Neil P. Quinn/2018 CE Insights/dt5</td>\n",
       "      <td>en</td>\n",
       "    </tr>\n",
       "    <tr>\n",
       "      <th>5</th>\n",
       "      <td>enwiki</td>\n",
       "      <td>[3500, 1100000)</td>\n",
       "      <td>[[\"Neil P. Quinn-WMF\", \"en.wikipedia.org\"], [\"...</td>\n",
       "      <td>https://wikimedia.qualtrics.com/jfe/form/SV_5A...</td>\n",
       "      <td>https://wikimedia.qualtrics.com/jfe/preview/SV...</td>\n",
       "      <td>User:Neil P. Quinn/2018 CE Insights/en6</td>\n",
       "      <td>en</td>\n",
       "    </tr>\n",
       "    <tr>\n",
       "      <th>10</th>\n",
       "      <td>meaf_wps</td>\n",
       "      <td>[1200, 3500)</td>\n",
       "      <td>[[\"Neil P. Quinn-WMF\", \"he.wikipedia.org\"], [\"...</td>\n",
       "      <td>https://wikimedia.qualtrics.com/jfe/form/SV_5A...</td>\n",
       "      <td>https://wikimedia.qualtrics.com/jfe/preview/SV...</td>\n",
       "      <td>User:Neil P. Quinn/2018 CE Insights/me5</td>\n",
       "      <td>en</td>\n",
       "    </tr>\n",
       "    <tr>\n",
       "      <th>11</th>\n",
       "      <td>nlwiki</td>\n",
       "      <td>[3500, 1100000)</td>\n",
       "      <td>[[\"Neil P. Quinn-WMF\", \"nl.wikipedia.org\"], [\"...</td>\n",
       "      <td>https://wikimedia.qualtrics.com/jfe/form/SV_5A...</td>\n",
       "      <td>https://wikimedia.qualtrics.com/jfe/preview/SV...</td>\n",
       "      <td>User:Neil P. Quinn/2018 CE Insights/nl6</td>\n",
       "      <td>nl</td>\n",
       "    </tr>\n",
       "    <tr>\n",
       "      <th>0</th>\n",
       "      <td>arwiki</td>\n",
       "      <td>[10, 30)</td>\n",
       "      <td>[[\"Neil P. Quinn-WMF\", \"ar.wikipedia.org\"], [\"...</td>\n",
       "      <td>https://wikimedia.qualtrics.com/jfe/form/SV_5A...</td>\n",
       "      <td>https://wikimedia.qualtrics.com/jfe/preview/SV...</td>\n",
       "      <td>User:Neil P. Quinn/2018 CE Insights/ar1</td>\n",
       "      <td>ar</td>\n",
       "    </tr>\n",
       "    <tr>\n",
       "      <th>2</th>\n",
       "      <td>cee_wps</td>\n",
       "      <td>[150, 600)</td>\n",
       "      <td>[[\"Neil P. Quinn-WMF\", \"uk.wikipedia.org\"], [\"...</td>\n",
       "      <td>https://wikimedia.qualtrics.com/jfe/form/SV_5A...</td>\n",
       "      <td>https://wikimedia.qualtrics.com/jfe/preview/SV...</td>\n",
       "      <td>User:Neil P. Quinn/2018 CE Insights/ce3</td>\n",
       "      <td>en</td>\n",
       "    </tr>\n",
       "    <tr>\n",
       "      <th>14</th>\n",
       "      <td>ruwiki</td>\n",
       "      <td>[150, 600)</td>\n",
       "      <td>[[\"Neil P. Quinn-WMF\", \"ru.wikipedia.org\"], [\"...</td>\n",
       "      <td>https://wikimedia.qualtrics.com/jfe/form/SV_5A...</td>\n",
       "      <td>https://wikimedia.qualtrics.com/jfe/preview/SV...</td>\n",
       "      <td>User:Neil P. Quinn/2018 CE Insights/ru3</td>\n",
       "      <td>ru</td>\n",
       "    </tr>\n",
       "    <tr>\n",
       "      <th>17</th>\n",
       "      <td>zhwiki</td>\n",
       "      <td>[3500, 1100000)</td>\n",
       "      <td>[[\"Neil P. Quinn-WMF\", \"zh.wikipedia.org\"], [\"...</td>\n",
       "      <td>https://wikimedia.qualtrics.com/jfe/form/SV_5A...</td>\n",
       "      <td>https://wikimedia.qualtrics.com/jfe/preview/SV...</td>\n",
       "      <td>User:Neil P. Quinn/2018 CE Insights/zh6</td>\n",
       "      <td>zh</td>\n",
       "    </tr>\n",
       "    <tr>\n",
       "      <th>1</th>\n",
       "      <td>asia_wps</td>\n",
       "      <td>[30, 150)</td>\n",
       "      <td>[[\"Neil P. Quinn-WMF\", \"ko.wikipedia.org\"], [\"...</td>\n",
       "      <td>https://wikimedia.qualtrics.com/jfe/form/SV_5A...</td>\n",
       "      <td>https://wikimedia.qualtrics.com/jfe/preview/SV...</td>\n",
       "      <td>User:Neil P. Quinn/2018 CE Insights/as2</td>\n",
       "      <td>en</td>\n",
       "    </tr>\n",
       "  </tbody>\n",
       "</table>\n",
       "</div>"
      ],
      "text/plain": [
       "   proj_group         edit_bin  \\\n",
       "3     commons      [600, 1200)   \n",
       "16   wikidata     [1200, 3500)   \n",
       "5      enwiki  [3500, 1100000)   \n",
       "10   meaf_wps     [1200, 3500)   \n",
       "11     nlwiki  [3500, 1100000)   \n",
       "0      arwiki         [10, 30)   \n",
       "2     cee_wps       [150, 600)   \n",
       "14     ruwiki       [150, 600)   \n",
       "17     zhwiki  [3500, 1100000)   \n",
       "1    asia_wps        [30, 150)   \n",
       "\n",
       "                                        sampled_users  \\\n",
       "3   [[\"Neil P. Quinn-WMF\", \"commons.wikimedia.org\"...   \n",
       "16  [[\"Neil P. Quinn-WMF\", \"www.wikidata.org\"], [\"...   \n",
       "5   [[\"Neil P. Quinn-WMF\", \"en.wikipedia.org\"], [\"...   \n",
       "10  [[\"Neil P. Quinn-WMF\", \"he.wikipedia.org\"], [\"...   \n",
       "11  [[\"Neil P. Quinn-WMF\", \"nl.wikipedia.org\"], [\"...   \n",
       "0   [[\"Neil P. Quinn-WMF\", \"ar.wikipedia.org\"], [\"...   \n",
       "2   [[\"Neil P. Quinn-WMF\", \"uk.wikipedia.org\"], [\"...   \n",
       "14  [[\"Neil P. Quinn-WMF\", \"ru.wikipedia.org\"], [\"...   \n",
       "17  [[\"Neil P. Quinn-WMF\", \"zh.wikipedia.org\"], [\"...   \n",
       "1   [[\"Neil P. Quinn-WMF\", \"ko.wikipedia.org\"], [\"...   \n",
       "\n",
       "                                           survey_url  \\\n",
       "3   https://wikimedia.qualtrics.com/jfe/form/SV_5A...   \n",
       "16  https://wikimedia.qualtrics.com/jfe/form/SV_5A...   \n",
       "5   https://wikimedia.qualtrics.com/jfe/form/SV_5A...   \n",
       "10  https://wikimedia.qualtrics.com/jfe/form/SV_5A...   \n",
       "11  https://wikimedia.qualtrics.com/jfe/form/SV_5A...   \n",
       "0   https://wikimedia.qualtrics.com/jfe/form/SV_5A...   \n",
       "2   https://wikimedia.qualtrics.com/jfe/form/SV_5A...   \n",
       "14  https://wikimedia.qualtrics.com/jfe/form/SV_5A...   \n",
       "17  https://wikimedia.qualtrics.com/jfe/form/SV_5A...   \n",
       "1   https://wikimedia.qualtrics.com/jfe/form/SV_5A...   \n",
       "\n",
       "                                          preview_url  \\\n",
       "3   https://wikimedia.qualtrics.com/jfe/preview/SV...   \n",
       "16  https://wikimedia.qualtrics.com/jfe/preview/SV...   \n",
       "5   https://wikimedia.qualtrics.com/jfe/preview/SV...   \n",
       "10  https://wikimedia.qualtrics.com/jfe/preview/SV...   \n",
       "11  https://wikimedia.qualtrics.com/jfe/preview/SV...   \n",
       "0   https://wikimedia.qualtrics.com/jfe/preview/SV...   \n",
       "2   https://wikimedia.qualtrics.com/jfe/preview/SV...   \n",
       "14  https://wikimedia.qualtrics.com/jfe/preview/SV...   \n",
       "17  https://wikimedia.qualtrics.com/jfe/preview/SV...   \n",
       "1   https://wikimedia.qualtrics.com/jfe/preview/SV...   \n",
       "\n",
       "                                 page_title lang  \n",
       "3   User:Neil P. Quinn/2018 CE Insights/co4   en  \n",
       "16  User:Neil P. Quinn/2018 CE Insights/dt5   en  \n",
       "5   User:Neil P. Quinn/2018 CE Insights/en6   en  \n",
       "10  User:Neil P. Quinn/2018 CE Insights/me5   en  \n",
       "11  User:Neil P. Quinn/2018 CE Insights/nl6   nl  \n",
       "0   User:Neil P. Quinn/2018 CE Insights/ar1   ar  \n",
       "2   User:Neil P. Quinn/2018 CE Insights/ce3   en  \n",
       "14  User:Neil P. Quinn/2018 CE Insights/ru3   ru  \n",
       "17  User:Neil P. Quinn/2018 CE Insights/zh6   zh  \n",
       "1   User:Neil P. Quinn/2018 CE Insights/as2   en  "
      ]
     },
     "execution_count": 10,
     "metadata": {},
     "output_type": "execute_result"
    }
   ],
   "source": [
    "test_strata = test_strata.merge(proj_langs, how = \"left\", on = \"proj_group\")\n",
    "test_strata.sample(n = 10)"
   ]
  },
  {
   "cell_type": "code",
   "execution_count": 11,
   "metadata": {
    "collapsed": false
   },
   "outputs": [
    {
     "data": {
      "text/html": [
       "<div>\n",
       "<table border=\"1\" class=\"dataframe\">\n",
       "  <thead>\n",
       "    <tr style=\"text-align: right;\">\n",
       "      <th></th>\n",
       "      <th>proj_group</th>\n",
       "      <th>edit_bin</th>\n",
       "      <th>sample_size</th>\n",
       "      <th>sampled_users</th>\n",
       "      <th>page_title</th>\n",
       "      <th>survey_url</th>\n",
       "      <th>preview_url</th>\n",
       "      <th>lang</th>\n",
       "    </tr>\n",
       "  </thead>\n",
       "  <tbody>\n",
       "    <tr>\n",
       "      <th>2</th>\n",
       "      <td>wikidata</td>\n",
       "      <td>[150, 600)</td>\n",
       "      <td>64</td>\n",
       "      <td>[user(user='Joel7687', proj_domain='www.wikida...</td>\n",
       "      <td>Community Engagement Insights/MassMessages/Lis...</td>\n",
       "      <td>https://wikimedia.qualtrics.com/jfe/form/SV_5A...</td>\n",
       "      <td>https://wikimedia.qualtrics.com/jfe/preview/SV...</td>\n",
       "      <td>en</td>\n",
       "    </tr>\n",
       "    <tr>\n",
       "      <th>8</th>\n",
       "      <td>zhwiki</td>\n",
       "      <td>[150, 600)</td>\n",
       "      <td>596</td>\n",
       "      <td>[user(user='HFWMan', proj_domain='zh.wikipedia...</td>\n",
       "      <td>Community Engagement Insights/MassMessages/Lis...</td>\n",
       "      <td>https://wikimedia.qualtrics.com/jfe/form/SV_5A...</td>\n",
       "      <td>https://wikimedia.qualtrics.com/jfe/preview/SV...</td>\n",
       "      <td>zh</td>\n",
       "    </tr>\n",
       "    <tr>\n",
       "      <th>4</th>\n",
       "      <td>wikidata</td>\n",
       "      <td>[1200, 3500)</td>\n",
       "      <td>50</td>\n",
       "      <td>[user(user='Abián', proj_domain='www.wikidata....</td>\n",
       "      <td>Community Engagement Insights/MassMessages/Lis...</td>\n",
       "      <td>https://wikimedia.qualtrics.com/jfe/form/SV_5A...</td>\n",
       "      <td>https://wikimedia.qualtrics.com/jfe/preview/SV...</td>\n",
       "      <td>en</td>\n",
       "    </tr>\n",
       "    <tr>\n",
       "      <th>9</th>\n",
       "      <td>zhwiki</td>\n",
       "      <td>[600, 1200)</td>\n",
       "      <td>230</td>\n",
       "      <td>[user(user='創造未來，迎接康莊', proj_domain='zh.wikipe...</td>\n",
       "      <td>Community Engagement Insights/MassMessages/Lis...</td>\n",
       "      <td>https://wikimedia.qualtrics.com/jfe/form/SV_5A...</td>\n",
       "      <td>https://wikimedia.qualtrics.com/jfe/preview/SV...</td>\n",
       "      <td>zh</td>\n",
       "    </tr>\n",
       "    <tr>\n",
       "      <th>3</th>\n",
       "      <td>wikidata</td>\n",
       "      <td>[600, 1200)</td>\n",
       "      <td>35</td>\n",
       "      <td>[user(user='RemoRivelli', proj_domain='www.wik...</td>\n",
       "      <td>Community Engagement Insights/MassMessages/Lis...</td>\n",
       "      <td>https://wikimedia.qualtrics.com/jfe/form/SV_5A...</td>\n",
       "      <td>https://wikimedia.qualtrics.com/jfe/preview/SV...</td>\n",
       "      <td>en</td>\n",
       "    </tr>\n",
       "    <tr>\n",
       "      <th>6</th>\n",
       "      <td>zhwiki</td>\n",
       "      <td>[10, 30)</td>\n",
       "      <td>106</td>\n",
       "      <td>[user(user='Qead', proj_domain='zh.wikipedia.o...</td>\n",
       "      <td>Community Engagement Insights/MassMessages/Lis...</td>\n",
       "      <td>https://wikimedia.qualtrics.com/jfe/form/SV_5A...</td>\n",
       "      <td>https://wikimedia.qualtrics.com/jfe/preview/SV...</td>\n",
       "      <td>zh</td>\n",
       "    </tr>\n",
       "    <tr>\n",
       "      <th>11</th>\n",
       "      <td>zhwiki</td>\n",
       "      <td>[3500, 1100000)</td>\n",
       "      <td>206</td>\n",
       "      <td>[user(user='Mico121', proj_domain='zh.wikipedi...</td>\n",
       "      <td>Community Engagement Insights/MassMessages/Lis...</td>\n",
       "      <td>https://wikimedia.qualtrics.com/jfe/form/SV_5A...</td>\n",
       "      <td>https://wikimedia.qualtrics.com/jfe/preview/SV...</td>\n",
       "      <td>zh</td>\n",
       "    </tr>\n",
       "    <tr>\n",
       "      <th>0</th>\n",
       "      <td>wikidata</td>\n",
       "      <td>[10, 30)</td>\n",
       "      <td>0</td>\n",
       "      <td>[]</td>\n",
       "      <td>Community Engagement Insights/MassMessages/Lis...</td>\n",
       "      <td>https://wikimedia.qualtrics.com/jfe/form/SV_5A...</td>\n",
       "      <td>https://wikimedia.qualtrics.com/jfe/preview/SV...</td>\n",
       "      <td>en</td>\n",
       "    </tr>\n",
       "    <tr>\n",
       "      <th>10</th>\n",
       "      <td>zhwiki</td>\n",
       "      <td>[1200, 3500)</td>\n",
       "      <td>215</td>\n",
       "      <td>[user(user='Wanchens', proj_domain='zh.wikiped...</td>\n",
       "      <td>Community Engagement Insights/MassMessages/Lis...</td>\n",
       "      <td>https://wikimedia.qualtrics.com/jfe/form/SV_5A...</td>\n",
       "      <td>https://wikimedia.qualtrics.com/jfe/preview/SV...</td>\n",
       "      <td>zh</td>\n",
       "    </tr>\n",
       "    <tr>\n",
       "      <th>7</th>\n",
       "      <td>zhwiki</td>\n",
       "      <td>[30, 150)</td>\n",
       "      <td>523</td>\n",
       "      <td>[user(user='Hoàng Tích Tùng', proj_domain='zh....</td>\n",
       "      <td>Community Engagement Insights/MassMessages/Lis...</td>\n",
       "      <td>https://wikimedia.qualtrics.com/jfe/form/SV_5A...</td>\n",
       "      <td>https://wikimedia.qualtrics.com/jfe/preview/SV...</td>\n",
       "      <td>zh</td>\n",
       "    </tr>\n",
       "  </tbody>\n",
       "</table>\n",
       "</div>"
      ],
      "text/plain": [
       "   proj_group         edit_bin  sample_size  \\\n",
       "2    wikidata       [150, 600)           64   \n",
       "8      zhwiki       [150, 600)          596   \n",
       "4    wikidata     [1200, 3500)           50   \n",
       "9      zhwiki      [600, 1200)          230   \n",
       "3    wikidata      [600, 1200)           35   \n",
       "6      zhwiki         [10, 30)          106   \n",
       "11     zhwiki  [3500, 1100000)          206   \n",
       "0    wikidata         [10, 30)            0   \n",
       "10     zhwiki     [1200, 3500)          215   \n",
       "7      zhwiki        [30, 150)          523   \n",
       "\n",
       "                                        sampled_users  \\\n",
       "2   [user(user='Joel7687', proj_domain='www.wikida...   \n",
       "8   [user(user='HFWMan', proj_domain='zh.wikipedia...   \n",
       "4   [user(user='Abián', proj_domain='www.wikidata....   \n",
       "9   [user(user='創造未來，迎接康莊', proj_domain='zh.wikipe...   \n",
       "3   [user(user='RemoRivelli', proj_domain='www.wik...   \n",
       "6   [user(user='Qead', proj_domain='zh.wikipedia.o...   \n",
       "11  [user(user='Mico121', proj_domain='zh.wikipedi...   \n",
       "0                                                  []   \n",
       "10  [user(user='Wanchens', proj_domain='zh.wikiped...   \n",
       "7   [user(user='Hoàng Tích Tùng', proj_domain='zh....   \n",
       "\n",
       "                                           page_title  \\\n",
       "2   Community Engagement Insights/MassMessages/Lis...   \n",
       "8   Community Engagement Insights/MassMessages/Lis...   \n",
       "4   Community Engagement Insights/MassMessages/Lis...   \n",
       "9   Community Engagement Insights/MassMessages/Lis...   \n",
       "3   Community Engagement Insights/MassMessages/Lis...   \n",
       "6   Community Engagement Insights/MassMessages/Lis...   \n",
       "11  Community Engagement Insights/MassMessages/Lis...   \n",
       "0   Community Engagement Insights/MassMessages/Lis...   \n",
       "10  Community Engagement Insights/MassMessages/Lis...   \n",
       "7   Community Engagement Insights/MassMessages/Lis...   \n",
       "\n",
       "                                           survey_url  \\\n",
       "2   https://wikimedia.qualtrics.com/jfe/form/SV_5A...   \n",
       "8   https://wikimedia.qualtrics.com/jfe/form/SV_5A...   \n",
       "4   https://wikimedia.qualtrics.com/jfe/form/SV_5A...   \n",
       "9   https://wikimedia.qualtrics.com/jfe/form/SV_5A...   \n",
       "3   https://wikimedia.qualtrics.com/jfe/form/SV_5A...   \n",
       "6   https://wikimedia.qualtrics.com/jfe/form/SV_5A...   \n",
       "11  https://wikimedia.qualtrics.com/jfe/form/SV_5A...   \n",
       "0   https://wikimedia.qualtrics.com/jfe/form/SV_5A...   \n",
       "10  https://wikimedia.qualtrics.com/jfe/form/SV_5A...   \n",
       "7   https://wikimedia.qualtrics.com/jfe/form/SV_5A...   \n",
       "\n",
       "                                          preview_url lang  \n",
       "2   https://wikimedia.qualtrics.com/jfe/preview/SV...   en  \n",
       "8   https://wikimedia.qualtrics.com/jfe/preview/SV...   zh  \n",
       "4   https://wikimedia.qualtrics.com/jfe/preview/SV...   en  \n",
       "9   https://wikimedia.qualtrics.com/jfe/preview/SV...   zh  \n",
       "3   https://wikimedia.qualtrics.com/jfe/preview/SV...   en  \n",
       "6   https://wikimedia.qualtrics.com/jfe/preview/SV...   zh  \n",
       "11  https://wikimedia.qualtrics.com/jfe/preview/SV...   zh  \n",
       "0   https://wikimedia.qualtrics.com/jfe/preview/SV...   en  \n",
       "10  https://wikimedia.qualtrics.com/jfe/preview/SV...   zh  \n",
       "7   https://wikimedia.qualtrics.com/jfe/preview/SV...   zh  "
      ]
     },
     "execution_count": 11,
     "metadata": {},
     "output_type": "execute_result"
    }
   ],
   "source": [
    "real_strata = real_strata.merge(proj_langs, how = \"left\", on = \"proj_group\")\n",
    "real_strata.sample(n = 10)"
   ]
  },
  {
   "cell_type": "markdown",
   "metadata": {},
   "source": [
    "# Set up connection"
   ]
  },
  {
   "cell_type": "markdown",
   "metadata": {},
   "source": [
    "Use OAuth to authenticate as an [owner-only consumer](https://www.mediawiki.org/wiki/OAuth/Owner-only_consumers)."
   ]
  },
  {
   "cell_type": "code",
   "execution_count": 12,
   "metadata": {
    "collapsed": false
   },
   "outputs": [],
   "source": [
    "sess = mwapi.Session(\"https://meta.wikimedia.org\", user_agent = USER_AGENT)\n",
    "\n",
    "auth = OAuth1(\n",
    "    oauth_cfg.consumer_token,\n",
    "    oauth_cfg.consumer_secret,\n",
    "    oauth_cfg.access_token,\n",
    "    oauth_cfg.access_secret\n",
    ")\n",
    "\n",
    "def get_token():\n",
    "    resp = sess.get(\n",
    "        action=\"query\", \n",
    "        meta=\"tokens\", \n",
    "        type=\"csrf\", \n",
    "        auth = auth\n",
    "    )\n",
    "    \n",
    "    return resp[\"query\"][\"tokens\"][\"csrftoken\"]\n",
    "\n",
    "def api_get(*args, **kwargs):\n",
    "    return sess.get(\n",
    "        *args,\n",
    "        format = \"json\",\n",
    "        formatversion = 2,\n",
    "        auth = auth,\n",
    "        **kwargs\n",
    "    )\n",
    "    \n",
    "def api_post(*args, **kwargs):\n",
    "    return sess.post(\n",
    "        *args,\n",
    "        format = \"json\",\n",
    "        formatversion = 2,\n",
    "        auth = auth,\n",
    "        token = get_token(),\n",
    "        **kwargs\n",
    "    )"
   ]
  },
  {
   "cell_type": "markdown",
   "metadata": {},
   "source": [
    "# Check API authentication "
   ]
  },
  {
   "cell_type": "code",
   "execution_count": 13,
   "metadata": {
    "collapsed": false
   },
   "outputs": [
    {
     "data": {
      "text/plain": [
       "'WMF Surveys'"
      ]
     },
     "execution_count": 13,
     "metadata": {},
     "output_type": "execute_result"
    }
   ],
   "source": [
    "api_get(\n",
    "    action = \"query\",\n",
    "    meta = \"userinfo\"\n",
    ")[\"query\"][\"userinfo\"][\"name\"]"
   ]
  },
  {
   "cell_type": "markdown",
   "metadata": {},
   "source": [
    "# Assemble message"
   ]
  },
  {
   "cell_type": "markdown",
   "metadata": {},
   "source": [
    "This uses the [\"Assemble multilingual message\" Lua module](https://meta.wikimedia.org/wiki/Module:Assemble_multilingual_message), \n",
    "as described at [meta:Newsletters/Translation#Regular process](https://meta.wikimedia.org/wiki/Newsletters/Translation#Regular_process)."
   ]
  },
  {
   "cell_type": "code",
   "execution_count": 14,
   "metadata": {
    "collapsed": false
   },
   "outputs": [
    {
     "name": "stdout",
     "output_type": "stream",
     "text": [
      "\n",
      "{{#invoke:\n",
      "Assemble multilingual message|\n",
      "assembleMessage|\n",
      "marker=ce-insights-content|\n",
      "page=Community Engagement Insights/MassMessages/First message|ar|de|es|fr|it|ja|nl|pl|pt|ru|uk|zh|\n",
      "}}\n",
      "\n"
     ]
    }
   ],
   "source": [
    "# Be careful with the arrangement of linebreaks and pipes between the languages.\n",
    "# In some cases, this can cause the leading or trailing language not to be included in the output.\n",
    "message_assembly = \"\"\"\n",
    "{{{{#invoke:\n",
    "Assemble multilingual message|\n",
    "assembleMessage|\n",
    "marker={marker}|\n",
    "page={page}|{langs}\n",
    "}}}}\n",
    "\"\"\".format(\n",
    "    page = MESSAGE_PAGE,\n",
    "    marker = MESSAGE_MARKER,\n",
    "    langs = \"|\".join(MESSAGE_LANGS) + \"|\"\n",
    ")\n",
    "\n",
    "print(message_assembly)"
   ]
  },
  {
   "cell_type": "code",
   "execution_count": 15,
   "metadata": {
    "collapsed": false
   },
   "outputs": [],
   "source": [
    "raw_msg = api_get(\n",
    "    action = \"parse\",\n",
    "    text = message_assembly,\n",
    "    prop = \"text\",\n",
    "    contentmodel = \"wikitext\",\n",
    "    disablelimitreport = True\n",
    ")[\"parse\"][\"text\"]"
   ]
  },
  {
   "cell_type": "code",
   "execution_count": 16,
   "metadata": {
    "collapsed": false
   },
   "outputs": [],
   "source": [
    "# Strip ALL instances of `<pre>` and `</pre>` from the message\n",
    "# Replace HTML entities (mainly angle brackets) with raw characters\n",
    "def strip_pre(msg):\n",
    "    return re.sub(\n",
    "        r\"<[/]?pre>\",\n",
    "        \"\",\n",
    "        msg\n",
    "    )\n",
    "\n",
    "# Convert the date-only signature to a date-and-name signature\n",
    "def convert_sig(msg):\n",
    "    return re.sub(\n",
    "        r\"~~~~~\",\n",
    "        \"\"\"<span class=\"mw-content-ltr\" dir=\"ltr\">[[m:User:WMF Surveys|WMF Surveys]]</span>, ~~~~~\"\"\",\n",
    "        msg\n",
    "    )\n",
    "\n",
    "unlinked_msg = html.unescape(strip_pre(convert_sig(raw_msg)))"
   ]
  },
  {
   "cell_type": "code",
   "execution_count": 17,
   "metadata": {
    "collapsed": false,
    "scrolled": true
   },
   "outputs": [
    {
     "name": "stdout",
     "output_type": "stream",
     "text": [
      "<div class=\"mw-parser-output\">\n",
      "{{subst:#switch:{{subst:CONTENTLANG}}|it=<div class=\"plainlinks mw-content-ltr\" lang=\"it\" dir=\"ltr\">\n",
      "Ciao! La Fondazione Wikimedia chiede il tuo parere con un sondaggio. Vorremmo sapere se stiamo sostenendo efficacemente il tuo lavoro all'interno e all'esterno del mondo wiki, e come possiamo cambiare o migliorare le cose in futuro. Le opinioni che condividi influiranno direttamente sull'attuale e futuro lavoro della Fondazione Wikimedia. Sei stato selezionato in modo casuale per partecipare a questo sondaggio poiché vorremmo ascoltare l'opinione della tua comunità Wikimedia. Il sondaggio è disponibile in diverse lingue e necessita tra i venti e i quaranta minuti per essere completato.\n",
      " \n",
      "<big>'''[https://www.example.com Inizia il sondaggio adesso!]'''</big>\n",
      "\n",
      "È possibile trovare maggiori informazioni sul progetto in [[m:Special:MyLanguage/Community_Engagement_Insights/About_CE_Insights|questa pagina]]. Il sondaggio è ospitato da un servizio terzo ed è regolamentato dalla seguente [[:foundation:Community_Engagement_Insights_2018_Survey_Privacy_Statement|informativa sulla privacy]] (in inglese). Visita la nostra [[m:Special:MyLanguage/Community_Engagement_Insights/Frequently_asked_questions|pagina delle domande più frequenti]] per avere maggiori informazioni sul sondaggio. Se necessiti ulteriore aiuto o se non vuoi ricevere future comunicazioni su questo sondaggio, invia una email attraverso la funzionalità InviaEmail a [[:m:Special:EmailUser/WMF Surveys|WMF Surveys]] per essere rimosso dalla lista.\n",
      "\n",
      "Grazie!\n",
      "</div>|ja=<div class=\"plainlinks mw-content-ltr\" lang=\"ja\" dir=\"ltr\">\n",
      "こんにちは！ウィキメディア財団からアンケート調査へご協力のお願いです。このアンケートは、どのように皆様のウィキ上及びウィキ外での活動を支援すれば良いか、どのように今後より充実したサポートをご提供できるかを知るために実施するものです。 皆様からいただいたご意見はウィキメディア財団の今現在、そして今後の活動に直接反映します。このアンケートは、コミュニティーからのご意見を聞かせてもらうために、無作為に選ばれたウィキメディア参加者を対象にしています。 このアンケートは複数の言語に対応しています。所要時間は２０−４０分程度です。\n",
      " \n",
      "<big>'''[https://www.example.com アンケートにご協力お願いします。]'''</big>\n",
      "\n",
      "アンケート調査に関する詳しい情報,　または皆様のご意見、ご提案がどのようにして編集者へのサポートに貢献しているかは[[m:Special:MyLanguage/Community_Engagement_Insights/About_CE_Insights|プロジェクトページ]]をご覧ください。 このアンケートは[[:foundation:Community_Engagement_Insights_2018_Survey_Privacy_Statement|プライバシーに関する声明]]（英語）を準拠とし、第三者機関によって運営されています。 アンケート調査に関する詳しい情報は, 私たちの[[m:Special:MyLanguage/Community_Engagement_Insights/Frequently_asked_questions|よくある質問に対する回答]]をご覧ください。 その他ご質問、また今後アンケート調査に関するメール配信を希望しない場合は、Emailuser機能を使い[[:m:Special:EmailUser/WMF Surveys|WMF Surveys]]に連絡リストからの削除のリクエストを送信してください。\n",
      "\n",
      "アンケート調査にご協力をいただき、ありがとうございました！\n",
      "</div>|fr=<div class=\"plainlinks mw-content-ltr\" lang=\"fr\" dir=\"ltr\">\n",
      "Bonjour ! La Fondation Wikimédia vous demande votre avis dans une enquête. Nous souhaitons savoir si nous répondons bien à vos attentes dans votre travail sur les wikis et à l’extérieur, et ce que nous pouvons faire pour améliorer les choses à l’avenir. Les opinions que vous partagez affecteront directement le travail actuel et futur de la Fondation Wikimédia. Vous avez été choisi·e au hasard pour répondre à l’enquête, car nous souhaitons obtenir des informations de la part de votre communauté Wikimédia. Le questionnaire est disponible dans différentes langues et requiert entre 20 et 40 minutes pour être complété.\n",
      " \n",
      "<big>'''[https://www.example.com Répondez-y maintenant !]'''</big>\n",
      "\n",
      "Vous pouvez trouver davantage d’informations concernant cette enquête [[m:Special:MyLanguage/Community_Engagement_Insights/About_CE_Insights|sur la page du projet]] et voir comment vos retours aident la Fondation Wikimédia à prendre en charge des contributeurs comme vous. Cette enquête est hébergée par un service tiers et régie par cette [[:foundation:Community_Engagement_Insights_2018_Survey_Privacy_Statement|déclaration de confidentialité]] (en anglais). Visitez notre [[m:Special:MyLanguage/Community_Engagement_Insights/Frequently_asked_questions|page des questions fréquentes]] pour trouver plus d’informations sur cette enquête. Si vous avez besoin d’aide supplémentaire, ou désirez vous désabonner des communications futures au sujet de cette enquête, envoyez un courrier électronique via la fonctionnalité EmailUser à [[:m:Special:EmailUser/WMF Surveys|WMF Surveys]] pour être supprimé·e de la liste.\n",
      "\n",
      "Merci !\n",
      "</div>|pl=<div class=\"plainlinks mw-content-ltr\" lang=\"pl\" dir=\"ltr\">\n",
      "Witaj! Wikimedia Foundation prosi Cię o wyrażenie opinii w ankiecie. Chcemy wiedzieć jak dobrze wspomagamy Twoją pracę na i poza wiki oraz jak możemy zmienić lub ulepszyć różne kwestie w przyszłości. Opinie, którymi się podzielisz, bezpośrednio wpłyną na obecne i przyszłe prace Wikimedia Foundation. Zostałeś losowo wybrany do wzięcia udziału w tej ankiecie, tak, jak chcielibyśmy wysłuchać Twojej społeczności Wikimedia. Ta ankieta jest dostępna w różnych językach i zajmie między 20 a 40 minut.\n",
      " \n",
      "<big>'''[https://www.example.com Weź udział w ankiecie teraz!]'''</big>\n",
      "\n",
      "Możesz dowiedzieć się więcej na temat tej ankiety [[m:Special:MyLanguage/Community_Engagement_Insights/About_CE_Insights|na stronie projektu]]. Zobacz jak Twoje zdanie pomaga Wikimedia Foundation wspierać edytujących takich jak Ty. Ta ankieta jest hostowana przez zewnętrzny serwis i podlega [[:foundation:Community_Engagement_Insights_2018_Survey_Privacy_Statement|temu oświadczeniu prywatności]] (po angielsku). Odwiedź naszą [[m:Special:MyLanguage/Community_Engagement_Insights/Frequently_asked_questions|stronę z najczęściej zadawanymi pytaniami]], aby znaleźć więcej informacji na temat tego badania. Jeżeli potrzebujesz dodatkowej pomocy lub chcesz wypisać się z przyszłych prób komunikacji, wyślij e-mail poprzez funkcję wysyłania e-maili do użytkownika, do [[:m:Special:EmailUser/WMF Surveys|WMF Surveys]], aby usunął Cię z listy.\n",
      "\n",
      "Dziękujemy!\n",
      "</div>|uk=<div class=\"plainlinks mw-content-ltr\" lang=\"uk\" dir=\"ltr\">\n",
      "Привіт! Фонд Вікімедіа просить вас пройти опитування. Ми хочемо знати, чи достатньо підтримуємо вашу роботу у вікі і поза ними, а також як ми можемо змінити чи покращити все на майбутнє. Ваша думка безпосередньо вплине на поточну і майбутню роботу Фонду Вікімедіа. Вас було випадково вибрано для проходження цього опитування, оскільки ми хочемо почути голос вашої спільноти Вікімедіа. Опитування доступне різними мовами і займе від 20 до 40 хвилин.\n",
      " \n",
      "<big>'''[https://www.example.com Пройдіть опитування зараз!]'''</big>\n",
      "\n",
      "Ви можете дізнатися більше про це опитування [[m:Special:MyLanguage/Community_Engagement_Insights/About_CE_Insights|на сторінці проекту]] і подивитися, як ваш відгук допомагає Фонду Вікімедіа підтримувати таких редакторів, як ви. Це опитування розміщене у третьої сторони і підлягає їхньому [[:foundation:Community_Engagement_Insights_2018_Survey_Privacy_Statement|положенню про конфіденційність]] (англійською). Будь ласка, зайдіть на нашу [[m:Special:MyLanguage/Community_Engagement_Insights/Frequently_asked_questions|сторінку частих запитань]], щоб дізнатися про це опитування більше. Якщо вам потрібна додаткова допомога або ж ви хочете відмовитися від подальших повідомлень щодо цього опитування, напишіть [[:m:Special:EmailUser/WMF Surveys|WMF Surveys]], скориставшись можливістю «написати листа користувачеві», і вас буде вилучено зі списку.\n",
      "\n",
      "Дякуємо!\n",
      "</div>|nl=<div class=\"plainlinks mw-content-ltr\" lang=\"nl\" dir=\"ltr\">\n",
      "Hallo! De Wikimedia Foundation vraagt om je feedback in een enquête. We willen weten hoe goed we jouw werk op en buiten de wiki's ondersteunen, en hoe we bepaalde dingen kunnen veranderen of verbeteren in de toekomst. De mening die je met ons deelt, zal directe invloed hebben op het huidige en toekomstige werk van de Wikimedia Foundation. Jij werd willekeurig geselecteerd voor deze enquête, en we willen graag input ontvangen van jouw Wikimediagemeenschap. De enquête is beschikbaar in meerdere talen, en zal ongeveer 20 tot 40 minuten in beslag nemen.\n",
      " \n",
      "<big>'''[https://www.example.com Neem nu deel aan het onderzoek!]'''</big>\n",
      "\n",
      "Meer informatie over deze enquête is beschikbaar [[m:Special:MyLanguage/Community_Engagement_Insights/About_CE_Insights|op de projectpagina]]; daar lees je ook hoe je feedback de Wikimedia Foundation helpt om bewerkers zoals jijzelf te helpen. De enquête wordt gehost door een derde partij; ons [[:foundation:Community_Engagement_Insights_2018_Survey_Privacy_Statement|privacy statement]] (Engels) is van toepassing. Op de pagina met [[m:Special:MyLanguage/Community_Engagement_Insights/Frequently_asked_questions|veelgestelde vragen]] vind je meer informatie over deze enquête. Als je hulp nodig hebt, of als je je wil afmelden van toekomstige berichten over deze enquête, stuur dan een e-mail naar [[:m:Special:EmailUser/WMF Surveys|WMF Surveys]] via de 'E-mail een gebruiker' functie.\n",
      "\n",
      "Hartelijk dank!\n",
      "</div>|ru=<div class=\"plainlinks mw-content-ltr\" lang=\"ru\" dir=\"ltr\">\n",
      "Привет! Фонд Викимедиа проводит опрос, чтобы узнать, насколько хорошо мы поддерживаем вас в вики-проектах и вне их, а также что нам стоит улучшить или изменить в будущем. Ваше мнение напрямую повлияет на текущую и будущую работу Фонда Викимедиа. Вы были выбраны случайным образом для участия в этом опросе, так как мы хотим услышать мнения из вашего сообщества Викимедиа. Этот опрос доступен на разных языках, и его заполнение займёт от 20\n",
      "до 40 минут.\n",
      " \n",
      "<big>'''[https://www.example.com Примите участие в опросе прямо сейчас!]'''</big>\n",
      "\n",
      "[[m:Special:MyLanguage/Community_Engagement_Insights/About_CE_Insights|На странице проекта]] вы можете узнать о нём подробнее и увидеть, как ваши ответы и отзывы помогают Фонду Викимедиа поддерживать таких редакторов, как вы. Этот опрос проводится с участием сторонней компании и регулируется их [[:foundation:Community_Engagement_Insights_2018_Survey_Privacy_Statement|политикой конфиденциальности и персональной информации]] (на английском языке). Дополнительную информацию об этом опросе вы можете найти на нашей [[m:Special:MyLanguage/Community_Engagement_Insights/Frequently_asked_questions|странице Часто задаваемых вопросов]]. Если вам необходима дополнительная помощь или если вы хотите перестать получать сообщения, связанные с этим опросом, отправьте письмо [[:m:Special:EmailUser/WMF Surveys|WMF Surveys]] через вики-почту (функция «Письмо участнику»).\n",
      "\n",
      "Спасибо!\n",
      "</div>|de=<div class=\"plainlinks mw-content-ltr\" lang=\"de\" dir=\"ltr\">\n",
      "Hallo! Die Wikimedia Foundation braucht dein Feedback in einer Umfrage. Wir möchten wissen, wie gut wir dich in deiner Arbeit für unsere Projekte online und offline unterstützen. Was können wir tun, um diese Unterstützung zukünftig zu verändern oder zu verbessern? Deine Beurteilung wird direkten Einfluss auf die aktuelle und zukünftige Arbeit der Wikimedia Foundation haben. Du bist zufällig ausgewählt worden an dieser Umfrage teilzunehmen und wir freuen und darauf, etwas aus deiner Wikimedia-Community zu hören. Die Umfrage ist in unterschiedlichen Sprachen verfügbar und nimmt zwischen 20 und 40 Minuten deiner Zeit in Anspruch.\n",
      " \n",
      "<big>'''[https://www.example.com Nimm jetzt an der Umfrage teil!]'''</big>\n",
      "\n",
      "Du kannst mehr Informationen über diese Umfrage [[m:Special:MyLanguage/Community_Engagement_Insights/About_CE_Insights|auf der Projektseite]] finden und sehen, wie dein Feedback der Wikimedia Foundation hilft, Benutzer wie dich zu unterstützen. Die Umfrage wird von einem externen Anbieter durchgeführt, es gelten diese [[:foundation:Community_Engagement_Insights_2018_Survey_Privacy_Statement|Datenschutzbestimmungen]] (englisch). Besuche unsere [[m:Special:MyLanguage/Community_Engagement_Insights/Frequently_asked_questions|FAQ-Seite]] um mehr Informationen zu dieser Umfrage zu erhalten. Wenn du zusätzliche Hilfe benötigst oder dich von zukünftigen Mitteilungen über diese Umfrage abmelden möchtest, sende eine E-Mail über die EmailUser-Funktion an [[:m:Special:EmailUser/WMF Surveys|WMF Surveys]], um dich aus der Liste zu entfernen.\n",
      "\n",
      "Danke!\n",
      "</div>|pt=<div class=\"plainlinks mw-content-ltr\" lang=\"pt\" dir=\"ltr\">\n",
      "Olá! A Fundação Wikimedia gostaria de seus comentários numa pesquisa. Queremos saber como estamos em apoiar seu trabalho nas wikis e fora delas, bem como se devemos modificar ou melhorar alguns temas no futuro. As opiniões por você compartilhadas afetarão diretamente no trabalho atual e futuro da Fundação. Escolhemos você aleatoriamente para essa pesquisa por querermos saber mais acerca da sua comunidade. A pesquisa estará disponível em vários idiomas, e levará entre 20 e 40 minutos.\n",
      " \n",
      "<big>'''[https://www.example.com Participe da pesquisa!]'''</big>\n",
      "\n",
      "Você pode encontrar mais informações sobre essa pesquisa [[m:Special:MyLanguage/Community_Engagement_Insights/About_CE_Insights|na página do projeto]] e ver como seus comentários ajudam a Wikimedia Foundation a dar suporte a editores como você. Essa pesquisa está sendo organizada por um serviço de terceiros, e administrada por esta [[:foundation:Community_Engagement_Insights_2018_Survey_Privacy_Statement|declaração de privacidade]] (em inglês). Por favor, visite nossa [[m:Special:MyLanguage/Community_Engagement_Insights/Frequently_asked_questions|página de perguntas frequentes]]  (em inglês) para saber mais sobre essa pesquisa. Para ajuda adicional ou para cancelar o recebimento de futuras mensagens sobre essa pesquisa, envie um email através do recurso EmailUser por [[:m:Special:EmailUser/WMF Surveys|WMF Surveys]].\n",
      "\n",
      "Obrigado!\n",
      "</div>|#default=<div class=\"plainlinks mw-content-ltr\" lang=\"en\" dir=\"ltr\">\n",
      "Hello! The Wikimedia Foundation is asking for your feedback in a survey. We want to know how well we are supporting your work on and off wiki, and how we can change or improve things in the future. The opinions you share will directly affect the current and future work of the Wikimedia Foundation. You have been randomly selected to take this survey as we would like to hear from your Wikimedia community. The survey is available in various languages and will take between 20 and 40 minutes.\n",
      " \n",
      "<big>'''[https://www.example.com Take the survey now!]'''</big>\n",
      "\n",
      "You can find more information about this survey [[m:Special:MyLanguage/Community_Engagement_Insights/About_CE_Insights|on the project page]] and see how your feedback helps the Wikimedia Foundation support editors like you. This survey is hosted by a third-party service and governed by this [[:foundation:Community_Engagement_Insights_2018_Survey_Privacy_Statement|privacy statement]] (in English). Please visit our [[m:Special:MyLanguage/Community_Engagement_Insights/Frequently_asked_questions|frequently asked questions page]] to find more information about this survey. If you need additional help, or if you wish to opt-out of future communications about this survey, send an email through the EmailUser feature to [[:m:Special:EmailUser/WMF Surveys|WMF Surveys]] to remove you from the list.\n",
      "\n",
      "Thank you!\n",
      "</div>|ar=<div class=\"plainlinks mw-content-rtl\" lang=\"ar\" dir=\"rtl\">\n",
      "مرحبا! تطلب مؤسسة ويكيميديا منك أن تقدم آرائك وملاحظاتك في استبيان. نود أن نعلم مستوى الدعم الذي نقدمه لعملك على مواقع الويكي وخارجها وكيف يمكننا تغيير أو تحسين الأمور في المستقبل. سوف تؤثر الآراء التي سوف تشاركها معنا مباشرة على العمل القائم والمقبل داخل مؤسسة ويكيميديا. لقد وقع عليك الاختيار عشوائيا كي تشارك في هذا الاستبيان حيث أننا نرغب في أن نسمع لرأي مجتمع ويكيميديا الخاص بك. الاستبيان متاح بعدة لغات وسوف يستغرق حوالي 20 إلى 40 دقيقة.\n",
      " \n",
      "<big>'''[https://www.example.com اجب على الاستبيان الآن!]'''</big>\n",
      "\n",
      "يمكنك أن تطلع على المزيد من المعلومات عن هذا الاستبيان [[m:Special:MyLanguage/Community_Engagement_Insights/About_CE_Insights|على صفحة المشروع]] ورؤية كيف تساعد آرائك وملاحظاتك مؤسسة ويكيميديا في تقديم المساندة إلى المحررين الآخرين. يستضيف هذا الاستبيان جهة أخرى مقدمة للخدمات ولديها [[:foundation:Community_Engagement_Insights_2018_Survey_Privacy_Statement|بيان خصوصية]] ينظم عملها (باللغة الإنجليزية) يرجى زيارة [[m:Special:MyLanguage/Community_Engagement_Insights/Frequently_asked_questions|صفحة الأسئلة الشائعة]] لتتعرف على المزيد من المعلومات عن هذا الاستبيان. لو احتجت للمزيد من المساعدة، أو لو رغبت في عدم تلقي رسائل أخرى في المستقبل تتعلق بهذا الاستبيان، يمكنك أن ترسل رسالة بريد إلكتروني مستخدما خاصية إرسال رسالة بريد إلكتروني إلى مستخدم إلى [[:m:Special:EmailUser/WMF Surveys|WMF Surveys]] كي يرفع اسمك من القائمة.\n",
      "\n",
      "شكرا لك!\n",
      "</div>|zh=<div class=\"plainlinks mw-content-ltr\" lang=\"zh\" dir=\"ltr\">\n",
      "您好。维基媒体基金会希望您可以在这场调查中写下您的反馈。我们需要知道，我们是如何为您的线上和线下维基工作提供帮助和支持。 您分享的意见将直接影响维基媒体基金会目前和未来的发展。您已经被我们随机抽到来参加这次调查，我们想听听您所在的维基社群的声音。 这次调查提供了各种语言供参加者参与。完成此次调查预计要20到40分钟。\n",
      " \n",
      "<big>'''[https://www.example.com 现在就去参与调查！]'''</big>\n",
      "\n",
      "您可以[[m:Special:MyLanguage/Community_Engagement_Insights/About_CE_Insights|在项目页面]]找到更多有关此调查的信息，并查看您的反馈如何帮助维基媒体基金会支持像您一样的编辑者。 此调查由第三方网站托管，并受此[[:foundation:Community_Engagement_Insights_2018_Survey_Privacy_Statement|隐私声明]]（只有英语版）制约。 如果对这次调查有疑惑的，请参阅我们的[[m:Special:MyLanguage/Community_Engagement_Insights/Frequently_asked_questions|常见问题解疑页面]]。 如果您需要其他帮助或者希望退訂此次调查的訊息，请透過電郵用戶（EmailUser）功能发电子邮件到[[:m:Special:EmailUser/WMF Surveys|WMF Surveys]]。\n",
      "\n",
      "十分感谢您的参与！\n",
      "</div>|es=<div class=\"plainlinks mw-content-ltr\" lang=\"es\" dir=\"ltr\">\n",
      "¡Hola! La Fundación Wikimedia está pidiendo por su retroalimentación en una encuesta. Queremos saber qué tan bien estamos apoyando su trabajo dentro y fuera de wiki, y cómo podemos cambiar o mejorar las cosas en el futuro. Las opiniones que comparta, afectarán directamente al trabajo actual y futuro de la Fundación Wikimedia. Ha sido elegido aleatoriamente para hacer esta encuesta en tanto nos gustaría saber más acerca de su Comunidad Wikimedia. La encuesta está disponible en varios idiomas y le tomará entre 20 y 40 minutos completarla.\n",
      " \n",
      "<big>'''[https://www.example.com ¡Haga la encuesta ahora!]'''</big>\n",
      "\n",
      "Puede encontrar más información sobre [[m:Special:MyLanguage/Community_Engagement_Insights/About_CE_Insights|este proyecto]] y ver como su retroalimentación ayuda la Fundación apoyar editores como usted. Esta encuesta está a cargo de un servidor externo y regida por esta [[:foundation:Community_Engagement_Insights_2018_Survey_Privacy_Statement|declaración de privacidad]] (en inglés). Por favor visite nuestra [[m:Special:MyLanguage/Community_Engagement_Insights/Frequently_asked_questions|página de preguntas frecuentes]] para obtener más información sobre esta encuesta. Si necesita ayuda adicional o si quisiera excluirse de futuras comunicaciones sobre esta encuesta, por favor envíe un e-mail por la herramienta EmailUser a [[:m:Special:EmailUser/WMF Surveys|WMF Surveys]].\n",
      "\n",
      "¡Gracias!\n",
      "</div>}} <span class=\"mw-content-ltr\" dir=\"ltr\">[[m:User:WMF Surveys|WMF Surveys]]</span>, ~~~~~\n",
      "\n",
      "</div>\n"
     ]
    }
   ],
   "source": [
    "print(unlinked_msg)"
   ]
  },
  {
   "cell_type": "code",
   "execution_count": 18,
   "metadata": {
    "collapsed": true
   },
   "outputs": [],
   "source": [
    "# Replace links\n",
    "def add_link(msg, link):\n",
    "    return re.sub(\n",
    "        r\"https://www.example.com\",\n",
    "        link,\n",
    "        msg\n",
    "    )"
   ]
  },
  {
   "cell_type": "markdown",
   "metadata": {},
   "source": [
    "## Grab headings"
   ]
  },
  {
   "cell_type": "code",
   "execution_count": 19,
   "metadata": {
    "collapsed": true
   },
   "outputs": [],
   "source": [
    "def get_first_heading(lang):\n",
    "    # This assumes the section heading we want is the first one on the page\n",
    "    return api_get(\n",
    "        action = \"parse\",\n",
    "        page = MESSAGE_PAGE + \"/\" + lang,\n",
    "        prop = \"sections\"\n",
    "    )[\"parse\"][\"sections\"][0][\"line\"]"
   ]
  },
  {
   "cell_type": "code",
   "execution_count": 20,
   "metadata": {
    "collapsed": false
   },
   "outputs": [
    {
     "data": {
      "text/plain": [
       "{'ar': 'شارك خبراتك وآرائك وملاحظاتك معنا بصفتك ويكيميدي في هذا الاستبيان العالمي',\n",
       " 'de': 'Teile deine Erfahrungen und gib uns Feedback als Wikimedianer in dieser globalen Umfrage',\n",
       " 'en': 'Share your experience and feedback as a Wikimedian in this global survey',\n",
       " 'es': 'Comparta su experiencia y retroalimente como wikimedista en esta encuesta global',\n",
       " 'fr': 'Partagez votre expérience de wikimédien·ne dans cette enquête générale',\n",
       " 'it': 'Condividi la tua esperienza e le tue valutazioni come Wikimediano tramite questo sondaggio globale',\n",
       " 'ja': 'このアンケートを通してウィキメディアンとしてのご意見、ご感想をお寄せください。',\n",
       " 'nl': 'Deel je feedback en je ervaringen als Wikimediabewerker in een wereldwijde enquête',\n",
       " 'pl': 'Podziel się swoim doświadczeniem i przekaż opinię jako Wikimedianin w globalnej ankiecie',\n",
       " 'pt': 'Compartilhe suas experiências e comentários como wikimedista na nossa nova pesquisa',\n",
       " 'ru': 'Всемирный опрос для участников проектов Викимедиа — поделитесь своим мнением и опытом',\n",
       " 'uk': 'Поділіться своїм досвідом і відгуком вікімедійця у цьому глобальному опитуванні',\n",
       " 'zh': '在这全域调查中分享您作为一名维基人的见解和意见'}"
      ]
     },
     "execution_count": 20,
     "metadata": {},
     "output_type": "execute_result"
    }
   ],
   "source": [
    "titles = {}\n",
    "\n",
    "titles[\"en\"] = get_first_heading(\"en\")\n",
    "\n",
    "for lang in MESSAGE_LANGS:\n",
    "    titles[lang] = get_first_heading(lang)\n",
    "    \n",
    "titles"
   ]
  },
  {
   "cell_type": "markdown",
   "metadata": {},
   "source": [
    "# Set up messaging"
   ]
  },
  {
   "cell_type": "code",
   "execution_count": 21,
   "metadata": {
    "collapsed": true
   },
   "outputs": [],
   "source": [
    "def send_message(target_list, subj, msg):\n",
    "    api_post(\n",
    "        action = \"massmessage\",\n",
    "        spamlist = target_list,\n",
    "        subject = subj,\n",
    "        message = msg\n",
    "    )\n",
    "\n",
    "\n",
    "def message_frame(frame):\n",
    "    for row in frame.itertuples():\n",
    "        if row.sample_size > 0:\n",
    "            message_list = row.page_title\n",
    "            survey_url = row.survey_url\n",
    "            preview_url = row.preview_url\n",
    "            title_lang = row.lang\n",
    "\n",
    "            linked_msg = add_link(unlinked_msg, survey_url)\n",
    "\n",
    "            print_err(\n",
    "                \"Sending to {message_list} with url {survey_url} in {wait} seconds\".format(\n",
    "                    message_list = message_list,\n",
    "                    survey_url = survey_url,\n",
    "                    wait = WAITING_PERIOD\n",
    "                )\n",
    "            )\n",
    "\n",
    "            time.sleep(WAITING_PERIOD)\n",
    "\n",
    "            send_message(message_list, titles[title_lang], linked_msg)\n",
    "\n",
    "            print_err(\"Sent.\")"
   ]
  },
  {
   "cell_type": "markdown",
   "metadata": {},
   "source": [
    "# Test"
   ]
  },
  {
   "cell_type": "markdown",
   "metadata": {},
   "source": [
    "## Basic test"
   ]
  },
  {
   "cell_type": "code",
   "execution_count": null,
   "metadata": {
    "collapsed": false,
    "scrolled": true
   },
   "outputs": [],
   "source": [
    "print(unlinked_msg)"
   ]
  },
  {
   "cell_type": "code",
   "execution_count": null,
   "metadata": {
    "collapsed": false
   },
   "outputs": [],
   "source": [
    "send_message(\n",
    "    TEST_LIST,\n",
    "    \"Testing MassMessage\",\n",
    "    unlinked_msg\n",
    ")"
   ]
  },
  {
   "cell_type": "markdown",
   "metadata": {},
   "source": [
    "## Test with full message"
   ]
  },
  {
   "cell_type": "code",
   "execution_count": null,
   "metadata": {
    "collapsed": false
   },
   "outputs": [],
   "source": [
    "message_frame(test_strata)"
   ]
  },
  {
   "cell_type": "markdown",
   "metadata": {},
   "source": [
    "# ACTUAL SENDING"
   ]
  },
  {
   "cell_type": "code",
   "execution_count": 22,
   "metadata": {
    "collapsed": false
   },
   "outputs": [
    {
     "data": {
      "text/html": [
       "\n",
       "<script type=\"text/Javascript\">\n",
       "var kernel = IPython.notebook.kernel;\n",
       "\n",
       "if (prompt(\"The code below will send talk pages messages to thousands of editors. Type 'run' to unlock it\")) {\n",
       "    kernel.execute(\"allow_run = dt.datetime.now()\")\n",
       "};\n",
       "</script\n"
      ],
      "text/plain": [
       "<IPython.core.display.HTML object>"
      ]
     },
     "execution_count": 22,
     "metadata": {},
     "output_type": "execute_result"
    }
   ],
   "source": [
    "# Run this cell and follow the prompt to unlock sending code for 30 seconds\n",
    "ipyd.HTML(\"\"\"\n",
    "<script type=\"text/Javascript\">\n",
    "var kernel = IPython.notebook.kernel;\n",
    "\n",
    "if (prompt(\"The code below will send talk pages messages to thousands of editors. Type 'run' to unlock it\")) {\n",
    "    kernel.execute(\"allow_run = dt.datetime.now()\")\n",
    "};\n",
    "</script\n",
    "\"\"\")"
   ]
  },
  {
   "cell_type": "code",
   "execution_count": 23,
   "metadata": {
    "collapsed": false
   },
   "outputs": [
    {
     "name": "stderr",
     "output_type": "stream",
     "text": [
      "Sending to Community Engagement Insights/MassMessages/Lists/2018/dt2 with url https://wikimedia.qualtrics.com/jfe/form/SV_5ABs6WwrDHzAeLr?aud=AE&prj=dt&edc=2&prjedc=dt2 in 15 seconds\n",
      "Sent.\n",
      "Sending to Community Engagement Insights/MassMessages/Lists/2018/dt3 with url https://wikimedia.qualtrics.com/jfe/form/SV_5ABs6WwrDHzAeLr?aud=AE&prj=dt&edc=3&prjedc=dt3 in 15 seconds\n",
      "Sent.\n",
      "Sending to Community Engagement Insights/MassMessages/Lists/2018/dt4 with url https://wikimedia.qualtrics.com/jfe/form/SV_5ABs6WwrDHzAeLr?aud=VAE&prj=dt&edc=4&prjedc=dt4 in 15 seconds\n",
      "Sent.\n",
      "Sending to Community Engagement Insights/MassMessages/Lists/2018/dt5 with url https://wikimedia.qualtrics.com/jfe/form/SV_5ABs6WwrDHzAeLr?aud=VAE&prj=dt&edc=5&prjedc=dt5 in 15 seconds\n",
      "Sent.\n",
      "Sending to Community Engagement Insights/MassMessages/Lists/2018/dt6 with url https://wikimedia.qualtrics.com/jfe/form/SV_5ABs6WwrDHzAeLr?aud=VAE&prj=dt&edc=6&prjedc=dt6 in 15 seconds\n",
      "Sent.\n",
      "Sending to Community Engagement Insights/MassMessages/Lists/2018/zh1 with url https://wikimedia.qualtrics.com/jfe/form/SV_5ABs6WwrDHzAeLr?aud=AE&prj=zh&edc=1&prjedc=zh1 in 15 seconds\n",
      "Sent.\n",
      "Sending to Community Engagement Insights/MassMessages/Lists/2018/zh2 with url https://wikimedia.qualtrics.com/jfe/form/SV_5ABs6WwrDHzAeLr?aud=AE&prj=zh&edc=2&prjedc=zh2 in 15 seconds\n",
      "Sent.\n",
      "Sending to Community Engagement Insights/MassMessages/Lists/2018/zh3 with url https://wikimedia.qualtrics.com/jfe/form/SV_5ABs6WwrDHzAeLr?aud=AE&prj=zh&edc=3&prjedc=zh3 in 15 seconds\n",
      "Sent.\n",
      "Sending to Community Engagement Insights/MassMessages/Lists/2018/zh4 with url https://wikimedia.qualtrics.com/jfe/form/SV_5ABs6WwrDHzAeLr?aud=VAE&prj=zh&edc=4&prjedc=zh4 in 15 seconds\n",
      "Sent.\n",
      "Sending to Community Engagement Insights/MassMessages/Lists/2018/zh5 with url https://wikimedia.qualtrics.com/jfe/form/SV_5ABs6WwrDHzAeLr?aud=VAE&prj=zh&edc=5&prjedc=zh5 in 15 seconds\n",
      "Sent.\n",
      "Sending to Community Engagement Insights/MassMessages/Lists/2018/zh6 with url https://wikimedia.qualtrics.com/jfe/form/SV_5ABs6WwrDHzAeLr?aud=VAE&prj=zh&edc=6&prjedc=zh6 in 15 seconds\n",
      "Sent.\n"
     ]
    }
   ],
   "source": [
    "# If the cell above has been run within the past 30 seconds, send the messages\n",
    "if (dt.datetime.now() - allow_run) < dt.timedelta(seconds = 30):\n",
    "    message_frame(real_strata)\n",
    "else:\n",
    "    print_err(\n",
    "        \"This code will send talk page messages to thousands of editors.\", \n",
    "        \"If you're certain you want to do this, run the cell above to unlock it.\",\n",
    "        sep = \"\\n\"\n",
    "    )"
   ]
  },
  {
   "cell_type": "code",
   "execution_count": null,
   "metadata": {
    "collapsed": true
   },
   "outputs": [],
   "source": []
  }
 ],
 "metadata": {
  "kernelspec": {
   "display_name": "Python 3",
   "language": "python",
   "name": "python3"
  },
  "language_info": {
   "codemirror_mode": {
    "name": "ipython",
    "version": 3
   },
   "file_extension": ".py",
   "mimetype": "text/x-python",
   "name": "python",
   "nbconvert_exporter": "python",
   "pygments_lexer": "ipython3",
   "version": "3.4.2"
  }
 },
 "nbformat": 4,
 "nbformat_minor": 2
}
