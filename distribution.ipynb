{
 "cells": [
  {
   "cell_type": "markdown",
   "metadata": {},
   "source": [
    "* Use the [MassMessage API](https://www.mediawiki.org/wiki/Extension:MassMessage/API)\n",
    "* [python-mwapi documentation](http://pythonhosted.org/mwapi/)\n",
    " * [OAuth demo](https://github.com/mediawiki-utilities/python-mwapi/blob/master/demo_mwoauth.py)"
   ]
  },
  {
   "cell_type": "code",
   "execution_count": 138,
   "metadata": {
    "collapsed": false
   },
   "outputs": [],
   "source": [
    "import mwapi\n",
    "import datetime as dt\n",
    "from requests_oauthlib import OAuth1\n",
    "import sensitivedata.oauthconfig as cfg"
   ]
  },
  {
   "cell_type": "code",
   "execution_count": 128,
   "metadata": {
    "collapsed": true
   },
   "outputs": [],
   "source": [
    "USER_AGENT = \"CE Insights survey bot -- https://github.com/wikimedia-research/Community-Engagement-Insights-sampling\"\n",
    "sess = mwapi.Session(\"https://meta.wikimedia.org\", user_agent = USER_AGENT )"
   ]
  },
  {
   "cell_type": "markdown",
   "metadata": {},
   "source": [
    "Use OAuth to authenticate as an [owner-only consumer](https://www.mediawiki.org/wiki/OAuth/Owner-only_consumers)."
   ]
  },
  {
   "cell_type": "code",
   "execution_count": 139,
   "metadata": {
    "collapsed": true
   },
   "outputs": [],
   "source": [
    "auth = OAuth1(\n",
    "    cfg.consumer_token,\n",
    "    cfg.consumer_secret,\n",
    "    cfg.access_token,\n",
    "    cfg.access_secret\n",
    ")"
   ]
  },
  {
   "cell_type": "code",
   "execution_count": 147,
   "metadata": {
    "collapsed": false
   },
   "outputs": [
    {
     "data": {
      "text/plain": [
       "['autopatrol',\n",
       " 'massmessage',\n",
       " 'read',\n",
       " 'edit',\n",
       " 'createpage',\n",
       " 'createtalk',\n",
       " 'writeapi',\n",
       " 'abusefilter-view',\n",
       " 'abusefilter-log',\n",
       " 'abusefilter-log-detail',\n",
       " 'translate',\n",
       " 'move-rootuserpages',\n",
       " 'move-categorypages',\n",
       " 'minoredit',\n",
       " 'purge',\n",
       " 'applychangetags',\n",
       " 'changetags',\n",
       " 'move',\n",
       " 'autoconfirmed',\n",
       " 'editsemiprotected',\n",
       " 'skipcaptcha']"
      ]
     },
     "execution_count": 147,
     "metadata": {},
     "output_type": "execute_result"
    }
   ],
   "source": [
    "sess.get(\n",
    "    action = \"query\",\n",
    "    meta = \"userinfo\",\n",
    "    uiprop = \"rights\",\n",
    "    format = \"json\",\n",
    "    auth = auth\n",
    ")[\"query\"][\"userinfo\"][\"rights\"]"
   ]
  },
  {
   "cell_type": "code",
   "execution_count": 156,
   "metadata": {
    "collapsed": false
   },
   "outputs": [],
   "source": [
    "edit_token = sess.get(action=\"query\", meta=\"tokens\", type=\"csrf\", auth = auth)[\"query\"][\"tokens\"][\"csrftoken\"]"
   ]
  },
  {
   "cell_type": "code",
   "execution_count": 157,
   "metadata": {
    "collapsed": false
   },
   "outputs": [
    {
     "data": {
      "text/plain": [
       "{'massmessage': {'count': 7, 'result': 'success'}}"
      ]
     },
     "execution_count": 157,
     "metadata": {},
     "output_type": "execute_result"
    }
   ],
   "source": [
    "sess.post(\n",
    "    action = \"massmessage\",\n",
    "    spamlist = \"User:Neil P. Quinn-WMF/MassMessage test list\",\n",
    "    subject = \"Testing MassMessage\",\n",
    "    message = \"Did this work properly? ~~~~\",\n",
    "    format = \"json\",\n",
    "    auth = auth,\n",
    "    token = edit_token\n",
    ")"
   ]
  },
  {
   "cell_type": "markdown",
   "metadata": {},
   "source": [
    "* [First message](Community Engagement Insights/MassMessages/First message)"
   ]
  },
  {
   "cell_type": "code",
   "execution_count": 65,
   "metadata": {
    "collapsed": false
   },
   "outputs": [],
   "source": [
    "def massMessageAll():\n",
    "    print_err(\"messaging 1\")\n",
    "    print_err(\"messaging 2\")"
   ]
  },
  {
   "cell_type": "code",
   "execution_count": 66,
   "metadata": {
    "collapsed": false
   },
   "outputs": [
    {
     "name": "stderr",
     "output_type": "stream",
     "text": [
      "messaging 1\n",
      "messaging 2\n"
     ]
    }
   ],
   "source": [
    "massMessageAll()"
   ]
  },
  {
   "cell_type": "code",
   "execution_count": 111,
   "metadata": {
    "collapsed": false
   },
   "outputs": [
    {
     "data": {
      "text/html": [
       "\n",
       "<script type=\"text/Javascript\">\n",
       "var kernel = IPython.notebook.kernel;\n",
       "\n",
       "if (prompt(\"The code below will send talk pages messages to thousands of editors. Type 'run' to unlock it\")) {\n",
       "    kernel.execute(\"allow_run = dt.datetime.now()\")\n",
       "};\n",
       "</script\n"
      ],
      "text/plain": [
       "<IPython.core.display.HTML object>"
      ]
     },
     "execution_count": 111,
     "metadata": {},
     "output_type": "execute_result"
    }
   ],
   "source": [
    "# Run this cell and follow the prompt to unlock sending code for 30 seconds\n",
    "ipyd.HTML(\"\"\"\n",
    "<script type=\"text/Javascript\">\n",
    "var kernel = IPython.notebook.kernel;\n",
    "\n",
    "if (prompt(\"The code below will send talk pages messages to thousands of editors. Type 'run' to unlock it\")) {\n",
    "    kernel.execute(\"allow_run = dt.datetime.now()\")\n",
    "};\n",
    "</script\n",
    "\"\"\")\n"
   ]
  },
  {
   "cell_type": "code",
   "execution_count": 112,
   "metadata": {
    "collapsed": false
   },
   "outputs": [
    {
     "name": "stdout",
     "output_type": "stream",
     "text": [
      "Sending!\n"
     ]
    },
    {
     "name": "stderr",
     "output_type": "stream",
     "text": [
      "1\n",
      "2\n"
     ]
    }
   ],
   "source": [
    "# If the cell above has been run within the past 30 seconds, send the messages\n",
    "if (dt.datetime.now() - allow_run) < datetime.timedelta(seconds = 30):\n",
    "    print(\"Sending!\")\n",
    "    print_err(\"1\")\n",
    "    print_err(\"2\")\n",
    "else:\n",
    "    print_err(\n",
    "        \"This code will send talk page messages to thousands of editors.\", \n",
    "        \"If you're certain you want to do this, run the cell above to unlock it.\",\n",
    "        sep = \"\\n\"\n",
    "    )"
   ]
  }
 ],
 "metadata": {
  "kernelspec": {
   "display_name": "Python 3",
   "language": "python",
   "name": "python3"
  },
  "language_info": {
   "codemirror_mode": {
    "name": "ipython",
    "version": 3
   },
   "file_extension": ".py",
   "mimetype": "text/x-python",
   "name": "python",
   "nbconvert_exporter": "python",
   "pygments_lexer": "ipython3",
   "version": "3.4.2"
  }
 },
 "nbformat": 4,
 "nbformat_minor": 2
}
