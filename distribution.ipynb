{
 "cells": [
  {
   "cell_type": "code",
   "execution_count": 249,
   "metadata": {
    "collapsed": false
   },
   "outputs": [],
   "source": [
    "import mwapi\n",
    "import datetime as dt\n",
    "from requests_oauthlib import OAuth1\n",
    "import secrets.oauth as oauth_cfg\n",
    "import re\n",
    "import time"
   ]
  },
  {
   "cell_type": "markdown",
   "metadata": {},
   "source": [
    "# Configuration"
   ]
  },
  {
   "cell_type": "markdown",
   "metadata": {},
   "source": [
    "For multilingual messages, `MESSAGE` should be the output from \"Assemble multilingual message\" Lua model, \n",
    "as described at [meta:Newsletters/Translation#Regular process](https://meta.wikimedia.org/wiki/Newsletters/Translation#Regular_process).\n",
    "\n",
    "For example:\n",
    "```\n",
    "{{#invoke:\n",
    "Assemble multilingual message|\n",
    "assembleMessage|\n",
    "marker=ce-insights-content|\n",
    "page=Community Engagement Insights/MassMessages/First message|\n",
    "ar|de|es|fr|it|ja|nl|pl|pt|ru|uk|zh\n",
    "}}\n",
    "```"
   ]
  },
  {
   "cell_type": "code",
   "execution_count": 302,
   "metadata": {
    "collapsed": true
   },
   "outputs": [],
   "source": [
    "# A descriptive user agent for our API requests\n",
    "USER_AGENT = (\n",
    "    \"CE Insights survey bot -- \" +\n",
    "    \"https://github.com/wikimedia-research/Community-Engagement-Insights-sampling\"\n",
    ")\n",
    "\n",
    "# A MassMessage list for basic testing. \n",
    "TEST_LIST = \"User:Neil P. Quinn-WMF/MassMessage test list\"\n",
    "\n",
    "# The message text you want to send\n",
    "MESSAGE = open(\"data/raw/first-message.txt\").read()\n",
    "\n",
    "# Number of seconds to wait before sending each individual MassMessage\n",
    "WAITING_PERIOD = 15"
   ]
  },
  {
   "cell_type": "markdown",
   "metadata": {},
   "source": [
    "# Load strata"
   ]
  },
  {
   "cell_type": "code",
   "execution_count": 304,
   "metadata": {
    "collapsed": false
   },
   "outputs": [
    {
     "data": {
      "text/html": [
       "<div>\n",
       "<table border=\"1\" class=\"dataframe\">\n",
       "  <thead>\n",
       "    <tr style=\"text-align: right;\">\n",
       "      <th></th>\n",
       "      <th>proj_group</th>\n",
       "      <th>edit_bin</th>\n",
       "      <th>sample_size</th>\n",
       "      <th>sampled_users</th>\n",
       "      <th>page_title</th>\n",
       "      <th>survey_url</th>\n",
       "      <th>preview_url</th>\n",
       "    </tr>\n",
       "  </thead>\n",
       "  <tbody>\n",
       "    <tr>\n",
       "      <th>0</th>\n",
       "      <td>arwiki</td>\n",
       "      <td>[10, 30)</td>\n",
       "      <td>26</td>\n",
       "      <td>[user(user='Michael M. Markos', proj_domain='a...</td>\n",
       "      <td>Community Engagement Insights/MassMessages/Lis...</td>\n",
       "      <td>https://wikimedia.qualtrics.com/jfe/form/SV_5A...</td>\n",
       "      <td>https://wikimedia.qualtrics.com/jfe/preview/SV...</td>\n",
       "    </tr>\n",
       "    <tr>\n",
       "      <th>1</th>\n",
       "      <td>arwiki</td>\n",
       "      <td>[30, 150)</td>\n",
       "      <td>94</td>\n",
       "      <td>[user(user='المسرحي', proj_domain='ar.wikipedi...</td>\n",
       "      <td>Community Engagement Insights/MassMessages/Lis...</td>\n",
       "      <td>https://wikimedia.qualtrics.com/jfe/form/SV_5A...</td>\n",
       "      <td>https://wikimedia.qualtrics.com/jfe/preview/SV...</td>\n",
       "    </tr>\n",
       "    <tr>\n",
       "      <th>2</th>\n",
       "      <td>arwiki</td>\n",
       "      <td>[150, 600)</td>\n",
       "      <td>96</td>\n",
       "      <td>[user(user='Budur Subaie', proj_domain='ar.wik...</td>\n",
       "      <td>Community Engagement Insights/MassMessages/Lis...</td>\n",
       "      <td>https://wikimedia.qualtrics.com/jfe/form/SV_5A...</td>\n",
       "      <td>https://wikimedia.qualtrics.com/jfe/preview/SV...</td>\n",
       "    </tr>\n",
       "    <tr>\n",
       "      <th>3</th>\n",
       "      <td>arwiki</td>\n",
       "      <td>[600, 1200)</td>\n",
       "      <td>56</td>\n",
       "      <td>[user(user='Ahmed El-Farash', proj_domain='ar....</td>\n",
       "      <td>Community Engagement Insights/MassMessages/Lis...</td>\n",
       "      <td>https://wikimedia.qualtrics.com/jfe/form/SV_5A...</td>\n",
       "      <td>https://wikimedia.qualtrics.com/jfe/preview/SV...</td>\n",
       "    </tr>\n",
       "    <tr>\n",
       "      <th>4</th>\n",
       "      <td>arwiki</td>\n",
       "      <td>[1200, 3500)</td>\n",
       "      <td>68</td>\n",
       "      <td>[user(user='Ibrahim Old', proj_domain='ar.wiki...</td>\n",
       "      <td>Community Engagement Insights/MassMessages/Lis...</td>\n",
       "      <td>https://wikimedia.qualtrics.com/jfe/form/SV_5A...</td>\n",
       "      <td>https://wikimedia.qualtrics.com/jfe/preview/SV...</td>\n",
       "    </tr>\n",
       "  </tbody>\n",
       "</table>\n",
       "</div>"
      ],
      "text/plain": [
       "  proj_group      edit_bin  sample_size  \\\n",
       "0     arwiki      [10, 30)           26   \n",
       "1     arwiki     [30, 150)           94   \n",
       "2     arwiki    [150, 600)           96   \n",
       "3     arwiki   [600, 1200)           56   \n",
       "4     arwiki  [1200, 3500)           68   \n",
       "\n",
       "                                       sampled_users  \\\n",
       "0  [user(user='Michael M. Markos', proj_domain='a...   \n",
       "1  [user(user='المسرحي', proj_domain='ar.wikipedi...   \n",
       "2  [user(user='Budur Subaie', proj_domain='ar.wik...   \n",
       "3  [user(user='Ahmed El-Farash', proj_domain='ar....   \n",
       "4  [user(user='Ibrahim Old', proj_domain='ar.wiki...   \n",
       "\n",
       "                                          page_title  \\\n",
       "0  Community Engagement Insights/MassMessages/Lis...   \n",
       "1  Community Engagement Insights/MassMessages/Lis...   \n",
       "2  Community Engagement Insights/MassMessages/Lis...   \n",
       "3  Community Engagement Insights/MassMessages/Lis...   \n",
       "4  Community Engagement Insights/MassMessages/Lis...   \n",
       "\n",
       "                                          survey_url  \\\n",
       "0  https://wikimedia.qualtrics.com/jfe/form/SV_5A...   \n",
       "1  https://wikimedia.qualtrics.com/jfe/form/SV_5A...   \n",
       "2  https://wikimedia.qualtrics.com/jfe/form/SV_5A...   \n",
       "3  https://wikimedia.qualtrics.com/jfe/form/SV_5A...   \n",
       "4  https://wikimedia.qualtrics.com/jfe/form/SV_5A...   \n",
       "\n",
       "                                         preview_url  \n",
       "0  https://wikimedia.qualtrics.com/jfe/preview/SV...  \n",
       "1  https://wikimedia.qualtrics.com/jfe/preview/SV...  \n",
       "2  https://wikimedia.qualtrics.com/jfe/preview/SV...  \n",
       "3  https://wikimedia.qualtrics.com/jfe/preview/SV...  \n",
       "4  https://wikimedia.qualtrics.com/jfe/preview/SV...  "
      ]
     },
     "execution_count": 304,
     "metadata": {},
     "output_type": "execute_result"
    }
   ],
   "source": [
    "real_strata = pd.read_csv(\"data/interim/sampled-strata.tsv\", sep = \"\\t\")\n",
    "real_strata.head()"
   ]
  },
  {
   "cell_type": "code",
   "execution_count": 240,
   "metadata": {
    "collapsed": false
   },
   "outputs": [
    {
     "data": {
      "text/html": [
       "<div>\n",
       "<table border=\"1\" class=\"dataframe\">\n",
       "  <thead>\n",
       "    <tr style=\"text-align: right;\">\n",
       "      <th></th>\n",
       "      <th>proj_group</th>\n",
       "      <th>edit_bin</th>\n",
       "      <th>sampled_users</th>\n",
       "      <th>survey_url</th>\n",
       "      <th>preview_url</th>\n",
       "      <th>page_title</th>\n",
       "    </tr>\n",
       "  </thead>\n",
       "  <tbody>\n",
       "    <tr>\n",
       "      <th>0</th>\n",
       "      <td>arwiki</td>\n",
       "      <td>[10, 30)</td>\n",
       "      <td>[[\"Neil P. Quinn-WMF\", \"ar.wikipedia.org\"], [\"...</td>\n",
       "      <td>https://wikimedia.qualtrics.com/jfe/form/SV_5A...</td>\n",
       "      <td>https://wikimedia.qualtrics.com/jfe/preview/SV...</td>\n",
       "      <td>User:Neil P. Quinn/2018 CE Insights/ar1</td>\n",
       "    </tr>\n",
       "    <tr>\n",
       "      <th>1</th>\n",
       "      <td>asia_wps</td>\n",
       "      <td>[30, 150)</td>\n",
       "      <td>[[\"Neil P. Quinn-WMF\", \"ko.wikipedia.org\"], [\"...</td>\n",
       "      <td>https://wikimedia.qualtrics.com/jfe/form/SV_5A...</td>\n",
       "      <td>https://wikimedia.qualtrics.com/jfe/preview/SV...</td>\n",
       "      <td>User:Neil P. Quinn/2018 CE Insights/as2</td>\n",
       "    </tr>\n",
       "    <tr>\n",
       "      <th>2</th>\n",
       "      <td>cee_wps</td>\n",
       "      <td>[150, 600)</td>\n",
       "      <td>[[\"Neil P. Quinn-WMF\", \"uk.wikipedia.org\"], [\"...</td>\n",
       "      <td>https://wikimedia.qualtrics.com/jfe/form/SV_5A...</td>\n",
       "      <td>https://wikimedia.qualtrics.com/jfe/preview/SV...</td>\n",
       "      <td>User:Neil P. Quinn/2018 CE Insights/ce3</td>\n",
       "    </tr>\n",
       "    <tr>\n",
       "      <th>3</th>\n",
       "      <td>commons</td>\n",
       "      <td>[600, 1200)</td>\n",
       "      <td>[[\"Neil P. Quinn-WMF\", \"commons.wikimedia.org\"...</td>\n",
       "      <td>https://wikimedia.qualtrics.com/jfe/form/SV_5A...</td>\n",
       "      <td>https://wikimedia.qualtrics.com/jfe/preview/SV...</td>\n",
       "      <td>User:Neil P. Quinn/2018 CE Insights/co4</td>\n",
       "    </tr>\n",
       "    <tr>\n",
       "      <th>4</th>\n",
       "      <td>dewiki</td>\n",
       "      <td>[1200, 3500)</td>\n",
       "      <td>[[\"Neil P. Quinn-WMF\", \"de.wikipedia.org\"], [\"...</td>\n",
       "      <td>https://wikimedia.qualtrics.com/jfe/form/SV_5A...</td>\n",
       "      <td>https://wikimedia.qualtrics.com/jfe/preview/SV...</td>\n",
       "      <td>User:Neil P. Quinn/2018 CE Insights/de5</td>\n",
       "    </tr>\n",
       "  </tbody>\n",
       "</table>\n",
       "</div>"
      ],
      "text/plain": [
       "  proj_group      edit_bin                                      sampled_users  \\\n",
       "0     arwiki      [10, 30)  [[\"Neil P. Quinn-WMF\", \"ar.wikipedia.org\"], [\"...   \n",
       "1   asia_wps     [30, 150)  [[\"Neil P. Quinn-WMF\", \"ko.wikipedia.org\"], [\"...   \n",
       "2    cee_wps    [150, 600)  [[\"Neil P. Quinn-WMF\", \"uk.wikipedia.org\"], [\"...   \n",
       "3    commons   [600, 1200)  [[\"Neil P. Quinn-WMF\", \"commons.wikimedia.org\"...   \n",
       "4     dewiki  [1200, 3500)  [[\"Neil P. Quinn-WMF\", \"de.wikipedia.org\"], [\"...   \n",
       "\n",
       "                                          survey_url  \\\n",
       "0  https://wikimedia.qualtrics.com/jfe/form/SV_5A...   \n",
       "1  https://wikimedia.qualtrics.com/jfe/form/SV_5A...   \n",
       "2  https://wikimedia.qualtrics.com/jfe/form/SV_5A...   \n",
       "3  https://wikimedia.qualtrics.com/jfe/form/SV_5A...   \n",
       "4  https://wikimedia.qualtrics.com/jfe/form/SV_5A...   \n",
       "\n",
       "                                         preview_url  \\\n",
       "0  https://wikimedia.qualtrics.com/jfe/preview/SV...   \n",
       "1  https://wikimedia.qualtrics.com/jfe/preview/SV...   \n",
       "2  https://wikimedia.qualtrics.com/jfe/preview/SV...   \n",
       "3  https://wikimedia.qualtrics.com/jfe/preview/SV...   \n",
       "4  https://wikimedia.qualtrics.com/jfe/preview/SV...   \n",
       "\n",
       "                                page_title  \n",
       "0  User:Neil P. Quinn/2018 CE Insights/ar1  \n",
       "1  User:Neil P. Quinn/2018 CE Insights/as2  \n",
       "2  User:Neil P. Quinn/2018 CE Insights/ce3  \n",
       "3  User:Neil P. Quinn/2018 CE Insights/co4  \n",
       "4  User:Neil P. Quinn/2018 CE Insights/de5  "
      ]
     },
     "execution_count": 240,
     "metadata": {},
     "output_type": "execute_result"
    }
   ],
   "source": [
    "test_strata = pd.read_csv(\"data/interim/test-strata.tsv\", sep = \"\\t\")\n",
    "test_strata.head()"
   ]
  },
  {
   "cell_type": "markdown",
   "metadata": {},
   "source": [
    "# Set up connection"
   ]
  },
  {
   "cell_type": "markdown",
   "metadata": {},
   "source": [
    "Use OAuth to authenticate as an [owner-only consumer](https://www.mediawiki.org/wiki/OAuth/Owner-only_consumers)."
   ]
  },
  {
   "cell_type": "code",
   "execution_count": 254,
   "metadata": {
    "collapsed": false
   },
   "outputs": [],
   "source": [
    "sess = mwapi.Session(\"https://meta.wikimedia.org\", user_agent = USER_AGENT)\n",
    "\n",
    "auth = OAuth1(\n",
    "    oauth_cfg.consumer_token,\n",
    "    oauth_cfg.consumer_secret,\n",
    "    oauth_cfg.access_token,\n",
    "    oauth_cfg.access_secret\n",
    ")\n",
    "\n",
    "def get_token():\n",
    "    resp = sess.get(\n",
    "        action=\"query\", \n",
    "        meta=\"tokens\", \n",
    "        type=\"csrf\", \n",
    "        auth = auth\n",
    "    )\n",
    "    \n",
    "    return resp[\"query\"][\"tokens\"][\"csrftoken\"]\n",
    "\n",
    "def api_get(*args, **kwargs):\n",
    "    return sess.get(\n",
    "        *args,\n",
    "        format = \"json\",\n",
    "        formatversion = 2,\n",
    "        auth = auth,\n",
    "        **kwargs\n",
    "    )\n",
    "    \n",
    "def api_post(*args, **kwargs):\n",
    "    return sess.post(\n",
    "        *args,\n",
    "        format = \"json\",\n",
    "        formatversion = 2,\n",
    "        auth = auth,\n",
    "        token = get_token(),\n",
    "        **kwargs\n",
    "    )"
   ]
  },
  {
   "cell_type": "markdown",
   "metadata": {},
   "source": [
    "# Check API authentication "
   ]
  },
  {
   "cell_type": "code",
   "execution_count": 256,
   "metadata": {
    "collapsed": false
   },
   "outputs": [
    {
     "data": {
      "text/plain": [
       "{'batchcomplete': True,\n",
       " 'query': {'userinfo': {'id': 19115528, 'name': 'WMF Surveys'}}}"
      ]
     },
     "execution_count": 256,
     "metadata": {},
     "output_type": "execute_result"
    }
   ],
   "source": [
    "api_get(\n",
    "    action = \"query\",\n",
    "    meta = \"userinfo\"\n",
    ")"
   ]
  },
  {
   "cell_type": "markdown",
   "metadata": {},
   "source": [
    "# Assemble message"
   ]
  },
  {
   "cell_type": "code",
   "execution_count": 298,
   "metadata": {
    "collapsed": true
   },
   "outputs": [],
   "source": [
    "# Replace links\n",
    "def add_link(msg, link):\n",
    "    return re.sub(\n",
    "        r\"https://www.example.com\",\n",
    "        link,\n",
    "        msg\n",
    "    )"
   ]
  },
  {
   "cell_type": "markdown",
   "metadata": {},
   "source": [
    "# Set up messaging"
   ]
  },
  {
   "cell_type": "code",
   "execution_count": 259,
   "metadata": {
    "collapsed": true
   },
   "outputs": [],
   "source": [
    "def send_message(target_list, subj, msg):\n",
    "    api_post(\n",
    "        action = \"massmessage\",\n",
    "        spamlist = target_list,\n",
    "        subject = subj,\n",
    "        message = msg\n",
    "    )\n",
    "\n",
    "\n",
    "def message_frame(frame):\n",
    "    for row in frame.itertuples():\n",
    "        message_list = row.page_title\n",
    "        survey_url = row.survey_url\n",
    "        preview_url = row.preview_url\n",
    "        \n",
    "        linked_msg = add_link(msg, survey_url)\n",
    "        \n",
    "        print_err(\n",
    "            \"Sending to {message_list} with url {survey_url} in {wait} seconds\".format(\n",
    "                message_list = message_list,\n",
    "                survey_url = survey_url,\n",
    "                wait = WAITING_PERIOD\n",
    "            )\n",
    "        )\n",
    "    \n",
    "        time.sleep(WAITING_PERIOD)\n",
    "        \n",
    "        send_message(message_list, \"Placeholder for multilingual subject\", linked_msg)\n",
    "        \n",
    "        print_err(\"Sent.\")"
   ]
  },
  {
   "cell_type": "markdown",
   "metadata": {},
   "source": [
    "# Test messaging"
   ]
  },
  {
   "cell_type": "markdown",
   "metadata": {},
   "source": [
    "## Basic test"
   ]
  },
  {
   "cell_type": "code",
   "execution_count": 299,
   "metadata": {
    "collapsed": false
   },
   "outputs": [],
   "source": [
    "send_message(\n",
    "    TEST_LIST,\n",
    "    \"Testing MassMessage\",\n",
    "    manual_msg\n",
    ")"
   ]
  },
  {
   "cell_type": "markdown",
   "metadata": {},
   "source": [
    "## Test with full message"
   ]
  },
  {
   "cell_type": "code",
   "execution_count": 260,
   "metadata": {
    "collapsed": false
   },
   "outputs": [
    {
     "name": "stderr",
     "output_type": "stream",
     "text": [
      "Sending to User:Neil P. Quinn/2018 CE Insights/ar1 with url https://wikimedia.qualtrics.com/jfe/form/SV_5ABs6WwrDHzAeLr?aud=AE&prj=ar&edc=1&prjedc=ar1 in 15 seconds\n",
      "Sent.\n",
      "Sending to User:Neil P. Quinn/2018 CE Insights/as2 with url https://wikimedia.qualtrics.com/jfe/form/SV_5ABs6WwrDHzAeLr?aud=AE&prj=as&edc=2&prjedc=as2 in 15 seconds\n",
      "Sent.\n",
      "Sending to User:Neil P. Quinn/2018 CE Insights/ce3 with url https://wikimedia.qualtrics.com/jfe/form/SV_5ABs6WwrDHzAeLr?aud=AE&prj=ce&edc=3&prjedc=ce3 in 15 seconds\n",
      "Sent.\n",
      "Sending to User:Neil P. Quinn/2018 CE Insights/co4 with url https://wikimedia.qualtrics.com/jfe/form/SV_5ABs6WwrDHzAeLr?aud=VAE&prj=co&edc=4&prjedc=co4 in 15 seconds\n",
      "Sent.\n",
      "Sending to User:Neil P. Quinn/2018 CE Insights/de5 with url https://wikimedia.qualtrics.com/jfe/form/SV_5ABs6WwrDHzAeLr?aud=VAE&prj=de&edc=5&prjedc=de5 in 15 seconds\n",
      "Sent.\n",
      "Sending to User:Neil P. Quinn/2018 CE Insights/en6 with url https://wikimedia.qualtrics.com/jfe/form/SV_5ABs6WwrDHzAeLr?aud=VAE&prj=en&edc=6&prjedc=en6 in 15 seconds\n",
      "Sent.\n",
      "Sending to User:Neil P. Quinn/2018 CE Insights/es1 with url https://wikimedia.qualtrics.com/jfe/form/SV_5ABs6WwrDHzAeLr?aud=AE&prj=es&edc=1&prjedc=es1 in 15 seconds\n",
      "Sent.\n",
      "Sending to User:Neil P. Quinn/2018 CE Insights/fr2 with url https://wikimedia.qualtrics.com/jfe/form/SV_5ABs6WwrDHzAeLr?aud=AE&prj=fr&edc=2&prjedc=fr2 in 15 seconds\n",
      "Sent.\n",
      "Sending to User:Neil P. Quinn/2018 CE Insights/it3 with url https://wikimedia.qualtrics.com/jfe/form/SV_5ABs6WwrDHzAeLr?aud=AE&prj=it&edc=3&prjedc=it3 in 15 seconds\n",
      "Sent.\n",
      "Sending to User:Neil P. Quinn/2018 CE Insights/ja4 with url https://wikimedia.qualtrics.com/jfe/form/SV_5ABs6WwrDHzAeLr?aud=VAE&prj=ja&edc=4&prjedc=ja4 in 15 seconds\n",
      "Sent.\n",
      "Sending to User:Neil P. Quinn/2018 CE Insights/me5 with url https://wikimedia.qualtrics.com/jfe/form/SV_5ABs6WwrDHzAeLr?aud=VAE&prj=me&edc=5&prjedc=me5 in 15 seconds\n",
      "Sent.\n",
      "Sending to User:Neil P. Quinn/2018 CE Insights/nl6 with url https://wikimedia.qualtrics.com/jfe/form/SV_5ABs6WwrDHzAeLr?aud=VAE&prj=nl&edc=6&prjedc=nl6 in 15 seconds\n",
      "Sent.\n",
      "Sending to User:Neil P. Quinn/2018 CE Insights/ot1 with url https://wikimedia.qualtrics.com/jfe/form/SV_5ABs6WwrDHzAeLr?aud=AE&prj=ot&edc=1&prjedc=ot1 in 15 seconds\n"
     ]
    },
    {
     "ename": "KeyboardInterrupt",
     "evalue": "",
     "output_type": "error",
     "traceback": [
      "\u001b[0;31m---------------------------------------------------------------------------\u001b[0m",
      "\u001b[0;31mKeyboardInterrupt\u001b[0m                         Traceback (most recent call last)",
      "\u001b[0;32m<ipython-input-260-2e04c359a9a4>\u001b[0m in \u001b[0;36m<module>\u001b[0;34m()\u001b[0m\n\u001b[0;32m----> 1\u001b[0;31m \u001b[0mmessage_frame\u001b[0m\u001b[0;34m(\u001b[0m\u001b[0mtest_strata\u001b[0m\u001b[0;34m)\u001b[0m\u001b[0;34m\u001b[0m\u001b[0m\n\u001b[0m",
      "\u001b[0;32m<ipython-input-259-7d3cee11191c>\u001b[0m in \u001b[0;36mmessage_frame\u001b[0;34m(frame)\u001b[0m\n\u001b[1;32m     24\u001b[0m         )\n\u001b[1;32m     25\u001b[0m \u001b[0;34m\u001b[0m\u001b[0m\n\u001b[0;32m---> 26\u001b[0;31m         \u001b[0mtime\u001b[0m\u001b[0;34m.\u001b[0m\u001b[0msleep\u001b[0m\u001b[0;34m(\u001b[0m\u001b[0mWAITING_PERIOD\u001b[0m\u001b[0;34m)\u001b[0m\u001b[0;34m\u001b[0m\u001b[0m\n\u001b[0m\u001b[1;32m     27\u001b[0m \u001b[0;34m\u001b[0m\u001b[0m\n\u001b[1;32m     28\u001b[0m         \u001b[0msend_message\u001b[0m\u001b[0;34m(\u001b[0m\u001b[0mmessage_list\u001b[0m\u001b[0;34m,\u001b[0m \u001b[0;34m\"Placeholder for multilingual subject\"\u001b[0m\u001b[0;34m,\u001b[0m \u001b[0mlinked_msg\u001b[0m\u001b[0;34m)\u001b[0m\u001b[0;34m\u001b[0m\u001b[0m\n",
      "\u001b[0;31mKeyboardInterrupt\u001b[0m: "
     ]
    }
   ],
   "source": [
    "message_frame(test_strata)"
   ]
  },
  {
   "cell_type": "code",
   "execution_count": null,
   "metadata": {
    "collapsed": true
   },
   "outputs": [],
   "source": []
  },
  {
   "cell_type": "markdown",
   "metadata": {},
   "source": [
    "# ACTUAL SENDING"
   ]
  },
  {
   "cell_type": "code",
   "execution_count": 65,
   "metadata": {
    "collapsed": false
   },
   "outputs": [],
   "source": [
    "def massMessageAll():\n",
    "    print_err(\"messaging 1\")\n",
    "    print_err(\"messaging 2\")"
   ]
  },
  {
   "cell_type": "code",
   "execution_count": 66,
   "metadata": {
    "collapsed": false
   },
   "outputs": [
    {
     "name": "stderr",
     "output_type": "stream",
     "text": [
      "messaging 1\n",
      "messaging 2\n"
     ]
    }
   ],
   "source": [
    "massMessageAll()"
   ]
  },
  {
   "cell_type": "code",
   "execution_count": 275,
   "metadata": {
    "collapsed": false
   },
   "outputs": [
    {
     "data": {
      "text/html": [
       "\n",
       "<script type=\"text/Javascript\">\n",
       "var kernel = IPython.notebook.kernel;\n",
       "\n",
       "if (prompt(\"The code below will send talk pages messages to thousands of editors. Type 'run' to unlock it\")) {\n",
       "    kernel.execute(\"allow_run = dt.datetime.now()\")\n",
       "};\n",
       "</script\n"
      ],
      "text/plain": [
       "<IPython.core.display.HTML object>"
      ]
     },
     "execution_count": 275,
     "metadata": {},
     "output_type": "execute_result"
    }
   ],
   "source": [
    "# Run this cell and follow the prompt to unlock sending code for 30 seconds\n",
    "ipyd.HTML(\"\"\"\n",
    "<script type=\"text/Javascript\">\n",
    "var kernel = IPython.notebook.kernel;\n",
    "\n",
    "if (prompt(\"The code below will send talk pages messages to thousands of editors. Type 'run' to unlock it\")) {\n",
    "    kernel.execute(\"allow_run = dt.datetime.now()\")\n",
    "};\n",
    "</script\n",
    "\"\"\")"
   ]
  },
  {
   "cell_type": "code",
   "execution_count": 276,
   "metadata": {
    "collapsed": false
   },
   "outputs": [
    {
     "name": "stderr",
     "output_type": "stream",
     "text": [
      "Sending!\n"
     ]
    }
   ],
   "source": [
    "# If the cell above has been run within the past 30 seconds, send the messages\n",
    "if (dt.datetime.now() - allow_run) < datetime.timedelta(seconds = 30):\n",
    "    print_err(\"Sending!\")\n",
    "else:\n",
    "    print_err(\n",
    "        \"This code will send talk page messages to thousands of editors.\", \n",
    "        \"If you're certain you want to do this, run the cell above to unlock it.\",\n",
    "        sep = \"\\n\"\n",
    "    )"
   ]
  },
  {
   "cell_type": "code",
   "execution_count": null,
   "metadata": {
    "collapsed": true
   },
   "outputs": [],
   "source": []
  }
 ],
 "metadata": {
  "kernelspec": {
   "display_name": "Python 3",
   "language": "python",
   "name": "python3"
  },
  "language_info": {
   "codemirror_mode": {
    "name": "ipython",
    "version": 3
   },
   "file_extension": ".py",
   "mimetype": "text/x-python",
   "name": "python",
   "nbconvert_exporter": "python",
   "pygments_lexer": "ipython3",
   "version": "3.4.2"
  }
 },
 "nbformat": 4,
 "nbformat_minor": 2
}
