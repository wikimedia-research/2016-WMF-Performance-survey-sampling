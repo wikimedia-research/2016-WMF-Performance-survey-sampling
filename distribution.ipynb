{
 "cells": [
  {
   "cell_type": "markdown",
   "metadata": {},
   "source": [
    "* Have to [log in with the API](https://www.mediawiki.org/wiki/API:Login)\n",
    "* Have to get a [CSRF token](https://www.mediawiki.org/wiki/API:Tokens)\n",
    "* Use the [MassMessage API](https://www.mediawiki.org/wiki/Extension:MassMessage/API)\n",
    "* [python-mwapi documentation](http://pythonhosted.org/mwapi/)\n",
    " * [OAuth demo](https://github.com/mediawiki-utilities/python-mwapi/blob/master/demo_mwoauth.py)"
   ]
  },
  {
   "cell_type": "code",
   "execution_count": 2,
   "metadata": {
    "collapsed": true
   },
   "outputs": [],
   "source": [
    "import mwapi"
   ]
  },
  {
   "cell_type": "code",
   "execution_count": 4,
   "metadata": {
    "collapsed": true
   },
   "outputs": [],
   "source": [
    "USER_AGENT = \"CE Insights survey bot nquinn@wikimedia.org https://github.com/wikimedia-research/Community-Engagement-Insights-sampling\"\n",
    "sess = mwapi.Session(\"https://meta.wikimedia.org\", user_agent = USER_AGENT )"
   ]
  },
  {
   "cell_type": "code",
   "execution_count": 8,
   "metadata": {
    "collapsed": false
   },
   "outputs": [
    {
     "name": "stdout",
     "output_type": "stream",
     "text": [
      "{'batchcomplete': '', 'query': {'statistics': {'admins': 55, 'queued-massmessages': 0, 'images': 2261, 'jobs': 6087, 'users': 18992233, 'pages': 10405805, 'articles': 72174, 'activeusers': 4127, 'edits': 17719818}}}\n"
     ]
    }
   ],
   "source": [
    "sess.get(action='query', meta='siteinfo', siprop=\"statistics\")"
   ]
  },
  {
   "cell_type": "code",
   "execution_count": 15,
   "metadata": {
    "collapsed": false
   },
   "outputs": [],
   "source": [
    "login_token = sess.get(action=\"query\", meta=\"tokens\", type=\"login\")[\"query\"][\"tokens\"][\"logintoken\"]"
   ]
  },
  {
   "cell_type": "code",
   "execution_count": null,
   "metadata": {
    "collapsed": true
   },
   "outputs": [],
   "source": []
  }
 ],
 "metadata": {
  "kernelspec": {
   "display_name": "Python 3",
   "language": "python",
   "name": "python3"
  },
  "language_info": {
   "codemirror_mode": {
    "name": "ipython",
    "version": 3
   },
   "file_extension": ".py",
   "mimetype": "text/x-python",
   "name": "python",
   "nbconvert_exporter": "python",
   "pygments_lexer": "ipython3",
   "version": "3.4.2"
  }
 },
 "nbformat": 4,
 "nbformat_minor": 2
}
