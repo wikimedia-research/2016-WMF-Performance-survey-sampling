{
 "cells": [
  {
   "cell_type": "markdown",
   "metadata": {},
   "source": [
    "* Use the [MassMessage API](https://www.mediawiki.org/wiki/Extension:MassMessage/API)\n",
    "* [python-mwapi documentation](http://pythonhosted.org/mwapi/)\n",
    " * [OAuth demo](https://github.com/mediawiki-utilities/python-mwapi/blob/master/demo_mwoauth.py)"
   ]
  },
  {
   "cell_type": "code",
   "execution_count": 227,
   "metadata": {
    "collapsed": false
   },
   "outputs": [],
   "source": [
    "import mwapi\n",
    "import datetime as dt\n",
    "from requests_oauthlib import OAuth1\n",
    "import secrets.oauth as oauth_cfg\n",
    "import re"
   ]
  },
  {
   "cell_type": "code",
   "execution_count": 228,
   "metadata": {
    "collapsed": false
   },
   "outputs": [
    {
     "data": {
      "text/html": [
       "<div>\n",
       "<table border=\"1\" class=\"dataframe\">\n",
       "  <thead>\n",
       "    <tr style=\"text-align: right;\">\n",
       "      <th></th>\n",
       "      <th>proj_group</th>\n",
       "      <th>edit_bin</th>\n",
       "      <th>sample_size</th>\n",
       "      <th>sampled_users</th>\n",
       "      <th>page_title</th>\n",
       "      <th>survey_url</th>\n",
       "      <th>preview_url</th>\n",
       "    </tr>\n",
       "  </thead>\n",
       "  <tbody>\n",
       "    <tr>\n",
       "      <th>0</th>\n",
       "      <td>arwiki</td>\n",
       "      <td>[10, 30)</td>\n",
       "      <td>26</td>\n",
       "      <td>[user(user='Michael M. Markos', proj_domain='a...</td>\n",
       "      <td>Community Engagement Insights/MassMessages/Lis...</td>\n",
       "      <td>https://wikimedia.qualtrics.com/jfe/form/SV_5A...</td>\n",
       "      <td>https://wikimedia.qualtrics.com/jfe/preview/SV...</td>\n",
       "    </tr>\n",
       "    <tr>\n",
       "      <th>1</th>\n",
       "      <td>arwiki</td>\n",
       "      <td>[30, 150)</td>\n",
       "      <td>94</td>\n",
       "      <td>[user(user='المسرحي', proj_domain='ar.wikipedi...</td>\n",
       "      <td>Community Engagement Insights/MassMessages/Lis...</td>\n",
       "      <td>https://wikimedia.qualtrics.com/jfe/form/SV_5A...</td>\n",
       "      <td>https://wikimedia.qualtrics.com/jfe/preview/SV...</td>\n",
       "    </tr>\n",
       "    <tr>\n",
       "      <th>2</th>\n",
       "      <td>arwiki</td>\n",
       "      <td>[150, 600)</td>\n",
       "      <td>96</td>\n",
       "      <td>[user(user='Budur Subaie', proj_domain='ar.wik...</td>\n",
       "      <td>Community Engagement Insights/MassMessages/Lis...</td>\n",
       "      <td>https://wikimedia.qualtrics.com/jfe/form/SV_5A...</td>\n",
       "      <td>https://wikimedia.qualtrics.com/jfe/preview/SV...</td>\n",
       "    </tr>\n",
       "    <tr>\n",
       "      <th>3</th>\n",
       "      <td>arwiki</td>\n",
       "      <td>[600, 1200)</td>\n",
       "      <td>56</td>\n",
       "      <td>[user(user='Ahmed El-Farash', proj_domain='ar....</td>\n",
       "      <td>Community Engagement Insights/MassMessages/Lis...</td>\n",
       "      <td>https://wikimedia.qualtrics.com/jfe/form/SV_5A...</td>\n",
       "      <td>https://wikimedia.qualtrics.com/jfe/preview/SV...</td>\n",
       "    </tr>\n",
       "    <tr>\n",
       "      <th>4</th>\n",
       "      <td>arwiki</td>\n",
       "      <td>[1200, 3500)</td>\n",
       "      <td>68</td>\n",
       "      <td>[user(user='Ibrahim Old', proj_domain='ar.wiki...</td>\n",
       "      <td>Community Engagement Insights/MassMessages/Lis...</td>\n",
       "      <td>https://wikimedia.qualtrics.com/jfe/form/SV_5A...</td>\n",
       "      <td>https://wikimedia.qualtrics.com/jfe/preview/SV...</td>\n",
       "    </tr>\n",
       "  </tbody>\n",
       "</table>\n",
       "</div>"
      ],
      "text/plain": [
       "  proj_group      edit_bin  sample_size  \\\n",
       "0     arwiki      [10, 30)           26   \n",
       "1     arwiki     [30, 150)           94   \n",
       "2     arwiki    [150, 600)           96   \n",
       "3     arwiki   [600, 1200)           56   \n",
       "4     arwiki  [1200, 3500)           68   \n",
       "\n",
       "                                       sampled_users  \\\n",
       "0  [user(user='Michael M. Markos', proj_domain='a...   \n",
       "1  [user(user='المسرحي', proj_domain='ar.wikipedi...   \n",
       "2  [user(user='Budur Subaie', proj_domain='ar.wik...   \n",
       "3  [user(user='Ahmed El-Farash', proj_domain='ar....   \n",
       "4  [user(user='Ibrahim Old', proj_domain='ar.wiki...   \n",
       "\n",
       "                                          page_title  \\\n",
       "0  Community Engagement Insights/MassMessages/Lis...   \n",
       "1  Community Engagement Insights/MassMessages/Lis...   \n",
       "2  Community Engagement Insights/MassMessages/Lis...   \n",
       "3  Community Engagement Insights/MassMessages/Lis...   \n",
       "4  Community Engagement Insights/MassMessages/Lis...   \n",
       "\n",
       "                                          survey_url  \\\n",
       "0  https://wikimedia.qualtrics.com/jfe/form/SV_5A...   \n",
       "1  https://wikimedia.qualtrics.com/jfe/form/SV_5A...   \n",
       "2  https://wikimedia.qualtrics.com/jfe/form/SV_5A...   \n",
       "3  https://wikimedia.qualtrics.com/jfe/form/SV_5A...   \n",
       "4  https://wikimedia.qualtrics.com/jfe/form/SV_5A...   \n",
       "\n",
       "                                         preview_url  \n",
       "0  https://wikimedia.qualtrics.com/jfe/preview/SV...  \n",
       "1  https://wikimedia.qualtrics.com/jfe/preview/SV...  \n",
       "2  https://wikimedia.qualtrics.com/jfe/preview/SV...  \n",
       "3  https://wikimedia.qualtrics.com/jfe/preview/SV...  \n",
       "4  https://wikimedia.qualtrics.com/jfe/preview/SV...  "
      ]
     },
     "execution_count": 228,
     "metadata": {},
     "output_type": "execute_result"
    }
   ],
   "source": [
    "real_strata = pd.read_csv(\"sampled-strata.tsv\", sep = \"\\t\")\n",
    "real_strata.head()"
   ]
  },
  {
   "cell_type": "code",
   "execution_count": 229,
   "metadata": {
    "collapsed": false
   },
   "outputs": [
    {
     "data": {
      "text/html": [
       "<div>\n",
       "<table border=\"1\" class=\"dataframe\">\n",
       "  <thead>\n",
       "    <tr style=\"text-align: right;\">\n",
       "      <th></th>\n",
       "      <th>proj_group</th>\n",
       "      <th>edit_bin</th>\n",
       "      <th>sample_size</th>\n",
       "      <th>sampled_users</th>\n",
       "      <th>page_title</th>\n",
       "      <th>survey_url</th>\n",
       "      <th>preview_url</th>\n",
       "    </tr>\n",
       "  </thead>\n",
       "  <tbody>\n",
       "    <tr>\n",
       "      <th>51</th>\n",
       "      <td>itwiki</td>\n",
       "      <td>[600, 1200)</td>\n",
       "      <td>55</td>\n",
       "      <td>[user(user='APALERMO90', proj_domain='it.wikip...</td>\n",
       "      <td>Community Engagement Insights/MassMessages/Lis...</td>\n",
       "      <td>https://wikimedia.qualtrics.com/jfe/form/SV_5A...</td>\n",
       "      <td>https://wikimedia.qualtrics.com/jfe/preview/SV...</td>\n",
       "    </tr>\n",
       "    <tr>\n",
       "      <th>92</th>\n",
       "      <td>weur_wps</td>\n",
       "      <td>[150, 600)</td>\n",
       "      <td>434</td>\n",
       "      <td>[user(user='Drefer', proj_domain='fi.wikipedia...</td>\n",
       "      <td>Community Engagement Insights/MassMessages/Lis...</td>\n",
       "      <td>https://wikimedia.qualtrics.com/jfe/form/SV_5A...</td>\n",
       "      <td>https://wikimedia.qualtrics.com/jfe/preview/SV...</td>\n",
       "    </tr>\n",
       "    <tr>\n",
       "      <th>106</th>\n",
       "      <td>zhwiki</td>\n",
       "      <td>[1200, 3500)</td>\n",
       "      <td>215</td>\n",
       "      <td>[user(user='Wanchens', proj_domain='zh.wikiped...</td>\n",
       "      <td>Community Engagement Insights/MassMessages/Lis...</td>\n",
       "      <td>https://wikimedia.qualtrics.com/jfe/form/SV_5A...</td>\n",
       "      <td>https://wikimedia.qualtrics.com/jfe/preview/SV...</td>\n",
       "    </tr>\n",
       "    <tr>\n",
       "      <th>38</th>\n",
       "      <td>eswiki</td>\n",
       "      <td>[150, 600)</td>\n",
       "      <td>131</td>\n",
       "      <td>[user(user='Resgo27', proj_domain='es.wikipedi...</td>\n",
       "      <td>Community Engagement Insights/MassMessages/Lis...</td>\n",
       "      <td>https://wikimedia.qualtrics.com/jfe/form/SV_5A...</td>\n",
       "      <td>https://wikimedia.qualtrics.com/jfe/preview/SV...</td>\n",
       "    </tr>\n",
       "    <tr>\n",
       "      <th>24</th>\n",
       "      <td>dewiki</td>\n",
       "      <td>[10, 30)</td>\n",
       "      <td>42</td>\n",
       "      <td>[user(user='Güsen17', proj_domain='de.wikipedi...</td>\n",
       "      <td>Community Engagement Insights/MassMessages/Lis...</td>\n",
       "      <td>https://wikimedia.qualtrics.com/jfe/form/SV_5A...</td>\n",
       "      <td>https://wikimedia.qualtrics.com/jfe/preview/SV...</td>\n",
       "    </tr>\n",
       "    <tr>\n",
       "      <th>3</th>\n",
       "      <td>arwiki</td>\n",
       "      <td>[600, 1200)</td>\n",
       "      <td>56</td>\n",
       "      <td>[user(user='Ahmed El-Farash', proj_domain='ar....</td>\n",
       "      <td>Community Engagement Insights/MassMessages/Lis...</td>\n",
       "      <td>https://wikimedia.qualtrics.com/jfe/form/SV_5A...</td>\n",
       "      <td>https://wikimedia.qualtrics.com/jfe/preview/SV...</td>\n",
       "    </tr>\n",
       "    <tr>\n",
       "      <th>60</th>\n",
       "      <td>meaf_wps</td>\n",
       "      <td>[10, 30)</td>\n",
       "      <td>27</td>\n",
       "      <td>[user(user='Mahdi.joodi', proj_domain='fa.wiki...</td>\n",
       "      <td>Community Engagement Insights/MassMessages/Lis...</td>\n",
       "      <td>https://wikimedia.qualtrics.com/jfe/form/SV_5A...</td>\n",
       "      <td>https://wikimedia.qualtrics.com/jfe/preview/SV...</td>\n",
       "    </tr>\n",
       "    <tr>\n",
       "      <th>85</th>\n",
       "      <td>ruwiki</td>\n",
       "      <td>[30, 150)</td>\n",
       "      <td>114</td>\n",
       "      <td>[user(user='AlfaDesign', proj_domain='ru.wikip...</td>\n",
       "      <td>Community Engagement Insights/MassMessages/Lis...</td>\n",
       "      <td>https://wikimedia.qualtrics.com/jfe/form/SV_5A...</td>\n",
       "      <td>https://wikimedia.qualtrics.com/jfe/preview/SV...</td>\n",
       "    </tr>\n",
       "    <tr>\n",
       "      <th>72</th>\n",
       "      <td>other</td>\n",
       "      <td>[10, 30)</td>\n",
       "      <td>29</td>\n",
       "      <td>[user(user='Karttapallo1', proj_domain='fi.wik...</td>\n",
       "      <td>Community Engagement Insights/MassMessages/Lis...</td>\n",
       "      <td>https://wikimedia.qualtrics.com/jfe/form/SV_5A...</td>\n",
       "      <td>https://wikimedia.qualtrics.com/jfe/preview/SV...</td>\n",
       "    </tr>\n",
       "    <tr>\n",
       "      <th>65</th>\n",
       "      <td>meaf_wps</td>\n",
       "      <td>[3500, 1100000)</td>\n",
       "      <td>73</td>\n",
       "      <td>[user(user='Behnam mancini', proj_domain='fa.w...</td>\n",
       "      <td>Community Engagement Insights/MassMessages/Lis...</td>\n",
       "      <td>https://wikimedia.qualtrics.com/jfe/form/SV_5A...</td>\n",
       "      <td>https://wikimedia.qualtrics.com/jfe/preview/SV...</td>\n",
       "    </tr>\n",
       "  </tbody>\n",
       "</table>\n",
       "</div>"
      ],
      "text/plain": [
       "    proj_group         edit_bin  sample_size  \\\n",
       "51      itwiki      [600, 1200)           55   \n",
       "92    weur_wps       [150, 600)          434   \n",
       "106     zhwiki     [1200, 3500)          215   \n",
       "38      eswiki       [150, 600)          131   \n",
       "24      dewiki         [10, 30)           42   \n",
       "3       arwiki      [600, 1200)           56   \n",
       "60    meaf_wps         [10, 30)           27   \n",
       "85      ruwiki        [30, 150)          114   \n",
       "72       other         [10, 30)           29   \n",
       "65    meaf_wps  [3500, 1100000)           73   \n",
       "\n",
       "                                         sampled_users  \\\n",
       "51   [user(user='APALERMO90', proj_domain='it.wikip...   \n",
       "92   [user(user='Drefer', proj_domain='fi.wikipedia...   \n",
       "106  [user(user='Wanchens', proj_domain='zh.wikiped...   \n",
       "38   [user(user='Resgo27', proj_domain='es.wikipedi...   \n",
       "24   [user(user='Güsen17', proj_domain='de.wikipedi...   \n",
       "3    [user(user='Ahmed El-Farash', proj_domain='ar....   \n",
       "60   [user(user='Mahdi.joodi', proj_domain='fa.wiki...   \n",
       "85   [user(user='AlfaDesign', proj_domain='ru.wikip...   \n",
       "72   [user(user='Karttapallo1', proj_domain='fi.wik...   \n",
       "65   [user(user='Behnam mancini', proj_domain='fa.w...   \n",
       "\n",
       "                                            page_title  \\\n",
       "51   Community Engagement Insights/MassMessages/Lis...   \n",
       "92   Community Engagement Insights/MassMessages/Lis...   \n",
       "106  Community Engagement Insights/MassMessages/Lis...   \n",
       "38   Community Engagement Insights/MassMessages/Lis...   \n",
       "24   Community Engagement Insights/MassMessages/Lis...   \n",
       "3    Community Engagement Insights/MassMessages/Lis...   \n",
       "60   Community Engagement Insights/MassMessages/Lis...   \n",
       "85   Community Engagement Insights/MassMessages/Lis...   \n",
       "72   Community Engagement Insights/MassMessages/Lis...   \n",
       "65   Community Engagement Insights/MassMessages/Lis...   \n",
       "\n",
       "                                            survey_url  \\\n",
       "51   https://wikimedia.qualtrics.com/jfe/form/SV_5A...   \n",
       "92   https://wikimedia.qualtrics.com/jfe/form/SV_5A...   \n",
       "106  https://wikimedia.qualtrics.com/jfe/form/SV_5A...   \n",
       "38   https://wikimedia.qualtrics.com/jfe/form/SV_5A...   \n",
       "24   https://wikimedia.qualtrics.com/jfe/form/SV_5A...   \n",
       "3    https://wikimedia.qualtrics.com/jfe/form/SV_5A...   \n",
       "60   https://wikimedia.qualtrics.com/jfe/form/SV_5A...   \n",
       "85   https://wikimedia.qualtrics.com/jfe/form/SV_5A...   \n",
       "72   https://wikimedia.qualtrics.com/jfe/form/SV_5A...   \n",
       "65   https://wikimedia.qualtrics.com/jfe/form/SV_5A...   \n",
       "\n",
       "                                           preview_url  \n",
       "51   https://wikimedia.qualtrics.com/jfe/preview/SV...  \n",
       "92   https://wikimedia.qualtrics.com/jfe/preview/SV...  \n",
       "106  https://wikimedia.qualtrics.com/jfe/preview/SV...  \n",
       "38   https://wikimedia.qualtrics.com/jfe/preview/SV...  \n",
       "24   https://wikimedia.qualtrics.com/jfe/preview/SV...  \n",
       "3    https://wikimedia.qualtrics.com/jfe/preview/SV...  \n",
       "60   https://wikimedia.qualtrics.com/jfe/preview/SV...  \n",
       "85   https://wikimedia.qualtrics.com/jfe/preview/SV...  \n",
       "72   https://wikimedia.qualtrics.com/jfe/preview/SV...  \n",
       "65   https://wikimedia.qualtrics.com/jfe/preview/SV...  "
      ]
     },
     "execution_count": 229,
     "metadata": {},
     "output_type": "execute_result"
    }
   ],
   "source": [
    "real_strata.sample(n = 10)"
   ]
  },
  {
   "cell_type": "markdown",
   "metadata": {},
   "source": [
    "# Configuration"
   ]
  },
  {
   "cell_type": "code",
   "execution_count": 193,
   "metadata": {
    "collapsed": true
   },
   "outputs": [],
   "source": [
    "# A descriptive user agent for our API requests\n",
    "USER_AGENT = (\n",
    "    \"CE Insights survey bot -- \" +\n",
    "    \"https://github.com/wikimedia-research/Community-Engagement-Insights-sampling\"\n",
    ")\n",
    "\n",
    "# A MassMessage list for testing. \n",
    "TEST_LIST = \"User:Neil P. Quinn-WMF/MassMessage test list\""
   ]
  },
  {
   "cell_type": "markdown",
   "metadata": {},
   "source": [
    "Message assembly code:\n",
    "```\n",
    "{{#invoke:\n",
    "Assemble multilingual message|\n",
    "assembleMessage|\n",
    "marker=ce-insights-content|\n",
    "page=Community Engagement Insights/MassMessages/First message|\n",
    "ar|de|es|fr|it|ja|nl|pl|pt|ru|uk|zh\n",
    "}}\n",
    "```"
   ]
  },
  {
   "cell_type": "code",
   "execution_count": 194,
   "metadata": {
    "collapsed": false
   },
   "outputs": [],
   "source": [
    "# The page with the message content you actually want to send,\n",
    "# assembled as described at https://meta.wikimedia.org/wiki/Newsletters/Translation#Regular_process\n",
    "MESSAGE_PAGE = \"User:Neil P. Quinn-WMF/2018 survey invitation\""
   ]
  },
  {
   "cell_type": "markdown",
   "metadata": {},
   "source": [
    "# Set up connection"
   ]
  },
  {
   "cell_type": "markdown",
   "metadata": {},
   "source": [
    "Use OAuth to authenticate as an [owner-only consumer](https://www.mediawiki.org/wiki/OAuth/Owner-only_consumers)."
   ]
  },
  {
   "cell_type": "code",
   "execution_count": 191,
   "metadata": {
    "collapsed": true
   },
   "outputs": [],
   "source": [
    "sess = mwapi.Session(\"https://meta.wikimedia.org\", user_agent = USER_AGENT )"
   ]
  },
  {
   "cell_type": "code",
   "execution_count": 192,
   "metadata": {
    "collapsed": true
   },
   "outputs": [],
   "source": [
    "auth = OAuth1(\n",
    "    oauth_cfg.consumer_token,\n",
    "    oauth_cfg.consumer_secret,\n",
    "    oauth_cfg.access_token,\n",
    "    oauth_cfg.access_secret\n",
    ")"
   ]
  },
  {
   "cell_type": "code",
   "execution_count": 195,
   "metadata": {
    "collapsed": false
   },
   "outputs": [],
   "source": [
    "def get_token():\n",
    "    resp = sess.get(\n",
    "        action=\"query\", \n",
    "        meta=\"tokens\", \n",
    "        type=\"csrf\", \n",
    "        auth = auth\n",
    "    )\n",
    "    \n",
    "    return resp[\"query\"][\"tokens\"][\"csrftoken\"]"
   ]
  },
  {
   "cell_type": "code",
   "execution_count": 218,
   "metadata": {
    "collapsed": false
   },
   "outputs": [],
   "source": [
    "def api_get(*args, **kwargs):\n",
    "    return sess.get(\n",
    "        *args,\n",
    "        format = \"json\",\n",
    "        formatversion = 2,\n",
    "        auth = auth,\n",
    "        **kwargs\n",
    "    )\n",
    "    \n",
    "def api_post(*args, **kwargs):\n",
    "    return sess.post(\n",
    "        *args,\n",
    "        format = \"json\",\n",
    "        formatversion = 2,\n",
    "        auth = auth,\n",
    "        token = get_token(),\n",
    "        **kwargs\n",
    "    )"
   ]
  },
  {
   "cell_type": "markdown",
   "metadata": {},
   "source": [
    "# Check API authentication "
   ]
  },
  {
   "cell_type": "code",
   "execution_count": 219,
   "metadata": {
    "collapsed": false
   },
   "outputs": [
    {
     "data": {
      "text/plain": [
       "{'batchcomplete': True,\n",
       " 'query': {'userinfo': {'id': 19115528, 'name': 'WMF Surveys'}}}"
      ]
     },
     "execution_count": 219,
     "metadata": {},
     "output_type": "execute_result"
    }
   ],
   "source": [
    "api_get(\n",
    "    action = \"query\",\n",
    "    meta = \"userinfo\"\n",
    ")"
   ]
  },
  {
   "cell_type": "markdown",
   "metadata": {},
   "source": [
    "# Assemble message"
   ]
  },
  {
   "cell_type": "code",
   "execution_count": 222,
   "metadata": {
    "collapsed": false
   },
   "outputs": [],
   "source": [
    "msg = api_get(\n",
    "    action = \"parse\",\n",
    "    page = MESSAGE_PAGE\n",
    ")[\"parse\"][\"text\"]"
   ]
  },
  {
   "cell_type": "code",
   "execution_count": 224,
   "metadata": {
    "collapsed": true
   },
   "outputs": [],
   "source": [
    "# Replace links\n",
    "def add_link(msg, link):\n",
    "    return re.sub(\n",
    "        r\"https://www.example.com\",\n",
    "        link,\n",
    "        msg\n",
    "    )"
   ]
  },
  {
   "cell_type": "markdown",
   "metadata": {},
   "source": [
    "# Set up messaging"
   ]
  },
  {
   "cell_type": "code",
   "execution_count": 238,
   "metadata": {
    "collapsed": true
   },
   "outputs": [],
   "source": [
    "def send_message(target_list, subj, msg):\n",
    "    api_post(\n",
    "        action = \"massmessage\",\n",
    "        spamlist = target_list,\n",
    "        subject = subj,\n",
    "        message = msg\n",
    "    )\n",
    "\n",
    "\n",
    "def message_frame(frame):\n",
    "    for row in frame.itertuples():\n",
    "        message_list = row.page_title\n",
    "        survey_url = row.survey_url\n",
    "        preview_url = row.preview_url\n",
    "        \n",
    "        linked_msg = add_link(msg, survey_url)\n",
    "        \n",
    "        print(message_list)\n",
    "        print(linked_msg)"
   ]
  },
  {
   "cell_type": "markdown",
   "metadata": {},
   "source": [
    "# Test messaging"
   ]
  },
  {
   "cell_type": "markdown",
   "metadata": {},
   "source": [
    "## Basic test"
   ]
  },
  {
   "cell_type": "code",
   "execution_count": null,
   "metadata": {
    "collapsed": false
   },
   "outputs": [],
   "source": [
    "send_message(\n",
    "    TEST_LIST,\n",
    "    \"Testing MassMessage\",\n",
    "    \"Did this work properly? ~~~~\"\n",
    ")"
   ]
  },
  {
   "cell_type": "markdown",
   "metadata": {},
   "source": [
    "## Test with full message"
   ]
  },
  {
   "cell_type": "code",
   "execution_count": null,
   "metadata": {
    "collapsed": true
   },
   "outputs": [],
   "source": []
  },
  {
   "cell_type": "code",
   "execution_count": null,
   "metadata": {
    "collapsed": true
   },
   "outputs": [],
   "source": []
  },
  {
   "cell_type": "code",
   "execution_count": 65,
   "metadata": {
    "collapsed": false
   },
   "outputs": [],
   "source": [
    "def massMessageAll():\n",
    "    print_err(\"messaging 1\")\n",
    "    print_err(\"messaging 2\")"
   ]
  },
  {
   "cell_type": "code",
   "execution_count": 66,
   "metadata": {
    "collapsed": false
   },
   "outputs": [
    {
     "name": "stderr",
     "output_type": "stream",
     "text": [
      "messaging 1\n",
      "messaging 2\n"
     ]
    }
   ],
   "source": [
    "massMessageAll()"
   ]
  },
  {
   "cell_type": "code",
   "execution_count": 197,
   "metadata": {
    "collapsed": false
   },
   "outputs": [
    {
     "data": {
      "text/html": [
       "\n",
       "<script type=\"text/Javascript\">\n",
       "var kernel = IPython.notebook.kernel;\n",
       "\n",
       "if (prompt(\"The code below will send talk pages messages to thousands of editors. Type 'run' to unlock it\")) {\n",
       "    kernel.execute(\"allow_run = dt.datetime.now()\")\n",
       "};\n",
       "</script\n"
      ],
      "text/plain": [
       "<IPython.core.display.HTML object>"
      ]
     },
     "execution_count": 197,
     "metadata": {},
     "output_type": "execute_result"
    }
   ],
   "source": [
    "# Run this cell and follow the prompt to unlock sending code for 30 seconds\n",
    "ipyd.HTML(\"\"\"\n",
    "<script type=\"text/Javascript\">\n",
    "var kernel = IPython.notebook.kernel;\n",
    "\n",
    "if (prompt(\"The code below will send talk pages messages to thousands of editors. Type 'run' to unlock it\")) {\n",
    "    kernel.execute(\"allow_run = dt.datetime.now()\")\n",
    "};\n",
    "</script\n",
    "\"\"\")"
   ]
  },
  {
   "cell_type": "code",
   "execution_count": 198,
   "metadata": {
    "collapsed": false
   },
   "outputs": [
    {
     "name": "stdout",
     "output_type": "stream",
     "text": [
      "Sending!\n"
     ]
    },
    {
     "name": "stderr",
     "output_type": "stream",
     "text": [
      "1\n",
      "2\n"
     ]
    }
   ],
   "source": [
    "# If the cell above has been run within the past 30 seconds, send the messages\n",
    "if (dt.datetime.now() - allow_run) < datetime.timedelta(seconds = 30):\n",
    "    print(\"Sending!\")\n",
    "    print_err(\"1\")\n",
    "    print_err(\"2\")\n",
    "else:\n",
    "    print_err(\n",
    "        \"This code will send talk page messages to thousands of editors.\", \n",
    "        \"If you're certain you want to do this, run the cell above to unlock it.\",\n",
    "        sep = \"\\n\"\n",
    "    )"
   ]
  },
  {
   "cell_type": "code",
   "execution_count": null,
   "metadata": {
    "collapsed": true
   },
   "outputs": [],
   "source": []
  }
 ],
 "metadata": {
  "kernelspec": {
   "display_name": "Python 3",
   "language": "python",
   "name": "python3"
  },
  "language_info": {
   "codemirror_mode": {
    "name": "ipython",
    "version": 3
   },
   "file_extension": ".py",
   "mimetype": "text/x-python",
   "name": "python",
   "nbconvert_exporter": "python",
   "pygments_lexer": "ipython3",
   "version": "3.4.2"
  }
 },
 "nbformat": 4,
 "nbformat_minor": 2
}
