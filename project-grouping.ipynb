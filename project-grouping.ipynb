{
 "cells": [
  {
   "cell_type": "code",
   "execution_count": 2,
   "metadata": {},
   "outputs": [],
   "source": [
    "import wmfdata as wmf\n",
    "import pandas as pd"
   ]
  },
  {
   "cell_type": "markdown",
   "metadata": {},
   "source": [
    "# Load existing list of grouped projects"
   ]
  },
  {
   "cell_type": "markdown",
   "metadata": {},
   "source": [
    "This file is the canonical source for which project keys belong to which groups (any keys not found in the file belong to the \"other\" group). That information needs to be preserved.\n",
    "\n",
    "On the other hand, the human-readable project names are just for the convenience of anyone reading the file, so they don't need to be preserved and will just get in the way."
   ]
  },
  {
   "cell_type": "code",
   "execution_count": 39,
   "metadata": {},
   "outputs": [
    {
     "data": {
      "text/html": [
       "<div>\n",
       "<style scoped>\n",
       "    .dataframe tbody tr th:only-of-type {\n",
       "        vertical-align: middle;\n",
       "    }\n",
       "\n",
       "    .dataframe tbody tr th {\n",
       "        vertical-align: top;\n",
       "    }\n",
       "\n",
       "    .dataframe thead th {\n",
       "        text-align: right;\n",
       "    }\n",
       "</style>\n",
       "<table border=\"1\" class=\"dataframe\">\n",
       "  <thead>\n",
       "    <tr style=\"text-align: right;\">\n",
       "      <th></th>\n",
       "      <th>project_group</th>\n",
       "    </tr>\n",
       "    <tr>\n",
       "      <th>project_key</th>\n",
       "      <th></th>\n",
       "    </tr>\n",
       "  </thead>\n",
       "  <tbody>\n",
       "    <tr>\n",
       "      <th>aawiki</th>\n",
       "      <td>meaf_wps</td>\n",
       "    </tr>\n",
       "    <tr>\n",
       "      <th>abwiki</th>\n",
       "      <td>meaf_wps</td>\n",
       "    </tr>\n",
       "    <tr>\n",
       "      <th>acewiki</th>\n",
       "      <td>asia_wps</td>\n",
       "    </tr>\n",
       "    <tr>\n",
       "      <th>adywiki</th>\n",
       "      <td>cee_wps</td>\n",
       "    </tr>\n",
       "    <tr>\n",
       "      <th>afwiki</th>\n",
       "      <td>meaf_wps</td>\n",
       "    </tr>\n",
       "  </tbody>\n",
       "</table>\n",
       "</div>"
      ],
      "text/plain": [
       "            project_group\n",
       "project_key              \n",
       "aawiki           meaf_wps\n",
       "abwiki           meaf_wps\n",
       "acewiki          asia_wps\n",
       "adywiki           cee_wps\n",
       "afwiki           meaf_wps"
      ]
     },
     "execution_count": 39,
     "metadata": {},
     "output_type": "execute_result"
    }
   ],
   "source": [
    "grouped_projects = (\n",
    "  pd.read_table(\"definitions/project-group-assignments.tsv\")\n",
    "  .set_index(\"project_key\")\n",
    "  .drop(\"project_name\", axis=1)\n",
    ")\n",
    "\n",
    "grouped_projects.head()"
   ]
  },
  {
   "cell_type": "markdown",
   "metadata": {},
   "source": [
    "# Update list"
   ]
  },
  {
   "cell_type": "markdown",
   "metadata": {},
   "source": [
    "Let's pull an up-to-date list of all open content projects so we can update our existing list with new projects, closed projects, and updated names."
   ]
  },
  {
   "cell_type": "code",
   "execution_count": 108,
   "metadata": {},
   "outputs": [
    {
     "data": {
      "text/html": [
       "<div>\n",
       "<style scoped>\n",
       "    .dataframe tbody tr th:only-of-type {\n",
       "        vertical-align: middle;\n",
       "    }\n",
       "\n",
       "    .dataframe tbody tr th {\n",
       "        vertical-align: top;\n",
       "    }\n",
       "\n",
       "    .dataframe thead th {\n",
       "        text-align: right;\n",
       "    }\n",
       "</style>\n",
       "<table border=\"1\" class=\"dataframe\">\n",
       "  <thead>\n",
       "    <tr style=\"text-align: right;\">\n",
       "      <th></th>\n",
       "      <th>project_name</th>\n",
       "    </tr>\n",
       "    <tr>\n",
       "      <th>project_key</th>\n",
       "      <th></th>\n",
       "    </tr>\n",
       "  </thead>\n",
       "  <tbody>\n",
       "    <tr>\n",
       "      <th>abwiki</th>\n",
       "      <td>Abkhazian Wikipedia</td>\n",
       "    </tr>\n",
       "    <tr>\n",
       "      <th>acewiki</th>\n",
       "      <td>Achinese Wikipedia</td>\n",
       "    </tr>\n",
       "    <tr>\n",
       "      <th>adywiki</th>\n",
       "      <td>Adyghe Wikipedia</td>\n",
       "    </tr>\n",
       "    <tr>\n",
       "      <th>afwiki</th>\n",
       "      <td>Afrikaans Wikipedia</td>\n",
       "    </tr>\n",
       "    <tr>\n",
       "      <th>afwikibooks</th>\n",
       "      <td>Afrikaans Wikibooks</td>\n",
       "    </tr>\n",
       "  </tbody>\n",
       "</table>\n",
       "</div>"
      ],
      "text/plain": [
       "                    project_name\n",
       "project_key                     \n",
       "abwiki       Abkhazian Wikipedia\n",
       "acewiki       Achinese Wikipedia\n",
       "adywiki         Adyghe Wikipedia\n",
       "afwiki       Afrikaans Wikipedia\n",
       "afwikibooks  Afrikaans Wikibooks"
      ]
     },
     "execution_count": 108,
     "metadata": {},
     "output_type": "execute_result"
    }
   ],
   "source": [
    "# It's likely necessary to update the `canonical_data.wikis` table first.\n",
    "# See github.com/wikimedia-research/canonical-data/ for more info.\n",
    "\n",
    "all_projects = wmf.spark.run(\"\"\"\n",
    "  SELECT\n",
    "    database_code as project_key,\n",
    "    english_name as project_name\n",
    "  FROM\n",
    "    canonical_data.wikis\n",
    "  WHERE\n",
    "    database_group in (\n",
    "      \"commons\", \"incubator\", \"foundation\", \"mediawiki\", \"meta\", \"sources\",\n",
    "      \"species\",\"wikibooks\", \"wikidata\", \"wikinews\", \"wikipedia\", \"wikiquote\",\n",
    "      \"wikisource\", \"wikiversity\", \"wikivoyage\", \"wiktionary\"\n",
    "    ) AND\n",
    "    status = \"open\" AND\n",
    "    visibility = \"public\" AND\n",
    "    editability = \"public\"\n",
    "\"\"\").set_index(\"project_key\")\n",
    "\n",
    "all_projects.head()"
   ]
  },
  {
   "cell_type": "code",
   "execution_count": 64,
   "metadata": {},
   "outputs": [
    {
     "data": {
      "text/html": [
       "<div>\n",
       "<style scoped>\n",
       "    .dataframe tbody tr th:only-of-type {\n",
       "        vertical-align: middle;\n",
       "    }\n",
       "\n",
       "    .dataframe tbody tr th {\n",
       "        vertical-align: top;\n",
       "    }\n",
       "\n",
       "    .dataframe thead th {\n",
       "        text-align: right;\n",
       "    }\n",
       "</style>\n",
       "<table border=\"1\" class=\"dataframe\">\n",
       "  <thead>\n",
       "    <tr style=\"text-align: right;\">\n",
       "      <th></th>\n",
       "      <th>project_name</th>\n",
       "      <th>project_group</th>\n",
       "    </tr>\n",
       "    <tr>\n",
       "      <th>project_key</th>\n",
       "      <th></th>\n",
       "      <th></th>\n",
       "    </tr>\n",
       "  </thead>\n",
       "  <tbody>\n",
       "    <tr>\n",
       "      <th>abwiki</th>\n",
       "      <td>Abkhazian Wikipedia</td>\n",
       "      <td>meaf_wps</td>\n",
       "    </tr>\n",
       "    <tr>\n",
       "      <th>acewiki</th>\n",
       "      <td>Achinese Wikipedia</td>\n",
       "      <td>asia_wps</td>\n",
       "    </tr>\n",
       "    <tr>\n",
       "      <th>adywiki</th>\n",
       "      <td>Adyghe Wikipedia</td>\n",
       "      <td>cee_wps</td>\n",
       "    </tr>\n",
       "    <tr>\n",
       "      <th>afwiki</th>\n",
       "      <td>Afrikaans Wikipedia</td>\n",
       "      <td>meaf_wps</td>\n",
       "    </tr>\n",
       "    <tr>\n",
       "      <th>afwikibooks</th>\n",
       "      <td>Afrikaans Wikibooks</td>\n",
       "      <td>NaN</td>\n",
       "    </tr>\n",
       "  </tbody>\n",
       "</table>\n",
       "</div>"
      ],
      "text/plain": [
       "                    project_name project_group\n",
       "project_key                                   \n",
       "abwiki       Abkhazian Wikipedia      meaf_wps\n",
       "acewiki       Achinese Wikipedia      asia_wps\n",
       "adywiki         Adyghe Wikipedia       cee_wps\n",
       "afwiki       Afrikaans Wikipedia      meaf_wps\n",
       "afwikibooks  Afrikaans Wikibooks           NaN"
      ]
     },
     "execution_count": 64,
     "metadata": {},
     "output_type": "execute_result"
    }
   ],
   "source": [
    "projects = pd.merge(\n",
    "  all_projects, \n",
    "  grouped_projects,\n",
    "  on=\"project_key\",\n",
    "  # This ensures that keys present only in the old list, which \n",
    "  # represent closed or deleted projects, are dropped.\n",
    "  how=\"left\"\n",
    ")\n",
    "\n",
    "projects.head()"
   ]
  },
  {
   "cell_type": "markdown",
   "metadata": {},
   "source": [
    "Most Wikipedias should be placed in one of the regional groupings, so let's see if there are new ones that should be grouped."
   ]
  },
  {
   "cell_type": "code",
   "execution_count": 74,
   "metadata": {},
   "outputs": [
    {
     "data": {
      "text/html": [
       "<div>\n",
       "<style scoped>\n",
       "    .dataframe tbody tr th:only-of-type {\n",
       "        vertical-align: middle;\n",
       "    }\n",
       "\n",
       "    .dataframe tbody tr th {\n",
       "        vertical-align: top;\n",
       "    }\n",
       "\n",
       "    .dataframe thead th {\n",
       "        text-align: right;\n",
       "    }\n",
       "</style>\n",
       "<table border=\"1\" class=\"dataframe\">\n",
       "  <thead>\n",
       "    <tr style=\"text-align: right;\">\n",
       "      <th></th>\n",
       "      <th>project_name</th>\n",
       "      <th>project_group</th>\n",
       "    </tr>\n",
       "    <tr>\n",
       "      <th>project_key</th>\n",
       "      <th></th>\n",
       "      <th></th>\n",
       "    </tr>\n",
       "  </thead>\n",
       "  <tbody>\n",
       "    <tr>\n",
       "      <th>arywiki</th>\n",
       "      <td>Moroccan Arabic Wikipedia</td>\n",
       "      <td>NaN</td>\n",
       "    </tr>\n",
       "    <tr>\n",
       "      <th>avkwiki</th>\n",
       "      <td>Kotava Wikipedia</td>\n",
       "      <td>NaN</td>\n",
       "    </tr>\n",
       "    <tr>\n",
       "      <th>awawiki</th>\n",
       "      <td>Awadhi Wikipedia</td>\n",
       "      <td>NaN</td>\n",
       "    </tr>\n",
       "    <tr>\n",
       "      <th>banwiki</th>\n",
       "      <td>Balinese Wikipedia</td>\n",
       "      <td>NaN</td>\n",
       "    </tr>\n",
       "    <tr>\n",
       "      <th>gcrwiki</th>\n",
       "      <td>Guianan Creole Wikipedia</td>\n",
       "      <td>NaN</td>\n",
       "    </tr>\n",
       "    <tr>\n",
       "      <th>lldwiki</th>\n",
       "      <td>Ladin Wikipedia</td>\n",
       "      <td>NaN</td>\n",
       "    </tr>\n",
       "    <tr>\n",
       "      <th>mnwwiki</th>\n",
       "      <td>Mon Wikipedia</td>\n",
       "      <td>NaN</td>\n",
       "    </tr>\n",
       "    <tr>\n",
       "      <th>szywiki</th>\n",
       "      <td>Sakizaya Wikipedia</td>\n",
       "      <td>NaN</td>\n",
       "    </tr>\n",
       "  </tbody>\n",
       "</table>\n",
       "</div>"
      ],
      "text/plain": [
       "                          project_name project_group\n",
       "project_key                                         \n",
       "arywiki      Moroccan Arabic Wikipedia           NaN\n",
       "avkwiki               Kotava Wikipedia           NaN\n",
       "awawiki               Awadhi Wikipedia           NaN\n",
       "banwiki             Balinese Wikipedia           NaN\n",
       "gcrwiki       Guianan Creole Wikipedia           NaN\n",
       "lldwiki                Ladin Wikipedia           NaN\n",
       "mnwwiki                  Mon Wikipedia           NaN\n",
       "szywiki             Sakizaya Wikipedia           NaN"
      ]
     },
     "execution_count": 74,
     "metadata": {},
     "output_type": "execute_result"
    }
   ],
   "source": [
    "projects.query(\"project_name.str.contains('ikipedia') & project_group.isna()\")"
   ]
  },
  {
   "cell_type": "markdown",
   "metadata": {},
   "source": [
    "Let's add the groups for these, explicitly marking them as \"other\" if necessary so they don't show up as new next time."
   ]
  },
  {
   "cell_type": "code",
   "execution_count": 78,
   "metadata": {},
   "outputs": [],
   "source": [
    "new_wiki_groups = pd.DataFrame([\n",
    "  [\"arywiki\", \"meaf_wps\"],\n",
    "  [\"avkwiki\", \"other\"],\n",
    "  [\"awawiki\", \"sasia_wps\"],\n",
    "  [\"banwiki\", \"asia_wps\"],\n",
    "  [\"gcrwiki\", \"other\"],\n",
    "  [\"lldwiki\", \"weur_wps\"],\n",
    "  [\"mnwwiki\", \"asia_wps\"],\n",
    "  [\"szywiki\", \"asia_wps\"]\n",
    "], columns=[\"project_key\", \"project_group\"]).set_index(\"project_key\")"
   ]
  },
  {
   "cell_type": "code",
   "execution_count": 79,
   "metadata": {},
   "outputs": [],
   "source": [
    "projects.update(new_wiki_groups)"
   ]
  },
  {
   "cell_type": "markdown",
   "metadata": {},
   "source": [
    "This year, there are also some requested group changes."
   ]
  },
  {
   "cell_type": "code",
   "execution_count": 87,
   "metadata": {},
   "outputs": [],
   "source": [
    "changed_groups = pd.DataFrame([\n",
    "  [\"aswiki\", \"sasia_wps\"],\n",
    "  [\"bhwiki\", \"sasia_wps\"],\n",
    "  [\"bnwiki\", \"sasia_wps\"],\n",
    "  [\"dtywiki\", \"sasia_wps\"],\n",
    "  [\"knwiki\", \"sasia_wps\"],\n",
    "  [\"mrwiki\", \"sasia_wps\"],\n",
    "  [\"newiki\", \"sasia_wps\"],\n",
    "  [\"orwiki\", \"sasia_wps\"],\n",
    "  [\"pswiki\", \"sasia_wps\"],\n",
    "  [\"satwiki\", \"sasia_wps\"],\n",
    "  [\"sawiki\", \"sasia_wps\"],\n",
    "  [\"sdwiki\", \"sasia_wps\"],\n",
    "  [\"siwiki\", \"sasia_wps\"],\n",
    "  [\"tcywiki\", \"sasia_wps\"],\n",
    "  [\"tewiki\", \"sasia_wps\"],\n",
    "  [\"metawiki\", \"metawiki\"]\n",
    "], columns=[\"project_key\", \"project_group\"]).set_index(\"project_key\")"
   ]
  },
  {
   "cell_type": "code",
   "execution_count": 88,
   "metadata": {},
   "outputs": [],
   "source": [
    "projects.update(changed_groups)"
   ]
  },
  {
   "cell_type": "markdown",
   "metadata": {},
   "source": [
    "# Save the updated list"
   ]
  },
  {
   "cell_type": "markdown",
   "metadata": {},
   "source": [
    "We'll strip anything with an undefined group (but *not* an explicit group of \"other\") before saving, so the file is limited to projects that have been manually categorized."
   ]
  },
  {
   "cell_type": "code",
   "execution_count": 107,
   "metadata": {},
   "outputs": [],
   "source": [
    "(projects\n",
    ".query(\"project_group.notna()\")\n",
    "# Put this is a nice order for humans\n",
    ".sort_values(\"project_name\")\n",
    ".reset_index()\n",
    "[[\"project_name\", \"project_key\", \"project_group\"]]\n",
    "# For some reason, this doesn't overwrite the old file sometimes\n",
    ".to_csv(\"definitions/project-group-assignments.tsv\", sep = \"\\t\", index=False)\n",
    ")"
   ]
  }
 ],
 "metadata": {
  "kernelspec": {
   "display_name": "Python 3",
   "language": "python",
   "name": "python3"
  },
  "language_info": {
   "codemirror_mode": {
    "name": "ipython",
    "version": 3
   },
   "file_extension": ".py",
   "mimetype": "text/x-python",
   "name": "python",
   "nbconvert_exporter": "python",
   "pygments_lexer": "ipython3",
   "version": "3.7.3"
  }
 },
 "nbformat": 4,
 "nbformat_minor": 4
}
