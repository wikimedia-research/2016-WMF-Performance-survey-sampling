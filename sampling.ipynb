{
 "cells": [
  {
   "cell_type": "code",
   "execution_count": 1,
   "metadata": {
    "collapsed": false
   },
   "outputs": [],
   "source": [
    "import pywikibot as pwb"
   ]
  },
  {
   "cell_type": "code",
   "execution_count": 3,
   "metadata": {
    "collapsed": false
   },
   "outputs": [
    {
     "data": {
      "text/html": [
       "<div>\n",
       "<table border=\"1\" class=\"dataframe\">\n",
       "  <thead>\n",
       "    <tr style=\"text-align: right;\">\n",
       "      <th></th>\n",
       "      <th>user</th>\n",
       "      <th>home_wiki</th>\n",
       "      <th>global_edits</th>\n",
       "      <th>enwiki_edits</th>\n",
       "      <th>active_months</th>\n",
       "    </tr>\n",
       "  </thead>\n",
       "  <tbody>\n",
       "    <tr>\n",
       "      <th>0</th>\n",
       "      <td>! Bikkit !</td>\n",
       "      <td>dewiki</td>\n",
       "      <td>559.2</td>\n",
       "      <td>1.0</td>\n",
       "      <td>3</td>\n",
       "    </tr>\n",
       "    <tr>\n",
       "      <th>1</th>\n",
       "      <td>!NewLondon31</td>\n",
       "      <td>jawiki</td>\n",
       "      <td>46.0</td>\n",
       "      <td>1.0</td>\n",
       "      <td>2</td>\n",
       "    </tr>\n",
       "    <tr>\n",
       "      <th>2</th>\n",
       "      <td>!Silent</td>\n",
       "      <td>ptwiki</td>\n",
       "      <td>22349.8</td>\n",
       "      <td>2.0</td>\n",
       "      <td>3</td>\n",
       "    </tr>\n",
       "    <tr>\n",
       "      <th>3</th>\n",
       "      <td>\"Colorado Campeão\"!</td>\n",
       "      <td>ptwiki</td>\n",
       "      <td>422.0</td>\n",
       "      <td>4.0</td>\n",
       "      <td>3</td>\n",
       "    </tr>\n",
       "    <tr>\n",
       "      <th>4</th>\n",
       "      <td>\"quasi\" tuttologo</td>\n",
       "      <td>itwiki</td>\n",
       "      <td>115.0</td>\n",
       "      <td>1.0</td>\n",
       "      <td>3</td>\n",
       "    </tr>\n",
       "  </tbody>\n",
       "</table>\n",
       "</div>"
      ],
      "text/plain": [
       "                  user home_wiki  global_edits  enwiki_edits  active_months\n",
       "0           ! Bikkit !    dewiki         559.2           1.0              3\n",
       "1         !NewLondon31    jawiki          46.0           1.0              2\n",
       "2              !Silent    ptwiki       22349.8           2.0              3\n",
       "3  \"Colorado Campeão\"!    ptwiki         422.0           4.0              3\n",
       "4    \"quasi\" tuttologo    itwiki         115.0           1.0              3"
      ]
     },
     "execution_count": 3,
     "metadata": {},
     "output_type": "execute_result"
    }
   ],
   "source": [
    "frame = pd.read_csv(\"sampling-frame.tsv\", sep = \"\\t\")\n",
    "frame.head()"
   ]
  },
  {
   "cell_type": "code",
   "execution_count": 4,
   "metadata": {
    "collapsed": false
   },
   "outputs": [
    {
     "data": {
      "text/html": [
       "<div>\n",
       "<table border=\"1\" class=\"dataframe\">\n",
       "  <thead>\n",
       "    <tr style=\"text-align: right;\">\n",
       "      <th></th>\n",
       "      <th>code</th>\n",
       "      <th>audience</th>\n",
       "      <th>home_wiki</th>\n",
       "      <th>also_active_enwiki</th>\n",
       "      <th>min_sample</th>\n",
       "      <th>sample</th>\n",
       "      <th>population</th>\n",
       "    </tr>\n",
       "  </thead>\n",
       "  <tbody>\n",
       "    <tr>\n",
       "      <th>0</th>\n",
       "      <td>01-AEAR</td>\n",
       "      <td>AE</td>\n",
       "      <td>arwiki</td>\n",
       "      <td>0</td>\n",
       "      <td>150</td>\n",
       "      <td>225</td>\n",
       "      <td>NaN</td>\n",
       "    </tr>\n",
       "    <tr>\n",
       "      <th>1</th>\n",
       "      <td>02-AEZH</td>\n",
       "      <td>AE</td>\n",
       "      <td>zhwiki</td>\n",
       "      <td>0</td>\n",
       "      <td>150</td>\n",
       "      <td>225</td>\n",
       "      <td>NaN</td>\n",
       "    </tr>\n",
       "    <tr>\n",
       "      <th>2</th>\n",
       "      <td>03-AEFR</td>\n",
       "      <td>AE</td>\n",
       "      <td>frwiki</td>\n",
       "      <td>0</td>\n",
       "      <td>150</td>\n",
       "      <td>225</td>\n",
       "      <td>NaN</td>\n",
       "    </tr>\n",
       "    <tr>\n",
       "      <th>3</th>\n",
       "      <td>04-AEES</td>\n",
       "      <td>AE</td>\n",
       "      <td>eswiki</td>\n",
       "      <td>0</td>\n",
       "      <td>375</td>\n",
       "      <td>563</td>\n",
       "      <td>NaN</td>\n",
       "    </tr>\n",
       "    <tr>\n",
       "      <th>4</th>\n",
       "      <td>05-AERU</td>\n",
       "      <td>AE</td>\n",
       "      <td>ruwiki</td>\n",
       "      <td>0</td>\n",
       "      <td>150</td>\n",
       "      <td>225</td>\n",
       "      <td>NaN</td>\n",
       "    </tr>\n",
       "  </tbody>\n",
       "</table>\n",
       "</div>"
      ],
      "text/plain": [
       "      code audience home_wiki  also_active_enwiki  min_sample  sample  \\\n",
       "0  01-AEAR       AE    arwiki                   0         150     225   \n",
       "1  02-AEZH       AE    zhwiki                   0         150     225   \n",
       "2  03-AEFR       AE    frwiki                   0         150     225   \n",
       "3  04-AEES       AE    eswiki                   0         375     563   \n",
       "4  05-AERU       AE    ruwiki                   0         150     225   \n",
       "\n",
       "   population  \n",
       "0         NaN  \n",
       "1         NaN  \n",
       "2         NaN  \n",
       "3         NaN  \n",
       "4         NaN  "
      ]
     },
     "execution_count": 4,
     "metadata": {},
     "output_type": "execute_result"
    }
   ],
   "source": [
    "strata = pd.read_table(\"strata_definitions.tsv\")\n",
    "strata.head()"
   ]
  },
  {
   "cell_type": "code",
   "execution_count": 6,
   "metadata": {
    "collapsed": false
   },
   "outputs": [
    {
     "data": {
      "text/html": [
       "<div>\n",
       "<table border=\"1\" class=\"dataframe\">\n",
       "  <thead>\n",
       "    <tr style=\"text-align: right;\">\n",
       "      <th></th>\n",
       "      <th>project_key</th>\n",
       "      <th>group</th>\n",
       "    </tr>\n",
       "  </thead>\n",
       "  <tbody>\n",
       "    <tr>\n",
       "      <th>0</th>\n",
       "      <td>aawiki</td>\n",
       "      <td>ssa_wps</td>\n",
       "    </tr>\n",
       "    <tr>\n",
       "      <th>1</th>\n",
       "      <td>abwiki</td>\n",
       "      <td>mena_wps</td>\n",
       "    </tr>\n",
       "    <tr>\n",
       "      <th>2</th>\n",
       "      <td>acewiki</td>\n",
       "      <td>asia_wps</td>\n",
       "    </tr>\n",
       "    <tr>\n",
       "      <th>3</th>\n",
       "      <td>adywiki</td>\n",
       "      <td>cee_wps</td>\n",
       "    </tr>\n",
       "    <tr>\n",
       "      <th>4</th>\n",
       "      <td>afwiki</td>\n",
       "      <td>ssa_wps</td>\n",
       "    </tr>\n",
       "  </tbody>\n",
       "</table>\n",
       "</div>"
      ],
      "text/plain": [
       "  project_key     group\n",
       "0      aawiki   ssa_wps\n",
       "1      abwiki  mena_wps\n",
       "2     acewiki  asia_wps\n",
       "3     adywiki   cee_wps\n",
       "4      afwiki   ssa_wps"
      ]
     },
     "execution_count": 6,
     "metadata": {},
     "output_type": "execute_result"
    }
   ],
   "source": [
    "# Import without human-readable name column\n",
    "proj_groups = pd.read_table(\"project-groups.tsv\").drop(\"project_name\", axis = 1)\n",
    "\n",
    "proj_groups.head()"
   ]
  },
  {
   "cell_type": "code",
   "execution_count": 7,
   "metadata": {
    "collapsed": false
   },
   "outputs": [
    {
     "data": {
      "text/html": [
       "<div>\n",
       "<table border=\"1\" class=\"dataframe\">\n",
       "  <thead>\n",
       "    <tr style=\"text-align: right;\">\n",
       "      <th></th>\n",
       "      <th>user</th>\n",
       "      <th>home_wiki</th>\n",
       "      <th>global_edits</th>\n",
       "      <th>enwiki_edits</th>\n",
       "      <th>active_months</th>\n",
       "      <th>group</th>\n",
       "    </tr>\n",
       "  </thead>\n",
       "  <tbody>\n",
       "    <tr>\n",
       "      <th>0</th>\n",
       "      <td>! Bikkit !</td>\n",
       "      <td>dewiki</td>\n",
       "      <td>559.2</td>\n",
       "      <td>1.0</td>\n",
       "      <td>3</td>\n",
       "      <td>dewiki</td>\n",
       "    </tr>\n",
       "    <tr>\n",
       "      <th>1</th>\n",
       "      <td>!NewLondon31</td>\n",
       "      <td>jawiki</td>\n",
       "      <td>46.0</td>\n",
       "      <td>1.0</td>\n",
       "      <td>2</td>\n",
       "      <td>jawiki</td>\n",
       "    </tr>\n",
       "    <tr>\n",
       "      <th>2</th>\n",
       "      <td>!Silent</td>\n",
       "      <td>ptwiki</td>\n",
       "      <td>22349.8</td>\n",
       "      <td>2.0</td>\n",
       "      <td>3</td>\n",
       "      <td>ptwiki</td>\n",
       "    </tr>\n",
       "    <tr>\n",
       "      <th>3</th>\n",
       "      <td>\"Colorado Campeão\"!</td>\n",
       "      <td>ptwiki</td>\n",
       "      <td>422.0</td>\n",
       "      <td>4.0</td>\n",
       "      <td>3</td>\n",
       "      <td>ptwiki</td>\n",
       "    </tr>\n",
       "    <tr>\n",
       "      <th>4</th>\n",
       "      <td>\"quasi\" tuttologo</td>\n",
       "      <td>itwiki</td>\n",
       "      <td>115.0</td>\n",
       "      <td>1.0</td>\n",
       "      <td>3</td>\n",
       "      <td>itwiki</td>\n",
       "    </tr>\n",
       "  </tbody>\n",
       "</table>\n",
       "</div>"
      ],
      "text/plain": [
       "                  user home_wiki  global_edits  enwiki_edits  active_months  \\\n",
       "0           ! Bikkit !    dewiki         559.2           1.0              3   \n",
       "1         !NewLondon31    jawiki          46.0           1.0              2   \n",
       "2              !Silent    ptwiki       22349.8           2.0              3   \n",
       "3  \"Colorado Campeão\"!    ptwiki         422.0           4.0              3   \n",
       "4    \"quasi\" tuttologo    itwiki         115.0           1.0              3   \n",
       "\n",
       "    group  \n",
       "0  dewiki  \n",
       "1  jawiki  \n",
       "2  ptwiki  \n",
       "3  ptwiki  \n",
       "4  itwiki  "
      ]
     },
     "execution_count": 7,
     "metadata": {},
     "output_type": "execute_result"
    }
   ],
   "source": [
    "frame = frame.merge(proj_groups, how = \"left\", left_on = \"home_wiki\", right_on = \"project_key\" )\n",
    "frame = frame.drop(\"project_key\", axis = 1)\n",
    "frame.head()"
   ]
  },
  {
   "cell_type": "code",
   "execution_count": 16,
   "metadata": {
    "collapsed": false
   },
   "outputs": [],
   "source": [
    "# Any project not in project-groups.tsv is in the \"other\" group\n",
    "frame[\"group\"] = frame[\"group\"].fillna(\"other\")"
   ]
  },
  {
   "cell_type": "code",
   "execution_count": 17,
   "metadata": {
    "collapsed": false
   },
   "outputs": [
    {
     "data": {
      "text/plain": [
       "group\n",
       "arwiki        415\n",
       "asia_wps     1851\n",
       "cee_wps      3493\n",
       "commons      2641\n",
       "dewiki       3815\n",
       "enwiki      18126\n",
       "eswiki       2456\n",
       "frwiki       3097\n",
       "itwiki       1730\n",
       "jawiki       3198\n",
       "mena_wps     1621\n",
       "nlwiki        734\n",
       "other        1959\n",
       "ptwiki        964\n",
       "ruwiki       2340\n",
       "ssa_wps        57\n",
       "weur_wps     1784\n",
       "wikidata      336\n",
       "zhwiki       1879\n",
       "Name: user, dtype: int64"
      ]
     },
     "execution_count": 17,
     "metadata": {},
     "output_type": "execute_result"
    }
   ],
   "source": [
    "frame.groupby(\"group\")[\"user\"].count()"
   ]
  },
  {
   "cell_type": "code",
   "execution_count": 18,
   "metadata": {
    "collapsed": false
   },
   "outputs": [
    {
     "data": {
      "text/plain": [
       "True"
      ]
     },
     "execution_count": 18,
     "metadata": {},
     "output_type": "execute_result"
    }
   ],
   "source": [
    "# Are all our users are in a group?\n",
    "frame.groupby(\"group\")[\"user\"].count().sum() == len(frame[\"user\"])"
   ]
  },
  {
   "cell_type": "code",
   "execution_count": 19,
   "metadata": {
    "collapsed": false
   },
   "outputs": [
    {
     "data": {
      "text/plain": [
       "True"
      ]
     },
     "execution_count": 19,
     "metadata": {},
     "output_type": "execute_result"
    }
   ],
   "source": [
    "# Are there 19 groups like we want?\n",
    "frame[\"group\"].nunique() == 19"
   ]
  },
  {
   "cell_type": "code",
   "execution_count": 20,
   "metadata": {
    "collapsed": false
   },
   "outputs": [
    {
     "data": {
      "text/plain": [
       "[100, 600)          18953\n",
       "[1000, 10000)       13511\n",
       "[30, 100)           10068\n",
       "[600, 1000)          4529\n",
       "[10, 30)             2867\n",
       "[10000, 1200000)     2568\n",
       "[0, 10)                 0\n",
       "Name: binned_edits, dtype: int64"
      ]
     },
     "execution_count": 20,
     "metadata": {},
     "output_type": "execute_result"
    }
   ],
   "source": [
    "# Round the highest edit count up to the nearest hundred thousand,\n",
    "# in order to make a pretty edge for the top bin\n",
    "top_edge = int(np.ceil(frame[\"global_edits\"].max() / 100000) * 100000)\n",
    "\n",
    "edit_bins = [0, 10, 30, 100, 600, 1000, 10000, top_edge]\n",
    "\n",
    "frame[\"binned_edits\"] = pd.cut(frame[\"global_edits\"], edit_bins, right=False)\n",
    "\n",
    "frame[\"binned_edits\"].value_counts()"
   ]
  },
  {
   "cell_type": "markdown",
   "metadata": {},
   "source": [
    "# Code below not yet updated for 2018"
   ]
  },
  {
   "cell_type": "code",
   "execution_count": null,
   "metadata": {
    "collapsed": false
   },
   "outputs": [],
   "source": [
    "queries = []\n",
    "\n",
    "for stratum in strata.itertuples(index = False):\n",
    "    if stratum.audience == \"AE\":\n",
    "        query = \"global_edits < 600\"\n",
    "    else:\n",
    "        query = \"global_edits >= 600\"\n",
    "    \n",
    "    query += (\" & home_wiki.isin({})\".format(list(wiki_groups[stratum.home_wiki])))\n",
    "    \n",
    "    if stratum.home_wiki != \"enwiki\":\n",
    "        if stratum.also_active_enwiki:\n",
    "            query += \" & enwiki >= 30\"\n",
    "        else:\n",
    "            query += \" & (enwiki < 30 | enwiki.isnull())\"\n",
    "    \n",
    "    queries.append(query)\n",
    "    \n",
    "strata[\"query\"] = queries\n",
    "\n",
    "for query in strata[\"query\"][:5]:\n",
    "    print(query)"
   ]
  },
  {
   "cell_type": "code",
   "execution_count": null,
   "metadata": {
    "collapsed": false
   },
   "outputs": [],
   "source": [
    "def sample_stratum(stratum_query, sample_size):\n",
    "    \"\"\"\n",
    "    returns a tuple consisting of (1) the population count for that subgroup and\n",
    "    (2) a list of the sampled users in MassMessage format \n",
    "    \"\"\" \n",
    "    stratum = frame.query(stratum_query)\n",
    "    stratum_size = len(stratum)\n",
    "    \n",
    "    if sample_size == 0:\n",
    "        sample = None\n",
    "    elif sample_size > stratum_size:\n",
    "        sample = stratum[[\"user_name\", \"home_wiki\"]]\n",
    "    else:\n",
    "        sample = stratum.sample(n = sample_size)[[\"user_name\", \"home_wiki\"]]\n",
    "        \n",
    "    if sample is None:\n",
    "        sample_list = None\n",
    "    else:\n",
    "        sample_list = [\n",
    "            i for i in sample.itertuples(index = False, name = \"user\")\n",
    "        ]\n",
    "\n",
    "    return (stratum_size, sample_list)"
   ]
  },
  {
   "cell_type": "code",
   "execution_count": null,
   "metadata": {
    "collapsed": false
   },
   "outputs": [],
   "source": [
    "results = [[], []]\n",
    "\n",
    "for row in strata.itertuples(index = False):\n",
    "    size, sample = sample_stratum(row.query, row.sample)\n",
    "    results[0].append(size)\n",
    "    results[1].append(sample)\n",
    "    \n",
    "strata[\"population\"] = results[0]\n",
    "strata[\"sampled_users\"] = results[1]"
   ]
  },
  {
   "cell_type": "code",
   "execution_count": null,
   "metadata": {
    "collapsed": false
   },
   "outputs": [],
   "source": [
    "strata.tail(n = 20)"
   ]
  },
  {
   "cell_type": "code",
   "execution_count": null,
   "metadata": {
    "collapsed": false
   },
   "outputs": [],
   "source": [
    "domains = pd.read_table(\"site_domains.tsv\", index_col = 0)\n",
    "\n",
    "def lookup_domain(site_key):\n",
    "    return domains.loc[site_key, \"site_domain\"]\n",
    "\n",
    "domains.head()"
   ]
  },
  {
   "cell_type": "code",
   "execution_count": null,
   "metadata": {
    "collapsed": false,
    "scrolled": true
   },
   "outputs": [],
   "source": [
    "for row in strata.itertuples(index = False):\n",
    "    if row.sampled_users:\n",
    "        text = \"\"\n",
    "        for user in row.sampled_users:\n",
    "            text += \"* {{{{target | user = {} | site = {}}}}}\\n\".format(user[0], lookup_domain(user[1]))\n",
    "        site = pwb.Site()\n",
    "        page = pwb.Page(site, \"Community Engagement Insights/MassMessages/Lists/2016/\" + row.code)\n",
    "        page.text = text\n",
    "        page.save(u\"Upload a target list for the 2016 Performance Survey\", minor = False)"
   ]
  }
 ],
 "metadata": {
  "kernelspec": {
   "display_name": "Python 3",
   "language": "python",
   "name": "python3"
  },
  "language_info": {
   "codemirror_mode": {
    "name": "ipython",
    "version": 3
   },
   "file_extension": ".py",
   "mimetype": "text/x-python",
   "name": "python",
   "nbconvert_exporter": "python",
   "pygments_lexer": "ipython3",
   "version": "3.4.2"
  }
 },
 "nbformat": 4,
 "nbformat_minor": 1
}
