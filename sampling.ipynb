{
 "cells": [
  {
   "cell_type": "markdown",
   "metadata": {},
   "source": [
    "# Obtain samples of active editors"
   ]
  },
  {
   "cell_type": "code",
   "execution_count": 6,
   "metadata": {},
   "outputs": [],
   "source": [
    "import datetime as dt\n",
    "import re\n",
    "import json\n",
    "import time\n",
    "import pandas as pd\n",
    "import numpy as np\n"
   ]
  },
  {
   "cell_type": "code",
   "execution_count": 7,
   "metadata": {},
   "outputs": [],
   "source": [
    "frame = pd.read_csv(\"data/interim/sampling-frame.tsv\", sep = \"\\t\")"
   ]
  },
  {
   "cell_type": "markdown",
   "metadata": {},
   "source": [
    "# Set sample sizes"
   ]
  },
  {
   "cell_type": "code",
   "execution_count": 8,
   "metadata": {},
   "outputs": [
    {
     "data": {
      "text/html": [
       "<div>\n",
       "<style scoped>\n",
       "    .dataframe tbody tr th:only-of-type {\n",
       "        vertical-align: middle;\n",
       "    }\n",
       "\n",
       "    .dataframe tbody tr th {\n",
       "        vertical-align: top;\n",
       "    }\n",
       "\n",
       "    .dataframe thead th {\n",
       "        text-align: right;\n",
       "    }\n",
       "</style>\n",
       "<table border=\"1\" class=\"dataframe\">\n",
       "  <thead>\n",
       "    <tr style=\"text-align: right;\">\n",
       "      <th></th>\n",
       "      <th>sample_target</th>\n",
       "    </tr>\n",
       "    <tr>\n",
       "      <th>proj_group</th>\n",
       "      <th></th>\n",
       "    </tr>\n",
       "  </thead>\n",
       "  <tbody>\n",
       "    <tr>\n",
       "      <td>enwiki</td>\n",
       "      <td>912</td>\n",
       "    </tr>\n",
       "    <tr>\n",
       "      <td>arwiki</td>\n",
       "      <td>2716</td>\n",
       "    </tr>\n",
       "    <tr>\n",
       "      <td>zhwiki</td>\n",
       "      <td>271</td>\n",
       "    </tr>\n",
       "    <tr>\n",
       "      <td>frwiki</td>\n",
       "      <td>337</td>\n",
       "    </tr>\n",
       "    <tr>\n",
       "      <td>eswiki</td>\n",
       "      <td>1409</td>\n",
       "    </tr>\n",
       "  </tbody>\n",
       "</table>\n",
       "</div>"
      ],
      "text/plain": [
       "            sample_target\n",
       "proj_group               \n",
       "enwiki                912\n",
       "arwiki               2716\n",
       "zhwiki                271\n",
       "frwiki                337\n",
       "eswiki               1409"
      ]
     },
     "execution_count": 8,
     "metadata": {},
     "output_type": "execute_result"
    }
   ],
   "source": [
    "targets = pd.read_table(\"data/raw/project-group-sample-targets.tsv\").set_index(\"proj_group\")\n",
    "targets.head()"
   ]
  },
  {
   "cell_type": "code",
   "execution_count": 9,
   "metadata": {},
   "outputs": [],
   "source": [
    "# Round the highest edit count up to the nearest hundred thousand,\n",
    "# in order to make a pretty edge for the top bin\n",
    "top_edge = int(np.ceil(frame[\"global_edits\"].max() / 100000) * 100000)\n",
    "edit_bins = [10, 30, 150, 600, 1200, top_edge]\n",
    "frame[\"binned_edits\"] = pd.cut(frame[\"global_edits\"], edit_bins, right=False)"
   ]
  },
  {
   "cell_type": "code",
   "execution_count": 10,
   "metadata": {},
   "outputs": [],
   "source": [
    "#stratify sample \n",
    "strata_sizes = frame.groupby([\"project_group\", \"binned_edits\"]).size().unstack()\n",
    "\n",
    "group_sizes = frame.groupby([\"project_group\"]).size()\n",
    "strata_group_pcts = strata_sizes.divide(group_sizes, axis=0)\n",
    "\n",
    "strata_samples = (\n",
    "    strata_group_pcts\n",
    "    .multiply(targets.squeeze(), axis=0)\n",
    "    # Make sure we don't target fewer than 20 users per bin for privacy reasons\n",
    "    .clip(lower=20)\n",
    "    # Round up\n",
    "    .pipe(np.ceil)\n",
    "    .applymap(int)\n",
    "    # We can't sample more users than the bin actually contains\n",
    "    .clip(upper=strata_sizes)\n",
    ")"
   ]
  },
  {
   "cell_type": "code",
   "execution_count": 11,
   "metadata": {},
   "outputs": [
    {
     "data": {
      "text/html": [
       "<div>\n",
       "<style scoped>\n",
       "    .dataframe tbody tr th:only-of-type {\n",
       "        vertical-align: middle;\n",
       "    }\n",
       "\n",
       "    .dataframe tbody tr th {\n",
       "        vertical-align: top;\n",
       "    }\n",
       "\n",
       "    .dataframe thead th {\n",
       "        text-align: right;\n",
       "    }\n",
       "</style>\n",
       "<table border=\"1\" class=\"dataframe\">\n",
       "  <thead>\n",
       "    <tr style=\"text-align: right;\">\n",
       "      <th>binned_edits</th>\n",
       "      <th>[10, 30)</th>\n",
       "      <th>[30, 150)</th>\n",
       "      <th>[150, 600)</th>\n",
       "      <th>[600, 1200)</th>\n",
       "      <th>[1200, 700000)</th>\n",
       "    </tr>\n",
       "  </thead>\n",
       "  <tbody>\n",
       "    <tr>\n",
       "      <td>arwiki</td>\n",
       "      <td>31</td>\n",
       "      <td>97</td>\n",
       "      <td>47</td>\n",
       "      <td>21</td>\n",
       "      <td>40</td>\n",
       "    </tr>\n",
       "    <tr>\n",
       "      <td>asia_wps</td>\n",
       "      <td>41</td>\n",
       "      <td>174</td>\n",
       "      <td>138</td>\n",
       "      <td>51</td>\n",
       "      <td>101</td>\n",
       "    </tr>\n",
       "    <tr>\n",
       "      <td>cee_wps</td>\n",
       "      <td>45</td>\n",
       "      <td>185</td>\n",
       "      <td>190</td>\n",
       "      <td>85</td>\n",
       "      <td>215</td>\n",
       "    </tr>\n",
       "    <tr>\n",
       "      <td>commons</td>\n",
       "      <td>100</td>\n",
       "      <td>330</td>\n",
       "      <td>239</td>\n",
       "      <td>122</td>\n",
       "      <td>471</td>\n",
       "    </tr>\n",
       "    <tr>\n",
       "      <td>dewiki</td>\n",
       "      <td>20</td>\n",
       "      <td>20</td>\n",
       "      <td>20</td>\n",
       "      <td>20</td>\n",
       "      <td>20</td>\n",
       "    </tr>\n",
       "  </tbody>\n",
       "</table>\n",
       "</div>"
      ],
      "text/plain": [
       "binned_edits  [10, 30)  [30, 150)  [150, 600)  [600, 1200)  [1200, 700000)\n",
       "arwiki              31         97          47           21              40\n",
       "asia_wps            41        174         138           51             101\n",
       "cee_wps             45        185         190           85             215\n",
       "commons            100        330         239          122             471\n",
       "dewiki              20         20          20           20              20"
      ]
     },
     "execution_count": 11,
     "metadata": {},
     "output_type": "execute_result"
    }
   ],
   "source": [
    "strata_samples.head()"
   ]
  },
  {
   "cell_type": "code",
   "execution_count": 13,
   "metadata": {},
   "outputs": [
    {
     "data": {
      "text/html": [
       "<div>\n",
       "<style scoped>\n",
       "    .dataframe tbody tr th:only-of-type {\n",
       "        vertical-align: middle;\n",
       "    }\n",
       "\n",
       "    .dataframe tbody tr th {\n",
       "        vertical-align: top;\n",
       "    }\n",
       "\n",
       "    .dataframe thead th {\n",
       "        text-align: right;\n",
       "    }\n",
       "</style>\n",
       "<table border=\"1\" class=\"dataframe\">\n",
       "  <thead>\n",
       "    <tr style=\"text-align: right;\">\n",
       "      <th></th>\n",
       "      <th>project_group</th>\n",
       "      <th>edit_bin</th>\n",
       "      <th>sample_size</th>\n",
       "    </tr>\n",
       "  </thead>\n",
       "  <tbody>\n",
       "    <tr>\n",
       "      <td>0</td>\n",
       "      <td>arwiki</td>\n",
       "      <td>[10, 30)</td>\n",
       "      <td>31</td>\n",
       "    </tr>\n",
       "    <tr>\n",
       "      <td>1</td>\n",
       "      <td>arwiki</td>\n",
       "      <td>[30, 150)</td>\n",
       "      <td>97</td>\n",
       "    </tr>\n",
       "    <tr>\n",
       "      <td>2</td>\n",
       "      <td>arwiki</td>\n",
       "      <td>[150, 600)</td>\n",
       "      <td>47</td>\n",
       "    </tr>\n",
       "    <tr>\n",
       "      <td>3</td>\n",
       "      <td>arwiki</td>\n",
       "      <td>[600, 1200)</td>\n",
       "      <td>21</td>\n",
       "    </tr>\n",
       "    <tr>\n",
       "      <td>4</td>\n",
       "      <td>arwiki</td>\n",
       "      <td>[1200, 700000)</td>\n",
       "      <td>40</td>\n",
       "    </tr>\n",
       "  </tbody>\n",
       "</table>\n",
       "</div>"
      ],
      "text/plain": [
       "  project_group        edit_bin  sample_size\n",
       "0        arwiki        [10, 30)           31\n",
       "1        arwiki       [30, 150)           97\n",
       "2        arwiki      [150, 600)           47\n",
       "3        arwiki     [600, 1200)           21\n",
       "4        arwiki  [1200, 700000)           40"
      ]
     },
     "execution_count": 13,
     "metadata": {},
     "output_type": "execute_result"
    }
   ],
   "source": [
    "strata = pd.DataFrame(\n",
    "    strata_samples.stack()\n",
    ").reset_index()\n",
    "\n",
    "strata.columns = [\"project_group\", \"edit_bin\", \"sample_size\"]\n",
    "\n",
    "strata.head()"
   ]
  },
  {
   "cell_type": "code",
   "execution_count": 14,
   "metadata": {},
   "outputs": [],
   "source": [
    "# Ignore any groups where we couldn't sample the minimum 20 users, because of re-identification risk\n",
    "# In the 2019 edition, this is 3 groups\n",
    "idx = strata.index[strata[\"sample_size\"] < 20]\n",
    "\n",
    "strata.loc[idx, \"sample_size\"] = 0"
   ]
  },
  {
   "cell_type": "code",
   "execution_count": 15,
   "metadata": {},
   "outputs": [],
   "source": [
    "#set all dewiki groups to 0 since we are not sampling any users for this group\n",
    "\n",
    "idx = strata.index[strata[\"project_group\"] == 'dewiki']\n",
    "\n",
    "strata.loc[idx, \"sample_size\"] = 0"
   ]
  },
  {
   "cell_type": "markdown",
   "metadata": {},
   "source": [
    "# Pull samples"
   ]
  },
  {
   "cell_type": "code",
   "execution_count": 18,
   "metadata": {},
   "outputs": [],
   "source": [
    "def sample_stratum(stratum_query, sample_size):\n",
    "    \"\"\"\n",
    "    returns the sampled users as a list of (user, project_domain) tuples\n",
    "    \"\"\" \n",
    "    stratum = frame.query(stratum_query)\n",
    "    stratum_size = len(stratum)\n",
    "    \n",
    "    sample = stratum.sample(n = sample_size, random_state = 134)[[\"user\", \"home_proj\", \"user_email\", \"email_verification_date\"]]\n",
    "\n",
    "    sample_list = [\n",
    "        i for i in sample.itertuples(index = False, name = \"user\")\n",
    "    ]\n",
    "\n",
    "    return sample_list\n",
    "\n"
   ]
  },
  {
   "cell_type": "code",
   "execution_count": 19,
   "metadata": {},
   "outputs": [],
   "source": [
    "def sample_row(row):\n",
    "    query = \"project_group == '{pg}' & binned_edits == '{eb}'\".format(\n",
    "        pg = row.project_group,\n",
    "        eb = row.edit_bin\n",
    "    )\n",
    "    \n",
    "    return sample_stratum(query, row.sample_size)"
   ]
  },
  {
   "cell_type": "code",
   "execution_count": 20,
   "metadata": {},
   "outputs": [],
   "source": [
    "#change binned edits column in frame to string for comparison\n",
    "frame['binned_edits'] = frame['binned_edits'].astype(str)"
   ]
  },
  {
   "cell_type": "code",
   "execution_count": 21,
   "metadata": {},
   "outputs": [],
   "source": [
    "strata[\"sampled_users\"] = strata.apply(sample_row, axis = 1)"
   ]
  },
  {
   "cell_type": "code",
   "execution_count": 22,
   "metadata": {},
   "outputs": [
    {
     "data": {
      "text/plain": [
       "True    110\n",
       "dtype: int64"
      ]
     },
     "execution_count": 22,
     "metadata": {},
     "output_type": "execute_result"
    }
   ],
   "source": [
    "# Do all our strata have the correct number of sampled users?\n",
    "(strata[\"sample_size\"] == strata[\"sampled_users\"].map(len)).value_counts()"
   ]
  },
  {
   "cell_type": "markdown",
   "metadata": {},
   "source": [
    "# Create table of all sampled users "
   ]
  },
  {
   "cell_type": "code",
   "execution_count": 23,
   "metadata": {},
   "outputs": [],
   "source": [
    "# Convert table to desired format\n",
    "\n",
    "sampled_users = pd.DataFrame([], columns = [\"user_name\",\"home_project\", \"email_address\", \"email_verification_date\", \"project_group\", \"edit_bin\"])\n",
    "for strat in strata.values:\n",
    "    for user in strat[3]:\n",
    "        sampled_users = sampled_users.append(pd.Series([user[0],user[1],user[2], user[3], strat[0], strat[1]],index=sampled_users.columns),ignore_index=True)\n",
    "              "
   ]
  },
  {
   "cell_type": "code",
   "execution_count": 24,
   "metadata": {},
   "outputs": [],
   "source": [
    "#  check of length to ensure there are no duplicates\n",
    "sampled_users_len = len(sampled_users[\"user_name\"])"
   ]
  },
  {
   "cell_type": "code",
   "execution_count": 25,
   "metadata": {},
   "outputs": [
    {
     "data": {
      "text/plain": [
       "True"
      ]
     },
     "execution_count": 25,
     "metadata": {},
     "output_type": "execute_result"
    }
   ],
   "source": [
    "sampled_users.user_name.nunique() == sampled_users_len"
   ]
  },
  {
   "cell_type": "markdown",
   "metadata": {},
   "source": [
    "# Save samples table"
   ]
  },
  {
   "cell_type": "code",
   "execution_count": 26,
   "metadata": {},
   "outputs": [],
   "source": [
    "sampled_users.to_csv(\"data/interim/sampled_users.tsv\", sep = \"\\t\", index = False)"
   ]
  },
  {
   "cell_type": "code",
   "execution_count": null,
   "metadata": {},
   "outputs": [],
   "source": []
  }
 ],
 "metadata": {
  "kernelspec": {
   "display_name": "Python 3",
   "language": "python",
   "name": "python3"
  },
  "language_info": {
   "codemirror_mode": {
    "name": "ipython",
    "version": 3
   },
   "file_extension": ".py",
   "mimetype": "text/x-python",
   "name": "python",
   "nbconvert_exporter": "python",
   "pygments_lexer": "ipython3",
   "version": "3.5.3"
  }
 },
 "nbformat": 4,
 "nbformat_minor": 2
}
