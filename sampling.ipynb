{
 "cells": [
  {
   "cell_type": "code",
   "execution_count": 176,
   "metadata": {
    "collapsed": false
   },
   "outputs": [],
   "source": [
    "import pywikibot as pwb\n",
    "import datetime as dt"
   ]
  },
  {
   "cell_type": "code",
   "execution_count": 79,
   "metadata": {
    "collapsed": false
   },
   "outputs": [
    {
     "data": {
      "text/html": [
       "<div>\n",
       "<table border=\"1\" class=\"dataframe\">\n",
       "  <thead>\n",
       "    <tr style=\"text-align: right;\">\n",
       "      <th></th>\n",
       "      <th>user</th>\n",
       "      <th>home_proj</th>\n",
       "      <th>global_edits</th>\n",
       "      <th>proj_group</th>\n",
       "      <th>proj_domain</th>\n",
       "    </tr>\n",
       "  </thead>\n",
       "  <tbody>\n",
       "    <tr>\n",
       "      <th>0</th>\n",
       "      <td>! Bikkit !</td>\n",
       "      <td>dewiki</td>\n",
       "      <td>219.0</td>\n",
       "      <td>dewiki</td>\n",
       "      <td>de.wikipedia.org</td>\n",
       "    </tr>\n",
       "    <tr>\n",
       "      <th>1</th>\n",
       "      <td>!NewLondon31</td>\n",
       "      <td>jawiki</td>\n",
       "      <td>46.0</td>\n",
       "      <td>jawiki</td>\n",
       "      <td>ja.wikipedia.org</td>\n",
       "    </tr>\n",
       "    <tr>\n",
       "      <th>2</th>\n",
       "      <td>!Silent</td>\n",
       "      <td>ptwiki</td>\n",
       "      <td>20688.8</td>\n",
       "      <td>ptwiki</td>\n",
       "      <td>pt.wikipedia.org</td>\n",
       "    </tr>\n",
       "    <tr>\n",
       "      <th>3</th>\n",
       "      <td>\"Colorado Campeão\"!</td>\n",
       "      <td>ptwiki</td>\n",
       "      <td>417.0</td>\n",
       "      <td>ptwiki</td>\n",
       "      <td>pt.wikipedia.org</td>\n",
       "    </tr>\n",
       "    <tr>\n",
       "      <th>4</th>\n",
       "      <td>\"quasi\" tuttologo</td>\n",
       "      <td>itwiki</td>\n",
       "      <td>117.0</td>\n",
       "      <td>itwiki</td>\n",
       "      <td>it.wikipedia.org</td>\n",
       "    </tr>\n",
       "  </tbody>\n",
       "</table>\n",
       "</div>"
      ],
      "text/plain": [
       "                  user home_proj  global_edits proj_group       proj_domain\n",
       "0           ! Bikkit !    dewiki         219.0     dewiki  de.wikipedia.org\n",
       "1         !NewLondon31    jawiki          46.0     jawiki  ja.wikipedia.org\n",
       "2              !Silent    ptwiki       20688.8     ptwiki  pt.wikipedia.org\n",
       "3  \"Colorado Campeão\"!    ptwiki         417.0     ptwiki  pt.wikipedia.org\n",
       "4    \"quasi\" tuttologo    itwiki         117.0     itwiki  it.wikipedia.org"
      ]
     },
     "execution_count": 79,
     "metadata": {},
     "output_type": "execute_result"
    }
   ],
   "source": [
    "frame = pd.read_csv(\"sampling-frame.tsv\", sep = \"\\t\")\n",
    "frame.head()"
   ]
  },
  {
   "cell_type": "markdown",
   "metadata": {},
   "source": [
    "# Setting sample sizes"
   ]
  },
  {
   "cell_type": "code",
   "execution_count": 80,
   "metadata": {
    "collapsed": false
   },
   "outputs": [
    {
     "data": {
      "text/html": [
       "<div>\n",
       "<table border=\"1\" class=\"dataframe\">\n",
       "  <thead>\n",
       "    <tr style=\"text-align: right;\">\n",
       "      <th></th>\n",
       "      <th>sample_target</th>\n",
       "    </tr>\n",
       "    <tr>\n",
       "      <th>proj_group</th>\n",
       "      <th></th>\n",
       "    </tr>\n",
       "  </thead>\n",
       "  <tbody>\n",
       "    <tr>\n",
       "      <th>enwiki</th>\n",
       "      <td>900</td>\n",
       "    </tr>\n",
       "    <tr>\n",
       "      <th>arwiki</th>\n",
       "      <td>675</td>\n",
       "    </tr>\n",
       "    <tr>\n",
       "      <th>zhwiki</th>\n",
       "      <td>450</td>\n",
       "    </tr>\n",
       "    <tr>\n",
       "      <th>frwiki</th>\n",
       "      <td>450</td>\n",
       "    </tr>\n",
       "    <tr>\n",
       "      <th>eswiki</th>\n",
       "      <td>1125</td>\n",
       "    </tr>\n",
       "  </tbody>\n",
       "</table>\n",
       "</div>"
      ],
      "text/plain": [
       "            sample_target\n",
       "proj_group               \n",
       "enwiki                900\n",
       "arwiki                675\n",
       "zhwiki                450\n",
       "frwiki                450\n",
       "eswiki               1125"
      ]
     },
     "execution_count": 80,
     "metadata": {},
     "output_type": "execute_result"
    }
   ],
   "source": [
    "targets = pd.read_table(\"project-group-sample-targets.tsv\").set_index(\"proj_group\")\n",
    "targets.head()"
   ]
  },
  {
   "cell_type": "code",
   "execution_count": 82,
   "metadata": {
    "collapsed": false
   },
   "outputs": [],
   "source": [
    "# Round the highest edit count up to the nearest hundred thousand,\n",
    "# in order to make a pretty edge for the top bin\n",
    "top_edge = int(np.ceil(frame[\"global_edits\"].max() / 100000) * 100000)\n",
    "\n",
    "edit_bins = [10, 30, 150, 600, 1200, 3500, top_edge]\n",
    "\n",
    "frame[\"binned_edits\"] = pd.cut(frame[\"global_edits\"], edit_bins, right=False)"
   ]
  },
  {
   "cell_type": "code",
   "execution_count": 84,
   "metadata": {
    "collapsed": false
   },
   "outputs": [],
   "source": [
    "strata_sizes = frame.groupby([\"proj_group\", \"binned_edits\"]).size().unstack()"
   ]
  },
  {
   "cell_type": "code",
   "execution_count": 85,
   "metadata": {
    "collapsed": false
   },
   "outputs": [],
   "source": [
    "group_sizes = pd.DataFrame(frame.groupby([\"proj_group\"]).count()[\"user\"])"
   ]
  },
  {
   "cell_type": "code",
   "execution_count": 86,
   "metadata": {
    "collapsed": false
   },
   "outputs": [],
   "source": [
    "strata_group_pcts = np.divide(strata_sizes, group_sizes)"
   ]
  },
  {
   "cell_type": "code",
   "execution_count": 87,
   "metadata": {
    "collapsed": false
   },
   "outputs": [],
   "source": [
    "strata_targets = np.ceil(\n",
    "    # Make sure we don't target fewer than 20 users per bin for privacy reasons\n",
    "    np.maximum(\n",
    "        np.multiply(strata_group_pcts, targets),\n",
    "        20\n",
    "    )\n",
    ").apply(np.int64)"
   ]
  },
  {
   "cell_type": "code",
   "execution_count": 88,
   "metadata": {
    "collapsed": true
   },
   "outputs": [],
   "source": [
    "strata_samples = np.minimum(strata_targets, strata_sizes)"
   ]
  },
  {
   "cell_type": "code",
   "execution_count": 89,
   "metadata": {
    "collapsed": false
   },
   "outputs": [
    {
     "data": {
      "text/html": [
       "<div>\n",
       "<table border=\"1\" class=\"dataframe\">\n",
       "  <thead>\n",
       "    <tr style=\"text-align: right;\">\n",
       "      <th>binned_edits</th>\n",
       "      <th>[10, 30)</th>\n",
       "      <th>[30, 150)</th>\n",
       "      <th>[150, 600)</th>\n",
       "      <th>[600, 1200)</th>\n",
       "      <th>[1200, 3500)</th>\n",
       "      <th>[3500, 1100000)</th>\n",
       "    </tr>\n",
       "    <tr>\n",
       "      <th>proj_group</th>\n",
       "      <th></th>\n",
       "      <th></th>\n",
       "      <th></th>\n",
       "      <th></th>\n",
       "      <th></th>\n",
       "      <th></th>\n",
       "    </tr>\n",
       "  </thead>\n",
       "  <tbody>\n",
       "    <tr>\n",
       "      <th>arwiki</th>\n",
       "      <td>26</td>\n",
       "      <td>94</td>\n",
       "      <td>96</td>\n",
       "      <td>56</td>\n",
       "      <td>68</td>\n",
       "      <td>72</td>\n",
       "    </tr>\n",
       "    <tr>\n",
       "      <th>asia_wps</th>\n",
       "      <td>35</td>\n",
       "      <td>165</td>\n",
       "      <td>182</td>\n",
       "      <td>90</td>\n",
       "      <td>108</td>\n",
       "      <td>98</td>\n",
       "    </tr>\n",
       "    <tr>\n",
       "      <th>cee_wps</th>\n",
       "      <td>22</td>\n",
       "      <td>106</td>\n",
       "      <td>121</td>\n",
       "      <td>53</td>\n",
       "      <td>76</td>\n",
       "      <td>75</td>\n",
       "    </tr>\n",
       "    <tr>\n",
       "      <th>commons</th>\n",
       "      <td>20</td>\n",
       "      <td>53</td>\n",
       "      <td>84</td>\n",
       "      <td>51</td>\n",
       "      <td>88</td>\n",
       "      <td>166</td>\n",
       "    </tr>\n",
       "    <tr>\n",
       "      <th>dewiki</th>\n",
       "      <td>42</td>\n",
       "      <td>289</td>\n",
       "      <td>322</td>\n",
       "      <td>142</td>\n",
       "      <td>183</td>\n",
       "      <td>150</td>\n",
       "    </tr>\n",
       "    <tr>\n",
       "      <th>enwiki</th>\n",
       "      <td>28</td>\n",
       "      <td>143</td>\n",
       "      <td>133</td>\n",
       "      <td>49</td>\n",
       "      <td>54</td>\n",
       "      <td>46</td>\n",
       "    </tr>\n",
       "    <tr>\n",
       "      <th>eswiki</th>\n",
       "      <td>31</td>\n",
       "      <td>127</td>\n",
       "      <td>131</td>\n",
       "      <td>55</td>\n",
       "      <td>60</td>\n",
       "      <td>49</td>\n",
       "    </tr>\n",
       "    <tr>\n",
       "      <th>frwiki</th>\n",
       "      <td>65</td>\n",
       "      <td>298</td>\n",
       "      <td>303</td>\n",
       "      <td>137</td>\n",
       "      <td>166</td>\n",
       "      <td>159</td>\n",
       "    </tr>\n",
       "    <tr>\n",
       "      <th>itwiki</th>\n",
       "      <td>23</td>\n",
       "      <td>140</td>\n",
       "      <td>125</td>\n",
       "      <td>55</td>\n",
       "      <td>56</td>\n",
       "      <td>54</td>\n",
       "    </tr>\n",
       "    <tr>\n",
       "      <th>jawiki</th>\n",
       "      <td>30</td>\n",
       "      <td>172</td>\n",
       "      <td>143</td>\n",
       "      <td>47</td>\n",
       "      <td>44</td>\n",
       "      <td>20</td>\n",
       "    </tr>\n",
       "    <tr>\n",
       "      <th>meaf_wps</th>\n",
       "      <td>27</td>\n",
       "      <td>116</td>\n",
       "      <td>115</td>\n",
       "      <td>55</td>\n",
       "      <td>67</td>\n",
       "      <td>73</td>\n",
       "    </tr>\n",
       "    <tr>\n",
       "      <th>nlwiki</th>\n",
       "      <td>35</td>\n",
       "      <td>175</td>\n",
       "      <td>224</td>\n",
       "      <td>76</td>\n",
       "      <td>124</td>\n",
       "      <td>106</td>\n",
       "    </tr>\n",
       "    <tr>\n",
       "      <th>other</th>\n",
       "      <td>29</td>\n",
       "      <td>180</td>\n",
       "      <td>242</td>\n",
       "      <td>130</td>\n",
       "      <td>194</td>\n",
       "      <td>277</td>\n",
       "    </tr>\n",
       "    <tr>\n",
       "      <th>ptwiki</th>\n",
       "      <td>32</td>\n",
       "      <td>117</td>\n",
       "      <td>134</td>\n",
       "      <td>50</td>\n",
       "      <td>64</td>\n",
       "      <td>56</td>\n",
       "    </tr>\n",
       "    <tr>\n",
       "      <th>ruwiki</th>\n",
       "      <td>22</td>\n",
       "      <td>114</td>\n",
       "      <td>128</td>\n",
       "      <td>55</td>\n",
       "      <td>74</td>\n",
       "      <td>61</td>\n",
       "    </tr>\n",
       "    <tr>\n",
       "      <th>weur_wps</th>\n",
       "      <td>84</td>\n",
       "      <td>377</td>\n",
       "      <td>434</td>\n",
       "      <td>223</td>\n",
       "      <td>304</td>\n",
       "      <td>328</td>\n",
       "    </tr>\n",
       "    <tr>\n",
       "      <th>wikidata</th>\n",
       "      <td>8</td>\n",
       "      <td>48</td>\n",
       "      <td>64</td>\n",
       "      <td>35</td>\n",
       "      <td>50</td>\n",
       "      <td>141</td>\n",
       "    </tr>\n",
       "    <tr>\n",
       "      <th>zhwiki</th>\n",
       "      <td>106</td>\n",
       "      <td>523</td>\n",
       "      <td>596</td>\n",
       "      <td>230</td>\n",
       "      <td>215</td>\n",
       "      <td>206</td>\n",
       "    </tr>\n",
       "  </tbody>\n",
       "</table>\n",
       "</div>"
      ],
      "text/plain": [
       "binned_edits  [10, 30)  [30, 150)  [150, 600)  [600, 1200)  [1200, 3500)  \\\n",
       "proj_group                                                                 \n",
       "arwiki              26         94          96           56            68   \n",
       "asia_wps            35        165         182           90           108   \n",
       "cee_wps             22        106         121           53            76   \n",
       "commons             20         53          84           51            88   \n",
       "dewiki              42        289         322          142           183   \n",
       "enwiki              28        143         133           49            54   \n",
       "eswiki              31        127         131           55            60   \n",
       "frwiki              65        298         303          137           166   \n",
       "itwiki              23        140         125           55            56   \n",
       "jawiki              30        172         143           47            44   \n",
       "meaf_wps            27        116         115           55            67   \n",
       "nlwiki              35        175         224           76           124   \n",
       "other               29        180         242          130           194   \n",
       "ptwiki              32        117         134           50            64   \n",
       "ruwiki              22        114         128           55            74   \n",
       "weur_wps            84        377         434          223           304   \n",
       "wikidata             8         48          64           35            50   \n",
       "zhwiki             106        523         596          230           215   \n",
       "\n",
       "binned_edits  [3500, 1100000)  \n",
       "proj_group                     \n",
       "arwiki                     72  \n",
       "asia_wps                   98  \n",
       "cee_wps                    75  \n",
       "commons                   166  \n",
       "dewiki                    150  \n",
       "enwiki                     46  \n",
       "eswiki                     49  \n",
       "frwiki                    159  \n",
       "itwiki                     54  \n",
       "jawiki                     20  \n",
       "meaf_wps                   73  \n",
       "nlwiki                    106  \n",
       "other                     277  \n",
       "ptwiki                     56  \n",
       "ruwiki                     61  \n",
       "weur_wps                  328  \n",
       "wikidata                  141  \n",
       "zhwiki                    206  "
      ]
     },
     "execution_count": 89,
     "metadata": {},
     "output_type": "execute_result"
    }
   ],
   "source": [
    "strata_samples"
   ]
  },
  {
   "cell_type": "markdown",
   "metadata": {},
   "source": [
    "# Code below not yet updated for 2018"
   ]
  },
  {
   "cell_type": "code",
   "execution_count": 230,
   "metadata": {
    "collapsed": false
   },
   "outputs": [
    {
     "data": {
      "text/html": [
       "<div>\n",
       "<table border=\"1\" class=\"dataframe\">\n",
       "  <thead>\n",
       "    <tr style=\"text-align: right;\">\n",
       "      <th></th>\n",
       "      <th>proj_group</th>\n",
       "      <th>edit_bin</th>\n",
       "      <th>sample_size</th>\n",
       "    </tr>\n",
       "  </thead>\n",
       "  <tbody>\n",
       "    <tr>\n",
       "      <th>0</th>\n",
       "      <td>arwiki</td>\n",
       "      <td>[10, 30)</td>\n",
       "      <td>26</td>\n",
       "    </tr>\n",
       "    <tr>\n",
       "      <th>1</th>\n",
       "      <td>arwiki</td>\n",
       "      <td>[30, 150)</td>\n",
       "      <td>94</td>\n",
       "    </tr>\n",
       "    <tr>\n",
       "      <th>2</th>\n",
       "      <td>arwiki</td>\n",
       "      <td>[150, 600)</td>\n",
       "      <td>96</td>\n",
       "    </tr>\n",
       "    <tr>\n",
       "      <th>3</th>\n",
       "      <td>arwiki</td>\n",
       "      <td>[600, 1200)</td>\n",
       "      <td>56</td>\n",
       "    </tr>\n",
       "    <tr>\n",
       "      <th>4</th>\n",
       "      <td>arwiki</td>\n",
       "      <td>[1200, 3500)</td>\n",
       "      <td>68</td>\n",
       "    </tr>\n",
       "  </tbody>\n",
       "</table>\n",
       "</div>"
      ],
      "text/plain": [
       "  proj_group      edit_bin  sample_size\n",
       "0     arwiki      [10, 30)           26\n",
       "1     arwiki     [30, 150)           94\n",
       "2     arwiki    [150, 600)           96\n",
       "3     arwiki   [600, 1200)           56\n",
       "4     arwiki  [1200, 3500)           68"
      ]
     },
     "execution_count": 230,
     "metadata": {},
     "output_type": "execute_result"
    }
   ],
   "source": [
    "strata = pd.DataFrame(\n",
    "    strata_samples.stack()\n",
    ").reset_index()\n",
    "\n",
    "strata.columns = [\"proj_group\", \"edit_bin\", \"sample_size\"]\n",
    "\n",
    "strata.head()"
   ]
  },
  {
   "cell_type": "code",
   "execution_count": 248,
   "metadata": {
    "collapsed": false
   },
   "outputs": [],
   "source": [
    "# Ignore any groups where we couldn't sample the minimum 20 users, because of re-identification risk\n",
    "# In the 2018 edition, this is only 1 group\n",
    "idx = strata.index[strata[\"sample_size\"] < 20]\n",
    "\n",
    "strata.loc[idx, \"sample_size\"] = 0"
   ]
  },
  {
   "cell_type": "code",
   "execution_count": 251,
   "metadata": {
    "collapsed": false
   },
   "outputs": [],
   "source": [
    "def sample_stratum(stratum_query, sample_size):\n",
    "    \"\"\"\n",
    "    returns a list of the sampled users \n",
    "    \"\"\" \n",
    "    stratum = frame.query(stratum_query)\n",
    "    stratum_size = len(stratum)\n",
    "    \n",
    "    sample = stratum.sample(n = sample_size)[[\"user\", \"home_proj\"]]\n",
    "\n",
    "    sample_list = [\n",
    "        i for i in sample.itertuples(index = False, name = \"user\")\n",
    "    ]\n",
    "\n",
    "    return sample_list"
   ]
  },
  {
   "cell_type": "code",
   "execution_count": 252,
   "metadata": {
    "collapsed": false
   },
   "outputs": [],
   "source": [
    "results = []\n",
    "\n",
    "for row in strata.itertuples(index = False):\n",
    "    query = \"proj_group == '{pg}' & binned_edits == '{eb}'\".format(\n",
    "        pg = row.proj_group,\n",
    "        eb = row.edit_bin\n",
    "    )\n",
    "    \n",
    "    sample = sample_stratum(query, row.sample_size)\n",
    "    \n",
    "    results.append(sample)\n",
    "\n",
    "strata[\"sampled_users\"] = results"
   ]
  },
  {
   "cell_type": "code",
   "execution_count": 255,
   "metadata": {
    "collapsed": false
   },
   "outputs": [
    {
     "data": {
      "text/plain": [
       "True    108\n",
       "dtype: int64"
      ]
     },
     "execution_count": 255,
     "metadata": {},
     "output_type": "execute_result"
    }
   ],
   "source": [
    "# Do all our strata have the correct number of sampled users?\n",
    "(strata[\"sample_size\"] == strata[\"sampled_users\"].map(len)).value_counts()"
   ]
  },
  {
   "cell_type": "markdown",
   "metadata": {},
   "source": [
    "# Test Pywikibot access "
   ]
  },
  {
   "cell_type": "code",
   "execution_count": 177,
   "metadata": {
    "collapsed": false
   },
   "outputs": [
    {
     "name": "stderr",
     "output_type": "stream",
     "text": [
      "Page [[User:Neil P. Quinn-WMF/Pywikibot test]] saved\n"
     ]
    }
   ],
   "source": [
    "# Pywikibot automatically authenticates using your user-config.py file\n",
    "# See https://www.mediawiki.org/wiki/Manual:Pywikibot/user-config.py\n",
    "\n",
    "site = pwb.Site(\"meta\", \"meta\")\n",
    "\n",
    "username = site.user()\n",
    "\n",
    "page = pwb.Page(\n",
    "    site, \n",
    "    \"User:{user}/Pywikibot test\".format(user = username)\n",
    ")\n",
    "\n",
    "# If the page already exists, this will overwrite it\n",
    "page.text = (\"Pywikibot saved this page at \" + str(dt.datetime.now()) + \".\")\n",
    "page.save(u\"Test Pywikibot access\", minor = False)"
   ]
  },
  {
   "cell_type": "markdown",
   "metadata": {},
   "source": [
    "# Upload MassMessage lists"
   ]
  },
  {
   "cell_type": "code",
   "execution_count": null,
   "metadata": {
    "collapsed": false,
    "scrolled": true
   },
   "outputs": [],
   "source": [
    "for row in strata.itertuples(index = False):\n",
    "    # No need to upload a list if the group is being ignored\n",
    "    if len(row.sampled_users) > 0:\n",
    "        text = \"\"\n",
    "        for user in row.sampled_users:\n",
    "            text += \"* {{{{target | user = {} | site = {}}}}}\\n\".format(user[0], lookup_domain(user[1]))\n",
    "        \n",
    "\n",
    "        site = pwb.Site()\n",
    "        page = pwb.Page(site, \"Community Engagement Insights/MassMessages/Lists/2018/\" + row.code)\n",
    "        page.text = text\n",
    "        page.save(u\"Upload a target list for the 2018 editor survey\", minor = False)"
   ]
  }
 ],
 "metadata": {
  "kernelspec": {
   "display_name": "Python 3",
   "language": "python",
   "name": "python3"
  },
  "language_info": {
   "codemirror_mode": {
    "name": "ipython",
    "version": 3
   },
   "file_extension": ".py",
   "mimetype": "text/x-python",
   "name": "python",
   "nbconvert_exporter": "python",
   "pygments_lexer": "ipython3",
   "version": "3.4.2"
  }
 },
 "nbformat": 4,
 "nbformat_minor": 1
}
