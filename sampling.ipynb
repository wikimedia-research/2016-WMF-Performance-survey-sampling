{
 "cells": [
  {
   "cell_type": "markdown",
   "metadata": {},
   "source": [
    "# Obtain samples of active editors"
   ]
  },
  {
   "cell_type": "code",
   "execution_count": 1,
   "metadata": {},
   "outputs": [],
   "source": [
    "import datetime as dt\n",
    "import re\n",
    "import json\n",
    "import time\n",
    "import pandas as pd\n",
    "import numpy as np\n"
   ]
  },
  {
   "cell_type": "code",
   "execution_count": 2,
   "metadata": {},
   "outputs": [],
   "source": [
    "frame = pd.read_csv(\"data/interim/sampling-frame.tsv\", sep = \"\\t\")"
   ]
  },
  {
   "cell_type": "markdown",
   "metadata": {},
   "source": [
    "# Set sample sizes"
   ]
  },
  {
   "cell_type": "code",
   "execution_count": 3,
   "metadata": {},
   "outputs": [
    {
     "data": {
      "text/html": [
       "<div>\n",
       "<table border=\"1\" class=\"dataframe\">\n",
       "  <thead>\n",
       "    <tr style=\"text-align: right;\">\n",
       "      <th></th>\n",
       "      <th>sample_target</th>\n",
       "    </tr>\n",
       "    <tr>\n",
       "      <th>proj_group</th>\n",
       "      <th></th>\n",
       "    </tr>\n",
       "  </thead>\n",
       "  <tbody>\n",
       "    <tr>\n",
       "      <th>enwiki</th>\n",
       "      <td>900</td>\n",
       "    </tr>\n",
       "    <tr>\n",
       "      <th>arwiki</th>\n",
       "      <td>675</td>\n",
       "    </tr>\n",
       "    <tr>\n",
       "      <th>zhwiki</th>\n",
       "      <td>450</td>\n",
       "    </tr>\n",
       "    <tr>\n",
       "      <th>frwiki</th>\n",
       "      <td>450</td>\n",
       "    </tr>\n",
       "    <tr>\n",
       "      <th>eswiki</th>\n",
       "      <td>1125</td>\n",
       "    </tr>\n",
       "  </tbody>\n",
       "</table>\n",
       "</div>"
      ],
      "text/plain": [
       "            sample_target\n",
       "proj_group               \n",
       "enwiki                900\n",
       "arwiki                675\n",
       "zhwiki                450\n",
       "frwiki                450\n",
       "eswiki               1125"
      ]
     },
     "execution_count": 3,
     "metadata": {},
     "output_type": "execute_result"
    }
   ],
   "source": [
    "targets = pd.read_table(\"data/raw/project-group-sample-targets.tsv\").set_index(\"proj_group\")\n",
    "targets.head()"
   ]
  },
  {
   "cell_type": "code",
   "execution_count": 4,
   "metadata": {},
   "outputs": [],
   "source": [
    "# Round the highest edit count up to the nearest hundred thousand,\n",
    "# in order to make a pretty edge for the top bin\n",
    "top_edge = int(np.ceil(frame[\"global_edits\"].max() / 100000) * 100000)\n",
    "edit_bins = [10, 30, 150, 600, 1200, top_edge]\n",
    "frame[\"binned_edits\"] = pd.cut(frame[\"global_edits\"], edit_bins, right=False)"
   ]
  },
  {
   "cell_type": "code",
   "execution_count": 5,
   "metadata": {},
   "outputs": [],
   "source": [
    "strata_sizes = frame.groupby([\"project_group\", \"binned_edits\"]).size().unstack()\n",
    "\n",
    "group_sizes = frame.groupby([\"project_group\"]).size()\n",
    "strata_group_pcts = strata_sizes.divide(group_sizes, axis=0)\n",
    "\n",
    "strata_samples = (\n",
    "    strata_group_pcts\n",
    "    .multiply(targets.squeeze(), axis=0)\n",
    "    # Make sure we don't target fewer than 20 users per bin for privacy reasons\n",
    "    .clip(lower=20)\n",
    "    # Round up\n",
    "    .pipe(np.ceil)\n",
    "    .applymap(int)\n",
    "    # We can't sample more users than the bin actually contains\n",
    "    .clip(upper=strata_sizes)\n",
    ")"
   ]
  },
  {
   "cell_type": "code",
   "execution_count": 20,
   "metadata": {},
   "outputs": [
    {
     "data": {
      "text/html": [
       "<div>\n",
       "<table border=\"1\" class=\"dataframe\">\n",
       "  <thead>\n",
       "    <tr style=\"text-align: right;\">\n",
       "      <th>binned_edits</th>\n",
       "      <th>[10, 30)</th>\n",
       "      <th>[30, 150)</th>\n",
       "      <th>[150, 600)</th>\n",
       "      <th>[600, 1200)</th>\n",
       "      <th>[1200, 2600000)</th>\n",
       "    </tr>\n",
       "  </thead>\n",
       "  <tbody>\n",
       "    <tr>\n",
       "      <th>arwiki</th>\n",
       "      <td>50</td>\n",
       "      <td>116</td>\n",
       "      <td>99</td>\n",
       "      <td>40</td>\n",
       "      <td>124</td>\n",
       "    </tr>\n",
       "    <tr>\n",
       "      <th>asia_wps</th>\n",
       "      <td>29</td>\n",
       "      <td>106</td>\n",
       "      <td>110</td>\n",
       "      <td>59</td>\n",
       "      <td>149</td>\n",
       "    </tr>\n",
       "    <tr>\n",
       "      <th>cee_wps</th>\n",
       "      <td>55</td>\n",
       "      <td>256</td>\n",
       "      <td>267</td>\n",
       "      <td>130</td>\n",
       "      <td>346</td>\n",
       "    </tr>\n",
       "    <tr>\n",
       "      <th>commons</th>\n",
       "      <td>93</td>\n",
       "      <td>337</td>\n",
       "      <td>334</td>\n",
       "      <td>191</td>\n",
       "      <td>847</td>\n",
       "    </tr>\n",
       "    <tr>\n",
       "      <th>dewiki</th>\n",
       "      <td>20</td>\n",
       "      <td>105</td>\n",
       "      <td>130</td>\n",
       "      <td>61</td>\n",
       "      <td>138</td>\n",
       "    </tr>\n",
       "    <tr>\n",
       "      <th>enwiki</th>\n",
       "      <td>56</td>\n",
       "      <td>291</td>\n",
       "      <td>263</td>\n",
       "      <td>97</td>\n",
       "      <td>196</td>\n",
       "    </tr>\n",
       "    <tr>\n",
       "      <th>eswiki</th>\n",
       "      <td>91</td>\n",
       "      <td>335</td>\n",
       "      <td>315</td>\n",
       "      <td>135</td>\n",
       "      <td>251</td>\n",
       "    </tr>\n",
       "    <tr>\n",
       "      <th>frwiki</th>\n",
       "      <td>26</td>\n",
       "      <td>126</td>\n",
       "      <td>118</td>\n",
       "      <td>53</td>\n",
       "      <td>129</td>\n",
       "    </tr>\n",
       "    <tr>\n",
       "      <th>itwiki</th>\n",
       "      <td>29</td>\n",
       "      <td>124</td>\n",
       "      <td>123</td>\n",
       "      <td>51</td>\n",
       "      <td>125</td>\n",
       "    </tr>\n",
       "    <tr>\n",
       "      <th>jawiki</th>\n",
       "      <td>35</td>\n",
       "      <td>167</td>\n",
       "      <td>142</td>\n",
       "      <td>50</td>\n",
       "      <td>59</td>\n",
       "    </tr>\n",
       "    <tr>\n",
       "      <th>kowiki</th>\n",
       "      <td>20</td>\n",
       "      <td>36</td>\n",
       "      <td>43</td>\n",
       "      <td>20</td>\n",
       "      <td>42</td>\n",
       "    </tr>\n",
       "    <tr>\n",
       "      <th>malay_wps</th>\n",
       "      <td>20</td>\n",
       "      <td>46</td>\n",
       "      <td>38</td>\n",
       "      <td>20</td>\n",
       "      <td>35</td>\n",
       "    </tr>\n",
       "    <tr>\n",
       "      <th>meaf_wps</th>\n",
       "      <td>121</td>\n",
       "      <td>424</td>\n",
       "      <td>434</td>\n",
       "      <td>188</td>\n",
       "      <td>486</td>\n",
       "    </tr>\n",
       "    <tr>\n",
       "      <th>nlwiki</th>\n",
       "      <td>20</td>\n",
       "      <td>111</td>\n",
       "      <td>107</td>\n",
       "      <td>66</td>\n",
       "      <td>151</td>\n",
       "    </tr>\n",
       "    <tr>\n",
       "      <th>other</th>\n",
       "      <td>51</td>\n",
       "      <td>322</td>\n",
       "      <td>466</td>\n",
       "      <td>246</td>\n",
       "      <td>855</td>\n",
       "    </tr>\n",
       "    <tr>\n",
       "      <th>ptwiki</th>\n",
       "      <td>59</td>\n",
       "      <td>258</td>\n",
       "      <td>257</td>\n",
       "      <td>98</td>\n",
       "      <td>242</td>\n",
       "    </tr>\n",
       "    <tr>\n",
       "      <th>ruwiki</th>\n",
       "      <td>23</td>\n",
       "      <td>111</td>\n",
       "      <td>132</td>\n",
       "      <td>57</td>\n",
       "      <td>130</td>\n",
       "    </tr>\n",
       "    <tr>\n",
       "      <th>sasia_wps</th>\n",
       "      <td>10</td>\n",
       "      <td>50</td>\n",
       "      <td>41</td>\n",
       "      <td>15</td>\n",
       "      <td>72</td>\n",
       "    </tr>\n",
       "    <tr>\n",
       "      <th>viwiki</th>\n",
       "      <td>20</td>\n",
       "      <td>44</td>\n",
       "      <td>43</td>\n",
       "      <td>20</td>\n",
       "      <td>32</td>\n",
       "    </tr>\n",
       "    <tr>\n",
       "      <th>weur_wps</th>\n",
       "      <td>20</td>\n",
       "      <td>99</td>\n",
       "      <td>114</td>\n",
       "      <td>59</td>\n",
       "      <td>163</td>\n",
       "    </tr>\n",
       "    <tr>\n",
       "      <th>wikidata</th>\n",
       "      <td>16</td>\n",
       "      <td>63</td>\n",
       "      <td>83</td>\n",
       "      <td>38</td>\n",
       "      <td>237</td>\n",
       "    </tr>\n",
       "    <tr>\n",
       "      <th>zhwiki</th>\n",
       "      <td>23</td>\n",
       "      <td>124</td>\n",
       "      <td>149</td>\n",
       "      <td>52</td>\n",
       "      <td>105</td>\n",
       "    </tr>\n",
       "  </tbody>\n",
       "</table>\n",
       "</div>"
      ],
      "text/plain": [
       "binned_edits  [10, 30)  [30, 150)  [150, 600)  [600, 1200)  [1200, 2600000)\n",
       "arwiki              50        116          99           40              124\n",
       "asia_wps            29        106         110           59              149\n",
       "cee_wps             55        256         267          130              346\n",
       "commons             93        337         334          191              847\n",
       "dewiki              20        105         130           61              138\n",
       "enwiki              56        291         263           97              196\n",
       "eswiki              91        335         315          135              251\n",
       "frwiki              26        126         118           53              129\n",
       "itwiki              29        124         123           51              125\n",
       "jawiki              35        167         142           50               59\n",
       "kowiki              20         36          43           20               42\n",
       "malay_wps           20         46          38           20               35\n",
       "meaf_wps           121        424         434          188              486\n",
       "nlwiki              20        111         107           66              151\n",
       "other               51        322         466          246              855\n",
       "ptwiki              59        258         257           98              242\n",
       "ruwiki              23        111         132           57              130\n",
       "sasia_wps           10         50          41           15               72\n",
       "viwiki              20         44          43           20               32\n",
       "weur_wps            20         99         114           59              163\n",
       "wikidata            16         63          83           38              237\n",
       "zhwiki              23        124         149           52              105"
      ]
     },
     "execution_count": 20,
     "metadata": {},
     "output_type": "execute_result"
    }
   ],
   "source": [
    "strata_samples"
   ]
  },
  {
   "cell_type": "code",
   "execution_count": 6,
   "metadata": {},
   "outputs": [
    {
     "data": {
      "text/html": [
       "<div>\n",
       "<table border=\"1\" class=\"dataframe\">\n",
       "  <thead>\n",
       "    <tr style=\"text-align: right;\">\n",
       "      <th></th>\n",
       "      <th>project_group</th>\n",
       "      <th>edit_bin</th>\n",
       "      <th>sample_size</th>\n",
       "    </tr>\n",
       "  </thead>\n",
       "  <tbody>\n",
       "    <tr>\n",
       "      <th>0</th>\n",
       "      <td>arwiki</td>\n",
       "      <td>[10, 30)</td>\n",
       "      <td>50</td>\n",
       "    </tr>\n",
       "    <tr>\n",
       "      <th>1</th>\n",
       "      <td>arwiki</td>\n",
       "      <td>[30, 150)</td>\n",
       "      <td>116</td>\n",
       "    </tr>\n",
       "    <tr>\n",
       "      <th>2</th>\n",
       "      <td>arwiki</td>\n",
       "      <td>[150, 600)</td>\n",
       "      <td>99</td>\n",
       "    </tr>\n",
       "    <tr>\n",
       "      <th>3</th>\n",
       "      <td>arwiki</td>\n",
       "      <td>[600, 1200)</td>\n",
       "      <td>40</td>\n",
       "    </tr>\n",
       "    <tr>\n",
       "      <th>4</th>\n",
       "      <td>arwiki</td>\n",
       "      <td>[1200, 2600000)</td>\n",
       "      <td>124</td>\n",
       "    </tr>\n",
       "  </tbody>\n",
       "</table>\n",
       "</div>"
      ],
      "text/plain": [
       "  project_group         edit_bin  sample_size\n",
       "0        arwiki         [10, 30)           50\n",
       "1        arwiki        [30, 150)          116\n",
       "2        arwiki       [150, 600)           99\n",
       "3        arwiki      [600, 1200)           40\n",
       "4        arwiki  [1200, 2600000)          124"
      ]
     },
     "execution_count": 6,
     "metadata": {},
     "output_type": "execute_result"
    }
   ],
   "source": [
    "strata = pd.DataFrame(\n",
    "    strata_samples.stack()\n",
    ").reset_index()\n",
    "\n",
    "strata.columns = [\"project_group\", \"edit_bin\", \"sample_size\"]\n",
    "\n",
    "strata.head()"
   ]
  },
  {
   "cell_type": "code",
   "execution_count": 7,
   "metadata": {},
   "outputs": [],
   "source": [
    "# Ignore any groups where we couldn't sample the minimum 20 users, because of re-identification risk\n",
    "# In the 2019 edition, this is 3 groups\n",
    "idx = strata.index[strata[\"sample_size\"] < 20]\n",
    "\n",
    "strata.loc[idx, \"sample_size\"] = 0"
   ]
  },
  {
   "cell_type": "markdown",
   "metadata": {},
   "source": [
    "# Pull samples"
   ]
  },
  {
   "cell_type": "code",
   "execution_count": 8,
   "metadata": {},
   "outputs": [],
   "source": [
    "def sample_stratum(stratum_query, sample_size):\n",
    "    \"\"\"\n",
    "    returns the sampled users as a list of (user, project_domain) tuples\n",
    "    \"\"\" \n",
    "    stratum = frame.query(stratum_query)\n",
    "    stratum_size = len(stratum)\n",
    "    \n",
    "    sample = stratum.sample(n = sample_size, random_state = 123)[[\"user\", \"home_proj\", \"user_email\", \"email_verification_date\"]]\n",
    "\n",
    "    sample_list = [\n",
    "        i for i in sample.itertuples(index = False, name = \"user\")\n",
    "    ]\n",
    "\n",
    "    return sample_list"
   ]
  },
  {
   "cell_type": "code",
   "execution_count": 9,
   "metadata": {},
   "outputs": [],
   "source": [
    "def sample_row(row):\n",
    "    query = \"project_group == '{pg}' & binned_edits == '{eb}'\".format(\n",
    "        pg = row.project_group,\n",
    "        eb = row.edit_bin\n",
    "    )\n",
    "    \n",
    "    return sample_stratum(query, row.sample_size)"
   ]
  },
  {
   "cell_type": "code",
   "execution_count": 10,
   "metadata": {},
   "outputs": [],
   "source": [
    "strata[\"sampled_users\"] = strata.apply(sample_row, axis = 1)"
   ]
  },
  {
   "cell_type": "code",
   "execution_count": 11,
   "metadata": {},
   "outputs": [
    {
     "data": {
      "text/plain": [
       "True    110\n",
       "dtype: int64"
      ]
     },
     "execution_count": 11,
     "metadata": {},
     "output_type": "execute_result"
    }
   ],
   "source": [
    "# Do all our strata have the correct number of sampled users?\n",
    "(strata[\"sample_size\"] == strata[\"sampled_users\"].map(len)).value_counts()"
   ]
  },
  {
   "cell_type": "markdown",
   "metadata": {},
   "source": [
    "# Create table of all sampled users "
   ]
  },
  {
   "cell_type": "code",
   "execution_count": 12,
   "metadata": {},
   "outputs": [],
   "source": [
    "# Convert table to desired format\n",
    "\n",
    "sampled_users = pd.DataFrame([], columns = [\"user_name\",\"home_project\", \"email_address\", \"email_verification_date\", \"project_group\", \"edit_bin\"])\n",
    "for strat in strata.values:\n",
    "    for user in strat[3]:\n",
    "        sampled_users = sampled_users.append(pd.Series([user[0],user[1],user[2], user[3], strat[0], strat[1]],index=sampled_users.columns),ignore_index=True)\n",
    "              "
   ]
  },
  {
   "cell_type": "code",
   "execution_count": 13,
   "metadata": {},
   "outputs": [],
   "source": [
    "## Append the Program and Dashboard event leaders groups\n",
    "## Note: Output hidden due to inclusion of private info\n",
    "pe_users = pd.read_csv(\"data/interim/pe_users_table.tsv\", sep = \"\\t\")"
   ]
  },
  {
   "cell_type": "code",
   "execution_count": null,
   "metadata": {},
   "outputs": [],
   "source": [
    "#Reindex pe_users table to match sampled users\n",
    "## Note: Output hidden due to inclusion of private info\n",
    "column_titles = ['user_name', 'home_project', 'email_address', 'email_verification_date', 'project_group']\n",
    "pe_users.reindex(columns=column_titles)\n"
   ]
  },
  {
   "cell_type": "code",
   "execution_count": 15,
   "metadata": {},
   "outputs": [],
   "source": [
    "sampled_users_all = sampled_users.append(pe_users, ignore_index= True)"
   ]
  },
  {
   "cell_type": "code",
   "execution_count": 16,
   "metadata": {},
   "outputs": [],
   "source": [
    "# quick check of length to ensure the data frames were combined correctly\n",
    "sampled_users_all_len = len(sampled_users_all[\"user_name\"])"
   ]
  },
  {
   "cell_type": "code",
   "execution_count": 17,
   "metadata": {},
   "outputs": [
    {
     "data": {
      "text/plain": [
       "True"
      ]
     },
     "execution_count": 17,
     "metadata": {},
     "output_type": "execute_result"
    }
   ],
   "source": [
    "sampled_users_all.user_name.nunique() == sampled_users_all_len"
   ]
  },
  {
   "cell_type": "code",
   "execution_count": 18,
   "metadata": {},
   "outputs": [
    {
     "data": {
      "text/plain": [
       "True"
      ]
     },
     "execution_count": 18,
     "metadata": {},
     "output_type": "execute_result"
    }
   ],
   "source": [
    "# Do we have the users we want (1325 PE leaders + 14965 active editors from sample] = 16290\n",
    "sampled_users_all[\"user_name\"].nunique() == 16290"
   ]
  },
  {
   "cell_type": "markdown",
   "metadata": {},
   "source": [
    "# Save samples table"
   ]
  },
  {
   "cell_type": "code",
   "execution_count": 19,
   "metadata": {},
   "outputs": [],
   "source": [
    "sampled_users_all.to_csv(\"data/interim/sampled_users_all.tsv\", sep = \"\\t\", index = False)"
   ]
  },
  {
   "cell_type": "code",
   "execution_count": null,
   "metadata": {},
   "outputs": [],
   "source": []
  }
 ],
 "metadata": {
  "kernelspec": {
   "display_name": "Python 3",
   "language": "python",
   "name": "python3"
  },
  "language_info": {
   "codemirror_mode": {
    "name": "ipython",
    "version": 3
   },
   "file_extension": ".py",
   "mimetype": "text/x-python",
   "name": "python",
   "nbconvert_exporter": "python",
   "pygments_lexer": "ipython3",
   "version": "3.5.3"
  }
 },
 "nbformat": 4,
 "nbformat_minor": 2
}
