{
 "cells": [
  {
   "cell_type": "markdown",
   "metadata": {},
   "source": [
    "# Obtain samples of active editors"
   ]
  },
  {
   "cell_type": "code",
   "execution_count": 1,
   "metadata": {},
   "outputs": [],
   "source": [
    "import datetime as dt\n",
    "import re\n",
    "import json\n",
    "import time\n",
    "import pandas as pd\n",
    "import numpy as np\n"
   ]
  },
  {
   "cell_type": "code",
   "execution_count": 29,
   "metadata": {},
   "outputs": [],
   "source": [
    "frame = pd.read_csv(\"data/interim/sampling-frame.tsv\", sep = \"\\t\")"
   ]
  },
  {
   "cell_type": "markdown",
   "metadata": {},
   "source": [
    "# Set sample sizes"
   ]
  },
  {
   "cell_type": "code",
   "execution_count": 5,
   "metadata": {},
   "outputs": [
    {
     "data": {
      "text/html": [
       "<div>\n",
       "<table border=\"1\" class=\"dataframe\">\n",
       "  <thead>\n",
       "    <tr style=\"text-align: right;\">\n",
       "      <th></th>\n",
       "      <th>sample_target</th>\n",
       "    </tr>\n",
       "    <tr>\n",
       "      <th>proj_group</th>\n",
       "      <th></th>\n",
       "    </tr>\n",
       "  </thead>\n",
       "  <tbody>\n",
       "    <tr>\n",
       "      <th>enwiki</th>\n",
       "      <td>900</td>\n",
       "    </tr>\n",
       "    <tr>\n",
       "      <th>arwiki</th>\n",
       "      <td>675</td>\n",
       "    </tr>\n",
       "    <tr>\n",
       "      <th>zhwiki</th>\n",
       "      <td>450</td>\n",
       "    </tr>\n",
       "    <tr>\n",
       "      <th>frwiki</th>\n",
       "      <td>450</td>\n",
       "    </tr>\n",
       "    <tr>\n",
       "      <th>eswiki</th>\n",
       "      <td>1125</td>\n",
       "    </tr>\n",
       "  </tbody>\n",
       "</table>\n",
       "</div>"
      ],
      "text/plain": [
       "            sample_target\n",
       "proj_group               \n",
       "enwiki                900\n",
       "arwiki                675\n",
       "zhwiki                450\n",
       "frwiki                450\n",
       "eswiki               1125"
      ]
     },
     "execution_count": 5,
     "metadata": {},
     "output_type": "execute_result"
    }
   ],
   "source": [
    "targets = pd.read_table(\"data/raw/project-group-sample-targets.tsv\").set_index(\"proj_group\")\n",
    "targets.head()"
   ]
  },
  {
   "cell_type": "code",
   "execution_count": 6,
   "metadata": {},
   "outputs": [],
   "source": [
    "# Round the highest edit count up to the nearest hundred thousand,\n",
    "# in order to make a pretty edge for the top bin\n",
    "top_edge = int(np.ceil(frame[\"global_edits\"].max() / 100000) * 100000)\n",
    "edit_bins = [10, 30, 150, 600, 1200, top_edge]\n",
    "frame[\"binned_edits\"] = pd.cut(frame[\"global_edits\"], edit_bins, right=False)"
   ]
  },
  {
   "cell_type": "code",
   "execution_count": 7,
   "metadata": {},
   "outputs": [],
   "source": [
    "strata_sizes = frame.groupby([\"project_group\", \"binned_edits\"]).size().unstack()\n",
    "group_sizes = pd.DataFrame(frame.groupby([\"project_group\"]).count()[\"user\"])\n",
    "strata_group_pcts = np.divide(strata_sizes, group_sizes)\n",
    "strata_targets = np.ceil(\n",
    "    # Make sure we don't target fewer than 20 users per bin for privacy reasons\n",
    "    np.maximum(\n",
    "        np.multiply(strata_group_pcts, targets),\n",
    "        20\n",
    "    )\n",
    ").apply(np.int64)\n",
    "strata_samples = np.minimum(strata_targets, strata_sizes)"
   ]
  },
  {
   "cell_type": "code",
   "execution_count": 8,
   "metadata": {},
   "outputs": [
    {
     "data": {
      "text/html": [
       "<div>\n",
       "<table border=\"1\" class=\"dataframe\">\n",
       "  <thead>\n",
       "    <tr style=\"text-align: right;\">\n",
       "      <th>binned_edits</th>\n",
       "      <th>[10, 30)</th>\n",
       "      <th>[30, 150)</th>\n",
       "      <th>[150, 600)</th>\n",
       "      <th>[600, 1200)</th>\n",
       "      <th>[1200, 2600000)</th>\n",
       "    </tr>\n",
       "    <tr>\n",
       "      <th>project_group</th>\n",
       "      <th></th>\n",
       "      <th></th>\n",
       "      <th></th>\n",
       "      <th></th>\n",
       "      <th></th>\n",
       "    </tr>\n",
       "  </thead>\n",
       "  <tbody>\n",
       "    <tr>\n",
       "      <th>arwiki</th>\n",
       "      <td>50</td>\n",
       "      <td>116</td>\n",
       "      <td>99</td>\n",
       "      <td>40</td>\n",
       "      <td>124</td>\n",
       "    </tr>\n",
       "    <tr>\n",
       "      <th>asia_wps</th>\n",
       "      <td>43</td>\n",
       "      <td>158</td>\n",
       "      <td>165</td>\n",
       "      <td>88</td>\n",
       "      <td>224</td>\n",
       "    </tr>\n",
       "    <tr>\n",
       "      <th>cee_wps</th>\n",
       "      <td>24</td>\n",
       "      <td>110</td>\n",
       "      <td>115</td>\n",
       "      <td>56</td>\n",
       "      <td>149</td>\n",
       "    </tr>\n",
       "    <tr>\n",
       "      <th>commons</th>\n",
       "      <td>24</td>\n",
       "      <td>85</td>\n",
       "      <td>84</td>\n",
       "      <td>48</td>\n",
       "      <td>212</td>\n",
       "    </tr>\n",
       "    <tr>\n",
       "      <th>dewiki</th>\n",
       "      <td>45</td>\n",
       "      <td>263</td>\n",
       "      <td>325</td>\n",
       "      <td>151</td>\n",
       "      <td>343</td>\n",
       "    </tr>\n",
       "    <tr>\n",
       "      <th>enwiki</th>\n",
       "      <td>28</td>\n",
       "      <td>146</td>\n",
       "      <td>132</td>\n",
       "      <td>49</td>\n",
       "      <td>98</td>\n",
       "    </tr>\n",
       "    <tr>\n",
       "      <th>eswiki</th>\n",
       "      <td>37</td>\n",
       "      <td>134</td>\n",
       "      <td>126</td>\n",
       "      <td>54</td>\n",
       "      <td>101</td>\n",
       "    </tr>\n",
       "    <tr>\n",
       "      <th>frwiki</th>\n",
       "      <td>64</td>\n",
       "      <td>314</td>\n",
       "      <td>295</td>\n",
       "      <td>132</td>\n",
       "      <td>323</td>\n",
       "    </tr>\n",
       "    <tr>\n",
       "      <th>itwiki</th>\n",
       "      <td>29</td>\n",
       "      <td>124</td>\n",
       "      <td>123</td>\n",
       "      <td>51</td>\n",
       "      <td>125</td>\n",
       "    </tr>\n",
       "    <tr>\n",
       "      <th>jawiki</th>\n",
       "      <td>35</td>\n",
       "      <td>167</td>\n",
       "      <td>142</td>\n",
       "      <td>50</td>\n",
       "      <td>59</td>\n",
       "    </tr>\n",
       "    <tr>\n",
       "      <th>kowiki</th>\n",
       "      <td>36</td>\n",
       "      <td>100</td>\n",
       "      <td>120</td>\n",
       "      <td>52</td>\n",
       "      <td>116</td>\n",
       "    </tr>\n",
       "    <tr>\n",
       "      <th>malay_wps</th>\n",
       "      <td>33</td>\n",
       "      <td>113</td>\n",
       "      <td>93</td>\n",
       "      <td>44</td>\n",
       "      <td>86</td>\n",
       "    </tr>\n",
       "    <tr>\n",
       "      <th>meaf_wps</th>\n",
       "      <td>77</td>\n",
       "      <td>270</td>\n",
       "      <td>276</td>\n",
       "      <td>120</td>\n",
       "      <td>309</td>\n",
       "    </tr>\n",
       "    <tr>\n",
       "      <th>nlwiki</th>\n",
       "      <td>20</td>\n",
       "      <td>111</td>\n",
       "      <td>107</td>\n",
       "      <td>66</td>\n",
       "      <td>151</td>\n",
       "    </tr>\n",
       "    <tr>\n",
       "      <th>other</th>\n",
       "      <td>20</td>\n",
       "      <td>75</td>\n",
       "      <td>109</td>\n",
       "      <td>58</td>\n",
       "      <td>199</td>\n",
       "    </tr>\n",
       "    <tr>\n",
       "      <th>ptwiki</th>\n",
       "      <td>59</td>\n",
       "      <td>258</td>\n",
       "      <td>257</td>\n",
       "      <td>98</td>\n",
       "      <td>242</td>\n",
       "    </tr>\n",
       "    <tr>\n",
       "      <th>ruwiki</th>\n",
       "      <td>90</td>\n",
       "      <td>441</td>\n",
       "      <td>526</td>\n",
       "      <td>226</td>\n",
       "      <td>520</td>\n",
       "    </tr>\n",
       "    <tr>\n",
       "      <th>sasia_wps</th>\n",
       "      <td>10</td>\n",
       "      <td>50</td>\n",
       "      <td>41</td>\n",
       "      <td>15</td>\n",
       "      <td>72</td>\n",
       "    </tr>\n",
       "    <tr>\n",
       "      <th>viwiki</th>\n",
       "      <td>35</td>\n",
       "      <td>101</td>\n",
       "      <td>98</td>\n",
       "      <td>41</td>\n",
       "      <td>73</td>\n",
       "    </tr>\n",
       "    <tr>\n",
       "      <th>weur_wps</th>\n",
       "      <td>20</td>\n",
       "      <td>33</td>\n",
       "      <td>38</td>\n",
       "      <td>20</td>\n",
       "      <td>55</td>\n",
       "    </tr>\n",
       "    <tr>\n",
       "      <th>wikidata</th>\n",
       "      <td>16</td>\n",
       "      <td>22</td>\n",
       "      <td>29</td>\n",
       "      <td>20</td>\n",
       "      <td>82</td>\n",
       "    </tr>\n",
       "    <tr>\n",
       "      <th>zhwiki</th>\n",
       "      <td>20</td>\n",
       "      <td>42</td>\n",
       "      <td>50</td>\n",
       "      <td>20</td>\n",
       "      <td>35</td>\n",
       "    </tr>\n",
       "  </tbody>\n",
       "</table>\n",
       "</div>"
      ],
      "text/plain": [
       "binned_edits   [10, 30)  [30, 150)  [150, 600)  [600, 1200)  [1200, 2600000)\n",
       "project_group                                                               \n",
       "arwiki               50        116          99           40              124\n",
       "asia_wps             43        158         165           88              224\n",
       "cee_wps              24        110         115           56              149\n",
       "commons              24         85          84           48              212\n",
       "dewiki               45        263         325          151              343\n",
       "enwiki               28        146         132           49               98\n",
       "eswiki               37        134         126           54              101\n",
       "frwiki               64        314         295          132              323\n",
       "itwiki               29        124         123           51              125\n",
       "jawiki               35        167         142           50               59\n",
       "kowiki               36        100         120           52              116\n",
       "malay_wps            33        113          93           44               86\n",
       "meaf_wps             77        270         276          120              309\n",
       "nlwiki               20        111         107           66              151\n",
       "other                20         75         109           58              199\n",
       "ptwiki               59        258         257           98              242\n",
       "ruwiki               90        441         526          226              520\n",
       "sasia_wps            10         50          41           15               72\n",
       "viwiki               35        101          98           41               73\n",
       "weur_wps             20         33          38           20               55\n",
       "wikidata             16         22          29           20               82\n",
       "zhwiki               20         42          50           20               35"
      ]
     },
     "execution_count": 8,
     "metadata": {},
     "output_type": "execute_result"
    }
   ],
   "source": [
    "strata_samples"
   ]
  },
  {
   "cell_type": "code",
   "execution_count": 9,
   "metadata": {},
   "outputs": [
    {
     "data": {
      "text/html": [
       "<div>\n",
       "<table border=\"1\" class=\"dataframe\">\n",
       "  <thead>\n",
       "    <tr style=\"text-align: right;\">\n",
       "      <th></th>\n",
       "      <th>project_group</th>\n",
       "      <th>edit_bin</th>\n",
       "      <th>sample_size</th>\n",
       "    </tr>\n",
       "  </thead>\n",
       "  <tbody>\n",
       "    <tr>\n",
       "      <th>0</th>\n",
       "      <td>arwiki</td>\n",
       "      <td>[10, 30)</td>\n",
       "      <td>50</td>\n",
       "    </tr>\n",
       "    <tr>\n",
       "      <th>1</th>\n",
       "      <td>arwiki</td>\n",
       "      <td>[30, 150)</td>\n",
       "      <td>116</td>\n",
       "    </tr>\n",
       "    <tr>\n",
       "      <th>2</th>\n",
       "      <td>arwiki</td>\n",
       "      <td>[150, 600)</td>\n",
       "      <td>99</td>\n",
       "    </tr>\n",
       "    <tr>\n",
       "      <th>3</th>\n",
       "      <td>arwiki</td>\n",
       "      <td>[600, 1200)</td>\n",
       "      <td>40</td>\n",
       "    </tr>\n",
       "    <tr>\n",
       "      <th>4</th>\n",
       "      <td>arwiki</td>\n",
       "      <td>[1200, 2600000)</td>\n",
       "      <td>124</td>\n",
       "    </tr>\n",
       "  </tbody>\n",
       "</table>\n",
       "</div>"
      ],
      "text/plain": [
       "  project_group         edit_bin  sample_size\n",
       "0        arwiki         [10, 30)           50\n",
       "1        arwiki        [30, 150)          116\n",
       "2        arwiki       [150, 600)           99\n",
       "3        arwiki      [600, 1200)           40\n",
       "4        arwiki  [1200, 2600000)          124"
      ]
     },
     "execution_count": 9,
     "metadata": {},
     "output_type": "execute_result"
    }
   ],
   "source": [
    "strata = pd.DataFrame(\n",
    "    strata_samples.stack()\n",
    ").reset_index()\n",
    "\n",
    "strata.columns = [\"project_group\", \"edit_bin\", \"sample_size\"]\n",
    "\n",
    "strata.head()"
   ]
  },
  {
   "cell_type": "code",
   "execution_count": 10,
   "metadata": {},
   "outputs": [],
   "source": [
    "# Ignore any groups where we couldn't sample the minimum 20 users, because of re-identification risk\n",
    "# In the 2019 edition, this is 3 groups\n",
    "idx = strata.index[strata[\"sample_size\"] < 20]\n",
    "\n",
    "strata.loc[idx, \"sample_size\"] = 0"
   ]
  },
  {
   "cell_type": "markdown",
   "metadata": {},
   "source": [
    "# Pull samples"
   ]
  },
  {
   "cell_type": "code",
   "execution_count": 11,
   "metadata": {},
   "outputs": [],
   "source": [
    "def sample_stratum(stratum_query, sample_size):\n",
    "    \"\"\"\n",
    "    returns the sampled users as a list of (user, project_domain) tuples\n",
    "    \"\"\" \n",
    "    stratum = frame.query(stratum_query)\n",
    "    stratum_size = len(stratum)\n",
    "    \n",
    "    sample = stratum.sample(n = sample_size, random_state = 123)[[\"user\", \"home_proj\", \"user_email\", \"email_verification_date\"]]\n",
    "\n",
    "    sample_list = [\n",
    "        i for i in sample.itertuples(index = False, name = \"user\")\n",
    "    ]\n",
    "\n",
    "    return sample_list"
   ]
  },
  {
   "cell_type": "code",
   "execution_count": 12,
   "metadata": {},
   "outputs": [],
   "source": [
    "def sample_row(row):\n",
    "    query = \"project_group == '{pg}' & binned_edits == '{eb}'\".format(\n",
    "        pg = row.project_group,\n",
    "        eb = row.edit_bin\n",
    "    )\n",
    "    \n",
    "    return sample_stratum(query, row.sample_size)"
   ]
  },
  {
   "cell_type": "code",
   "execution_count": 13,
   "metadata": {},
   "outputs": [],
   "source": [
    "strata[\"sampled_users\"] = strata.apply(sample_row, axis = 1)"
   ]
  },
  {
   "cell_type": "code",
   "execution_count": 15,
   "metadata": {},
   "outputs": [
    {
     "data": {
      "text/plain": [
       "True    110\n",
       "dtype: int64"
      ]
     },
     "execution_count": 15,
     "metadata": {},
     "output_type": "execute_result"
    }
   ],
   "source": [
    "# Do all our strata have the correct number of sampled users?\n",
    "(strata[\"sample_size\"] == strata[\"sampled_users\"].map(len)).value_counts()"
   ]
  },
  {
   "cell_type": "markdown",
   "metadata": {},
   "source": [
    "# Create table of all sampled users "
   ]
  },
  {
   "cell_type": "code",
   "execution_count": 17,
   "metadata": {},
   "outputs": [],
   "source": [
    "# Convert table to desired format\n",
    "\n",
    "sampled_users = pd.DataFrame([], columns = [\"user_name\",\"home_project\", \"email_address\", \"email_verification_date\", \"project_group\", \"edit_bin\"])\n",
    "for strat in strata.values:\n",
    "    for user in strat[3]:\n",
    "        sampled_users = sampled_users.append(pd.Series([user[0],user[1],user[2], user[3], strat[0], strat[1]],index=sampled_users.columns),ignore_index=True)\n",
    "              "
   ]
  },
  {
   "cell_type": "code",
   "execution_count": null,
   "metadata": {},
   "outputs": [],
   "source": [
    "## Append the Program and Dashboard event leaders groups\n",
    "## Note: Output hidden due to inclusion of private info\n",
    "pe_users = pd.read_csv(\"data/interim/pe_users_table.tsv\", sep = \"\\t\")"
   ]
  },
  {
   "cell_type": "code",
   "execution_count": null,
   "metadata": {},
   "outputs": [],
   "source": [
    "#Reindex pe_users table to match sampled users\n",
    "## Note: Output hidden due to inclusion of private info\n",
    "column_titles = ['user_name', 'home_project', 'email_address', 'email_verification_date', 'project_group']\n",
    "pe_users.reindex(columns=column_titles)\n"
   ]
  },
  {
   "cell_type": "code",
   "execution_count": 21,
   "metadata": {},
   "outputs": [],
   "source": [
    "sampled_users_all = sampled_users.append(pe_users, ignore_index= True)"
   ]
  },
  {
   "cell_type": "code",
   "execution_count": 22,
   "metadata": {},
   "outputs": [],
   "source": [
    "# quick check of length to ensure the data frames were combined correctly\n",
    "sampled_users_all_len = len(sampled_users_all[\"user_name\"])"
   ]
  },
  {
   "cell_type": "code",
   "execution_count": 23,
   "metadata": {},
   "outputs": [
    {
     "data": {
      "text/plain": [
       "True"
      ]
     },
     "execution_count": 23,
     "metadata": {},
     "output_type": "execute_result"
    }
   ],
   "source": [
    "sampled_users_all.user_name.nunique() == sampled_users_all_len"
   ]
  },
  {
   "cell_type": "code",
   "execution_count": 26,
   "metadata": {},
   "outputs": [
    {
     "data": {
      "text/plain": [
       "True"
      ]
     },
     "execution_count": 26,
     "metadata": {},
     "output_type": "execute_result"
    }
   ],
   "source": [
    "# Do we have the users we want (1325 PE leaders + 12554 active editors from sample] = 13879\n",
    "sampled_users_all[\"user_name\"].nunique() == 13879"
   ]
  },
  {
   "cell_type": "markdown",
   "metadata": {},
   "source": [
    "# Save samples table"
   ]
  },
  {
   "cell_type": "code",
   "execution_count": 27,
   "metadata": {},
   "outputs": [],
   "source": [
    "sampled_users_all.to_csv(\"data/interim/sampled_users_all.tsv\", sep = \"\\t\", index = False)"
   ]
  }
 ],
 "metadata": {
  "kernelspec": {
   "display_name": "Python 3",
   "language": "python",
   "name": "python3"
  },
  "language_info": {
   "codemirror_mode": {
    "name": "ipython",
    "version": 3
   },
   "file_extension": ".py",
   "mimetype": "text/x-python",
   "name": "python",
   "nbconvert_exporter": "python",
   "pygments_lexer": "ipython3",
   "version": "3.5.3"
  }
 },
 "nbformat": 4,
 "nbformat_minor": 1
}
